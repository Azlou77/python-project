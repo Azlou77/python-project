{
 "cells": [
  {
   "cell_type": "markdown",
   "id": "bd2dd325",
   "metadata": {},
   "source": [
    "# Les bases de données"
   ]
  },
  {
   "cell_type": "raw",
   "id": "8dff8e98",
   "metadata": {},
   "source": [
    "Un des usages majeurs de Python correspond au traitement de données et à son analyse. \n",
    "Dans ce cours on se concentrera sur la librairie pandas pour faire du traitement de données. Puis nous verrons comment afficher les résultats obtenus.\n",
    "\n",
    "Une petite introduction à l'analyse de données sera faite. "
   ]
  },
  {
   "cell_type": "raw",
   "id": "8d0a826e",
   "metadata": {},
   "source": [
    "Voici l'ensemble des librairies dont on va se servir pendant ce cours : "
   ]
  },
  {
   "cell_type": "raw",
   "id": "4e572f9d",
   "metadata": {},
   "source": [
    "Mon adresse mail : boussena.md@gmail.com"
   ]
  },
  {
   "cell_type": "raw",
   "id": "e4529c6d",
   "metadata": {},
   "source": [
    "On peut aussi installer directement depuis le notebook !"
   ]
  },
  {
   "cell_type": "code",
   "execution_count": 1,
   "id": "01404325",
   "metadata": {},
   "outputs": [
    {
     "name": "stderr",
     "output_type": "stream",
     "text": [
      "No Python at '\"C:\\Users\\bouss\\AppData\\Local\\Programs\\Python\\Python311\\python.exe'\n"
     ]
    }
   ],
   "source": [
    "!pip install pandas"
   ]
  },
  {
   "cell_type": "code",
   "execution_count": 2,
   "id": "d3afece3",
   "metadata": {},
   "outputs": [],
   "source": [
    "#LIBRAIRIE UTILISEE (A INSTALLER)\n",
    "import pandas as pd\n",
    "import numpy as np \n",
    "import matplotlib\n",
    "import matplotlib.pyplot as plt"
   ]
  },
  {
   "cell_type": "code",
   "execution_count": 3,
   "id": "5dbe8229",
   "metadata": {},
   "outputs": [],
   "source": [
    "import datetime \n",
    "import random\n",
    "import sqlite3"
   ]
  },
  {
   "cell_type": "raw",
   "id": "3179ad68",
   "metadata": {},
   "source": [
    "#Pas besoin pour aujourd'hui \n",
    "import seaborn as sns\n",
    "import plotly "
   ]
  },
  {
   "cell_type": "markdown",
   "id": "1dc4d31c",
   "metadata": {},
   "source": [
    "# Création d’un DataFrame"
   ]
  },
  {
   "cell_type": "raw",
   "id": "f7d68339",
   "metadata": {},
   "source": [
    "D'une manière générale, un DataFrame correspond à une liste de dictionnaires qui partagent des clé communes. \n",
    "\n",
    "On a vu dans le cours précédent comment créer et remplir un dictionnaire d'éléments, et aussi le fonctionnement des listes."
   ]
  },
  {
   "cell_type": "raw",
   "id": "66a644b9",
   "metadata": {},
   "source": [
    "On commence donc par définir une fonction qui à un nom donné renvoie des notes entre 0 et 20 (avc possibilités d'avoir des notes en 0.5)"
   ]
  },
  {
   "cell_type": "code",
   "execution_count": 4,
   "id": "614c5865",
   "metadata": {},
   "outputs": [],
   "source": [
    "def notes_eleve(eleve):\n",
    "    note = {'nom' : eleve, 'Maths' : random.randint(0,40)/2,\n",
    "                \"Physique\" : random.randint(0,40)/2,\n",
    "                'SVT' : random.randint(0,40)/2,\n",
    "               'Français' : random.randint(0,40)/2}\n",
    "    return note"
   ]
  },
  {
   "cell_type": "code",
   "execution_count": 5,
   "id": "46f04600",
   "metadata": {},
   "outputs": [
    {
     "data": {
      "text/plain": [
       "{'nom': 'Mohamed',\n",
       " 'Maths': 0.0,\n",
       " 'Physique': 12.0,\n",
       " 'SVT': 17.5,\n",
       " 'Français': 5.0}"
      ]
     },
     "execution_count": 5,
     "metadata": {},
     "output_type": "execute_result"
    }
   ],
   "source": [
    "notes_eleve(\"Mohamed\")"
   ]
  },
  {
   "cell_type": "raw",
   "id": "3f005d34",
   "metadata": {},
   "source": [
    "On crée ensuite notre liste de dictionnaires : "
   ]
  },
  {
   "cell_type": "code",
   "execution_count": 6,
   "id": "6daf256e",
   "metadata": {
    "scrolled": true
   },
   "outputs": [
    {
     "data": {
      "text/plain": [
       "[{'nom': 'Emile',\n",
       "  'Maths': 7.0,\n",
       "  'Physique': 16.5,\n",
       "  'SVT': 17.5,\n",
       "  'Français': 2.0},\n",
       " {'nom': 'Joseph',\n",
       "  'Maths': 9.5,\n",
       "  'Physique': 16.5,\n",
       "  'SVT': 5.5,\n",
       "  'Français': 2.5},\n",
       " {'nom': 'Patrick',\n",
       "  'Maths': 18.5,\n",
       "  'Physique': 3.5,\n",
       "  'SVT': 8.5,\n",
       "  'Français': 15.5},\n",
       " {'nom': 'Léa', 'Maths': 2.5, 'Physique': 3.0, 'SVT': 13.0, 'Français': 10.5},\n",
       " {'nom': 'Andrew',\n",
       "  'Maths': 0.5,\n",
       "  'Physique': 6.5,\n",
       "  'SVT': 19.5,\n",
       "  'Français': 15.0},\n",
       " {'nom': 'Johanna',\n",
       "  'Maths': 10.0,\n",
       "  'Physique': 0.0,\n",
       "  'SVT': 2.0,\n",
       "  'Français': 11.0}]"
      ]
     },
     "execution_count": 6,
     "metadata": {},
     "output_type": "execute_result"
    }
   ],
   "source": [
    "Liste_prenom = [\"Emile\",\"Joseph\",\"Patrick\",\"Léa\",\"Andrew\",\"Johanna\"]\n",
    "data_note = []\n",
    "for x in Liste_prenom: \n",
    "    data_note.append(notes_eleve(x))\n",
    "data_note"
   ]
  },
  {
   "cell_type": "code",
   "execution_count": 7,
   "id": "2022a038",
   "metadata": {},
   "outputs": [
    {
     "data": {
      "text/plain": [
       "[{'nom': 'Emile',\n",
       "  'Maths': 5.5,\n",
       "  'Physique': 16.5,\n",
       "  'SVT': 20.0,\n",
       "  'Français': 4.5},\n",
       " {'nom': 'Joseph',\n",
       "  'Maths': 17.0,\n",
       "  'Physique': 0.0,\n",
       "  'SVT': 11.5,\n",
       "  'Français': 8.0},\n",
       " {'nom': 'Patrick',\n",
       "  'Maths': 6.5,\n",
       "  'Physique': 1.0,\n",
       "  'SVT': 15.0,\n",
       "  'Français': 0.5},\n",
       " {'nom': 'Léa',\n",
       "  'Maths': 14.5,\n",
       "  'Physique': 16.5,\n",
       "  'SVT': 20.0,\n",
       "  'Français': 12.0},\n",
       " {'nom': 'Andrew', 'Maths': 8.0, 'Physique': 4.0, 'SVT': 7.5, 'Français': 6.0},\n",
       " {'nom': 'Johanna',\n",
       "  'Maths': 18.5,\n",
       "  'Physique': 2.0,\n",
       "  'SVT': 7.0,\n",
       "  'Français': 2.5}]"
      ]
     },
     "execution_count": 7,
     "metadata": {},
     "output_type": "execute_result"
    }
   ],
   "source": [
    "Liste_prenom = [\"Emile\",\"Joseph\",\"Patrick\",\"Léa\",\"Andrew\",\"Johanna\"]\n",
    "data_note = [notes_eleve(x) for x in Liste_prenom]\n",
    "data_note"
   ]
  },
  {
   "cell_type": "code",
   "execution_count": 8,
   "id": "9411782d",
   "metadata": {},
   "outputs": [
    {
     "data": {
      "text/html": [
       "<div>\n",
       "<style scoped>\n",
       "    .dataframe tbody tr th:only-of-type {\n",
       "        vertical-align: middle;\n",
       "    }\n",
       "\n",
       "    .dataframe tbody tr th {\n",
       "        vertical-align: top;\n",
       "    }\n",
       "\n",
       "    .dataframe thead th {\n",
       "        text-align: right;\n",
       "    }\n",
       "</style>\n",
       "<table border=\"1\" class=\"dataframe\">\n",
       "  <thead>\n",
       "    <tr style=\"text-align: right;\">\n",
       "      <th></th>\n",
       "      <th>nom</th>\n",
       "      <th>Maths</th>\n",
       "      <th>Physique</th>\n",
       "      <th>SVT</th>\n",
       "      <th>Français</th>\n",
       "    </tr>\n",
       "  </thead>\n",
       "  <tbody>\n",
       "    <tr>\n",
       "      <th>0</th>\n",
       "      <td>Emile</td>\n",
       "      <td>5.5</td>\n",
       "      <td>16.5</td>\n",
       "      <td>20.0</td>\n",
       "      <td>4.5</td>\n",
       "    </tr>\n",
       "    <tr>\n",
       "      <th>1</th>\n",
       "      <td>Joseph</td>\n",
       "      <td>17.0</td>\n",
       "      <td>0.0</td>\n",
       "      <td>11.5</td>\n",
       "      <td>8.0</td>\n",
       "    </tr>\n",
       "    <tr>\n",
       "      <th>2</th>\n",
       "      <td>Patrick</td>\n",
       "      <td>6.5</td>\n",
       "      <td>1.0</td>\n",
       "      <td>15.0</td>\n",
       "      <td>0.5</td>\n",
       "    </tr>\n",
       "    <tr>\n",
       "      <th>3</th>\n",
       "      <td>Léa</td>\n",
       "      <td>14.5</td>\n",
       "      <td>16.5</td>\n",
       "      <td>20.0</td>\n",
       "      <td>12.0</td>\n",
       "    </tr>\n",
       "    <tr>\n",
       "      <th>4</th>\n",
       "      <td>Andrew</td>\n",
       "      <td>8.0</td>\n",
       "      <td>4.0</td>\n",
       "      <td>7.5</td>\n",
       "      <td>6.0</td>\n",
       "    </tr>\n",
       "    <tr>\n",
       "      <th>5</th>\n",
       "      <td>Johanna</td>\n",
       "      <td>18.5</td>\n",
       "      <td>2.0</td>\n",
       "      <td>7.0</td>\n",
       "      <td>2.5</td>\n",
       "    </tr>\n",
       "  </tbody>\n",
       "</table>\n",
       "</div>"
      ],
      "text/plain": [
       "       nom  Maths  Physique   SVT  Français\n",
       "0    Emile    5.5      16.5  20.0       4.5\n",
       "1   Joseph   17.0       0.0  11.5       8.0\n",
       "2  Patrick    6.5       1.0  15.0       0.5\n",
       "3      Léa   14.5      16.5  20.0      12.0\n",
       "4   Andrew    8.0       4.0   7.5       6.0\n",
       "5  Johanna   18.5       2.0   7.0       2.5"
      ]
     },
     "execution_count": 8,
     "metadata": {},
     "output_type": "execute_result"
    }
   ],
   "source": [
    "df_note = pd.DataFrame(data_note)\n",
    "df_note"
   ]
  },
  {
   "cell_type": "code",
   "execution_count": 9,
   "id": "89bb803c",
   "metadata": {},
   "outputs": [],
   "source": [
    "import pandas as pd"
   ]
  },
  {
   "cell_type": "code",
   "execution_count": 10,
   "id": "12a7523d",
   "metadata": {},
   "outputs": [
    {
     "data": {
      "text/html": [
       "<div>\n",
       "<style scoped>\n",
       "    .dataframe tbody tr th:only-of-type {\n",
       "        vertical-align: middle;\n",
       "    }\n",
       "\n",
       "    .dataframe tbody tr th {\n",
       "        vertical-align: top;\n",
       "    }\n",
       "\n",
       "    .dataframe thead th {\n",
       "        text-align: right;\n",
       "    }\n",
       "</style>\n",
       "<table border=\"1\" class=\"dataframe\">\n",
       "  <thead>\n",
       "    <tr style=\"text-align: right;\">\n",
       "      <th></th>\n",
       "      <th>nom</th>\n",
       "      <th>Maths</th>\n",
       "      <th>Physique</th>\n",
       "      <th>SVT</th>\n",
       "      <th>Français</th>\n",
       "    </tr>\n",
       "  </thead>\n",
       "  <tbody>\n",
       "    <tr>\n",
       "      <th>0</th>\n",
       "      <td>Emile</td>\n",
       "      <td>5.5</td>\n",
       "      <td>16.5</td>\n",
       "      <td>20.0</td>\n",
       "      <td>4.5</td>\n",
       "    </tr>\n",
       "    <tr>\n",
       "      <th>1</th>\n",
       "      <td>Joseph</td>\n",
       "      <td>17.0</td>\n",
       "      <td>0.0</td>\n",
       "      <td>11.5</td>\n",
       "      <td>8.0</td>\n",
       "    </tr>\n",
       "    <tr>\n",
       "      <th>2</th>\n",
       "      <td>Patrick</td>\n",
       "      <td>6.5</td>\n",
       "      <td>1.0</td>\n",
       "      <td>15.0</td>\n",
       "      <td>0.5</td>\n",
       "    </tr>\n",
       "    <tr>\n",
       "      <th>3</th>\n",
       "      <td>Léa</td>\n",
       "      <td>14.5</td>\n",
       "      <td>16.5</td>\n",
       "      <td>20.0</td>\n",
       "      <td>12.0</td>\n",
       "    </tr>\n",
       "    <tr>\n",
       "      <th>4</th>\n",
       "      <td>Andrew</td>\n",
       "      <td>8.0</td>\n",
       "      <td>4.0</td>\n",
       "      <td>7.5</td>\n",
       "      <td>6.0</td>\n",
       "    </tr>\n",
       "    <tr>\n",
       "      <th>5</th>\n",
       "      <td>Johanna</td>\n",
       "      <td>18.5</td>\n",
       "      <td>2.0</td>\n",
       "      <td>7.0</td>\n",
       "      <td>2.5</td>\n",
       "    </tr>\n",
       "  </tbody>\n",
       "</table>\n",
       "</div>"
      ],
      "text/plain": [
       "       nom  Maths  Physique   SVT  Français\n",
       "0    Emile    5.5      16.5  20.0       4.5\n",
       "1   Joseph   17.0       0.0  11.5       8.0\n",
       "2  Patrick    6.5       1.0  15.0       0.5\n",
       "3      Léa   14.5      16.5  20.0      12.0\n",
       "4   Andrew    8.0       4.0   7.5       6.0\n",
       "5  Johanna   18.5       2.0   7.0       2.5"
      ]
     },
     "execution_count": 10,
     "metadata": {},
     "output_type": "execute_result"
    }
   ],
   "source": [
    "pd.DataFrame(data_note)"
   ]
  },
  {
   "cell_type": "code",
   "execution_count": 11,
   "id": "08d4c2cc",
   "metadata": {},
   "outputs": [],
   "source": [
    "def notes_eleve_2(list_eleve):\n",
    "    labels = ['nom', 'Maths', 'Physique', 'SVT', 'Français']\n",
    "    note = {}\n",
    "    for j in labels :\n",
    "        note[j] = {}\n",
    "    for i in range(len(list_eleve)):\n",
    "        for j in labels:\n",
    "            if j == \"nom\":\n",
    "                note[j][i] = list_eleve[i]\n",
    "            else : \n",
    "                note[j][i] = random.randint(0,40)/2\n",
    "    return note"
   ]
  },
  {
   "cell_type": "code",
   "execution_count": 12,
   "id": "4395f21f",
   "metadata": {},
   "outputs": [
    {
     "data": {
      "text/plain": [
       "{'nom': {0: 'Emile',\n",
       "  1: 'Joseph',\n",
       "  2: 'Patrick',\n",
       "  3: 'Léa',\n",
       "  4: 'Andrew',\n",
       "  5: 'Johanna'},\n",
       " 'Maths': {0: 10.5, 1: 0.0, 2: 14.0, 3: 9.5, 4: 5.0, 5: 15.0},\n",
       " 'Physique': {0: 6.5, 1: 13.5, 2: 15.5, 3: 8.5, 4: 14.5, 5: 17.5},\n",
       " 'SVT': {0: 2.5, 1: 15.5, 2: 13.5, 3: 8.5, 4: 3.5, 5: 15.0},\n",
       " 'Français': {0: 15.5, 1: 8.5, 2: 2.5, 3: 3.0, 4: 1.5, 5: 5.0}}"
      ]
     },
     "execution_count": 12,
     "metadata": {},
     "output_type": "execute_result"
    }
   ],
   "source": [
    "data_note2 = notes_eleve_2([\"Emile\",\"Joseph\",\"Patrick\",\"Léa\",\"Andrew\",\"Johanna\"])\n",
    "data_note2"
   ]
  },
  {
   "cell_type": "code",
   "execution_count": 13,
   "id": "deb2b97a",
   "metadata": {},
   "outputs": [
    {
     "data": {
      "text/html": [
       "<div>\n",
       "<style scoped>\n",
       "    .dataframe tbody tr th:only-of-type {\n",
       "        vertical-align: middle;\n",
       "    }\n",
       "\n",
       "    .dataframe tbody tr th {\n",
       "        vertical-align: top;\n",
       "    }\n",
       "\n",
       "    .dataframe thead th {\n",
       "        text-align: right;\n",
       "    }\n",
       "</style>\n",
       "<table border=\"1\" class=\"dataframe\">\n",
       "  <thead>\n",
       "    <tr style=\"text-align: right;\">\n",
       "      <th></th>\n",
       "      <th>nom</th>\n",
       "      <th>Maths</th>\n",
       "      <th>Physique</th>\n",
       "      <th>SVT</th>\n",
       "      <th>Français</th>\n",
       "    </tr>\n",
       "  </thead>\n",
       "  <tbody>\n",
       "    <tr>\n",
       "      <th>0</th>\n",
       "      <td>Emile</td>\n",
       "      <td>10.5</td>\n",
       "      <td>6.5</td>\n",
       "      <td>2.5</td>\n",
       "      <td>15.5</td>\n",
       "    </tr>\n",
       "    <tr>\n",
       "      <th>1</th>\n",
       "      <td>Joseph</td>\n",
       "      <td>0.0</td>\n",
       "      <td>13.5</td>\n",
       "      <td>15.5</td>\n",
       "      <td>8.5</td>\n",
       "    </tr>\n",
       "    <tr>\n",
       "      <th>2</th>\n",
       "      <td>Patrick</td>\n",
       "      <td>14.0</td>\n",
       "      <td>15.5</td>\n",
       "      <td>13.5</td>\n",
       "      <td>2.5</td>\n",
       "    </tr>\n",
       "    <tr>\n",
       "      <th>3</th>\n",
       "      <td>Léa</td>\n",
       "      <td>9.5</td>\n",
       "      <td>8.5</td>\n",
       "      <td>8.5</td>\n",
       "      <td>3.0</td>\n",
       "    </tr>\n",
       "    <tr>\n",
       "      <th>4</th>\n",
       "      <td>Andrew</td>\n",
       "      <td>5.0</td>\n",
       "      <td>14.5</td>\n",
       "      <td>3.5</td>\n",
       "      <td>1.5</td>\n",
       "    </tr>\n",
       "    <tr>\n",
       "      <th>5</th>\n",
       "      <td>Johanna</td>\n",
       "      <td>15.0</td>\n",
       "      <td>17.5</td>\n",
       "      <td>15.0</td>\n",
       "      <td>5.0</td>\n",
       "    </tr>\n",
       "  </tbody>\n",
       "</table>\n",
       "</div>"
      ],
      "text/plain": [
       "       nom  Maths  Physique   SVT  Français\n",
       "0    Emile   10.5       6.5   2.5      15.5\n",
       "1   Joseph    0.0      13.5  15.5       8.5\n",
       "2  Patrick   14.0      15.5  13.5       2.5\n",
       "3      Léa    9.5       8.5   8.5       3.0\n",
       "4   Andrew    5.0      14.5   3.5       1.5\n",
       "5  Johanna   15.0      17.5  15.0       5.0"
      ]
     },
     "execution_count": 13,
     "metadata": {},
     "output_type": "execute_result"
    }
   ],
   "source": [
    "pd.DataFrame(data_note2)"
   ]
  },
  {
   "cell_type": "raw",
   "id": "0cdecdbd",
   "metadata": {},
   "source": [
    "Pour créer un DataFrame à partir de ce fichier, on utilise la méthode pd.DataFrame"
   ]
  },
  {
   "cell_type": "code",
   "execution_count": 14,
   "id": "723ccd98",
   "metadata": {},
   "outputs": [
    {
     "data": {
      "text/html": [
       "<div>\n",
       "<style scoped>\n",
       "    .dataframe tbody tr th:only-of-type {\n",
       "        vertical-align: middle;\n",
       "    }\n",
       "\n",
       "    .dataframe tbody tr th {\n",
       "        vertical-align: top;\n",
       "    }\n",
       "\n",
       "    .dataframe thead th {\n",
       "        text-align: right;\n",
       "    }\n",
       "</style>\n",
       "<table border=\"1\" class=\"dataframe\">\n",
       "  <thead>\n",
       "    <tr style=\"text-align: right;\">\n",
       "      <th></th>\n",
       "      <th>nom</th>\n",
       "      <th>Maths</th>\n",
       "      <th>Physique</th>\n",
       "      <th>SVT</th>\n",
       "      <th>Français</th>\n",
       "    </tr>\n",
       "  </thead>\n",
       "  <tbody>\n",
       "    <tr>\n",
       "      <th>0</th>\n",
       "      <td>Emile</td>\n",
       "      <td>5.5</td>\n",
       "      <td>16.5</td>\n",
       "      <td>20.0</td>\n",
       "      <td>4.5</td>\n",
       "    </tr>\n",
       "    <tr>\n",
       "      <th>1</th>\n",
       "      <td>Joseph</td>\n",
       "      <td>17.0</td>\n",
       "      <td>0.0</td>\n",
       "      <td>11.5</td>\n",
       "      <td>8.0</td>\n",
       "    </tr>\n",
       "    <tr>\n",
       "      <th>2</th>\n",
       "      <td>Patrick</td>\n",
       "      <td>6.5</td>\n",
       "      <td>1.0</td>\n",
       "      <td>15.0</td>\n",
       "      <td>0.5</td>\n",
       "    </tr>\n",
       "    <tr>\n",
       "      <th>3</th>\n",
       "      <td>Léa</td>\n",
       "      <td>14.5</td>\n",
       "      <td>16.5</td>\n",
       "      <td>20.0</td>\n",
       "      <td>12.0</td>\n",
       "    </tr>\n",
       "    <tr>\n",
       "      <th>4</th>\n",
       "      <td>Andrew</td>\n",
       "      <td>8.0</td>\n",
       "      <td>4.0</td>\n",
       "      <td>7.5</td>\n",
       "      <td>6.0</td>\n",
       "    </tr>\n",
       "    <tr>\n",
       "      <th>5</th>\n",
       "      <td>Johanna</td>\n",
       "      <td>18.5</td>\n",
       "      <td>2.0</td>\n",
       "      <td>7.0</td>\n",
       "      <td>2.5</td>\n",
       "    </tr>\n",
       "  </tbody>\n",
       "</table>\n",
       "</div>"
      ],
      "text/plain": [
       "       nom  Maths  Physique   SVT  Français\n",
       "0    Emile    5.5      16.5  20.0       4.5\n",
       "1   Joseph   17.0       0.0  11.5       8.0\n",
       "2  Patrick    6.5       1.0  15.0       0.5\n",
       "3      Léa   14.5      16.5  20.0      12.0\n",
       "4   Andrew    8.0       4.0   7.5       6.0\n",
       "5  Johanna   18.5       2.0   7.0       2.5"
      ]
     },
     "execution_count": 14,
     "metadata": {},
     "output_type": "execute_result"
    }
   ],
   "source": [
    "df_note = pd.DataFrame(data_note)\n",
    "df_note"
   ]
  },
  {
   "cell_type": "code",
   "execution_count": 15,
   "id": "5ff9ba6f",
   "metadata": {},
   "outputs": [
    {
     "data": {
      "text/html": [
       "<div>\n",
       "<style scoped>\n",
       "    .dataframe tbody tr th:only-of-type {\n",
       "        vertical-align: middle;\n",
       "    }\n",
       "\n",
       "    .dataframe tbody tr th {\n",
       "        vertical-align: top;\n",
       "    }\n",
       "\n",
       "    .dataframe thead th {\n",
       "        text-align: right;\n",
       "    }\n",
       "</style>\n",
       "<table border=\"1\" class=\"dataframe\">\n",
       "  <thead>\n",
       "    <tr style=\"text-align: right;\">\n",
       "      <th></th>\n",
       "      <th>nom</th>\n",
       "      <th>Maths</th>\n",
       "      <th>Physique</th>\n",
       "      <th>SVT</th>\n",
       "      <th>Français</th>\n",
       "    </tr>\n",
       "  </thead>\n",
       "  <tbody>\n",
       "    <tr>\n",
       "      <th>0</th>\n",
       "      <td>Emile</td>\n",
       "      <td>10.5</td>\n",
       "      <td>6.5</td>\n",
       "      <td>2.5</td>\n",
       "      <td>15.5</td>\n",
       "    </tr>\n",
       "    <tr>\n",
       "      <th>1</th>\n",
       "      <td>Joseph</td>\n",
       "      <td>0.0</td>\n",
       "      <td>13.5</td>\n",
       "      <td>15.5</td>\n",
       "      <td>8.5</td>\n",
       "    </tr>\n",
       "    <tr>\n",
       "      <th>2</th>\n",
       "      <td>Patrick</td>\n",
       "      <td>14.0</td>\n",
       "      <td>15.5</td>\n",
       "      <td>13.5</td>\n",
       "      <td>2.5</td>\n",
       "    </tr>\n",
       "    <tr>\n",
       "      <th>3</th>\n",
       "      <td>Léa</td>\n",
       "      <td>9.5</td>\n",
       "      <td>8.5</td>\n",
       "      <td>8.5</td>\n",
       "      <td>3.0</td>\n",
       "    </tr>\n",
       "    <tr>\n",
       "      <th>4</th>\n",
       "      <td>Andrew</td>\n",
       "      <td>5.0</td>\n",
       "      <td>14.5</td>\n",
       "      <td>3.5</td>\n",
       "      <td>1.5</td>\n",
       "    </tr>\n",
       "    <tr>\n",
       "      <th>5</th>\n",
       "      <td>Johanna</td>\n",
       "      <td>15.0</td>\n",
       "      <td>17.5</td>\n",
       "      <td>15.0</td>\n",
       "      <td>5.0</td>\n",
       "    </tr>\n",
       "  </tbody>\n",
       "</table>\n",
       "</div>"
      ],
      "text/plain": [
       "       nom  Maths  Physique   SVT  Français\n",
       "0    Emile   10.5       6.5   2.5      15.5\n",
       "1   Joseph    0.0      13.5  15.5       8.5\n",
       "2  Patrick   14.0      15.5  13.5       2.5\n",
       "3      Léa    9.5       8.5   8.5       3.0\n",
       "4   Andrew    5.0      14.5   3.5       1.5\n",
       "5  Johanna   15.0      17.5  15.0       5.0"
      ]
     },
     "execution_count": 15,
     "metadata": {},
     "output_type": "execute_result"
    }
   ],
   "source": [
    "df_note2 = pd.DataFrame(data_note2)\n",
    "df_note2 #Les résultats diffèrent à cause du random mais la structure est la même."
   ]
  },
  {
   "cell_type": "raw",
   "id": "77d584ae",
   "metadata": {},
   "source": [
    "Les différentes écritures permettent de mieux gérer les différentes formes d'écritures possibles d'un DataFrame.\n",
    "la méthode to_dict(), inversement transforme un DataFrame en dictionnaire (plusieurs formes sont disponibles)"
   ]
  },
  {
   "cell_type": "markdown",
   "id": "7280e304",
   "metadata": {},
   "source": [
    "https://pandas.pydata.org/docs/reference/api/pandas.DataFrame.to_dict.html"
   ]
  },
  {
   "cell_type": "code",
   "execution_count": 16,
   "id": "a112ef0e",
   "metadata": {},
   "outputs": [
    {
     "data": {
      "text/plain": [
       "{'nom': {0: 'Emile',\n",
       "  1: 'Joseph',\n",
       "  2: 'Patrick',\n",
       "  3: 'Léa',\n",
       "  4: 'Andrew',\n",
       "  5: 'Johanna'},\n",
       " 'Maths': {0: 5.5, 1: 17.0, 2: 6.5, 3: 14.5, 4: 8.0, 5: 18.5},\n",
       " 'Physique': {0: 16.5, 1: 0.0, 2: 1.0, 3: 16.5, 4: 4.0, 5: 2.0},\n",
       " 'SVT': {0: 20.0, 1: 11.5, 2: 15.0, 3: 20.0, 4: 7.5, 5: 7.0},\n",
       " 'Français': {0: 4.5, 1: 8.0, 2: 0.5, 3: 12.0, 4: 6.0, 5: 2.5}}"
      ]
     },
     "execution_count": 16,
     "metadata": {},
     "output_type": "execute_result"
    }
   ],
   "source": [
    "df_note.to_dict()"
   ]
  },
  {
   "cell_type": "code",
   "execution_count": 17,
   "id": "f41b91df",
   "metadata": {},
   "outputs": [
    {
     "data": {
      "text/plain": [
       "{'index': [0, 1, 2, 3, 4, 5],\n",
       " 'columns': ['nom', 'Maths', 'Physique', 'SVT', 'Français'],\n",
       " 'data': [['Emile', 5.5, 16.5, 20.0, 4.5],\n",
       "  ['Joseph', 17.0, 0.0, 11.5, 8.0],\n",
       "  ['Patrick', 6.5, 1.0, 15.0, 0.5],\n",
       "  ['Léa', 14.5, 16.5, 20.0, 12.0],\n",
       "  ['Andrew', 8.0, 4.0, 7.5, 6.0],\n",
       "  ['Johanna', 18.5, 2.0, 7.0, 2.5]]}"
      ]
     },
     "execution_count": 17,
     "metadata": {},
     "output_type": "execute_result"
    }
   ],
   "source": [
    "df_note.to_dict(\"split\")"
   ]
  },
  {
   "cell_type": "code",
   "execution_count": 18,
   "id": "caad1537",
   "metadata": {},
   "outputs": [
    {
     "data": {
      "text/plain": [
       "{0: {'nom': 'Emile',\n",
       "  'Maths': 5.5,\n",
       "  'Physique': 16.5,\n",
       "  'SVT': 20.0,\n",
       "  'Français': 4.5},\n",
       " 1: {'nom': 'Joseph',\n",
       "  'Maths': 17.0,\n",
       "  'Physique': 0.0,\n",
       "  'SVT': 11.5,\n",
       "  'Français': 8.0},\n",
       " 2: {'nom': 'Patrick',\n",
       "  'Maths': 6.5,\n",
       "  'Physique': 1.0,\n",
       "  'SVT': 15.0,\n",
       "  'Français': 0.5},\n",
       " 3: {'nom': 'Léa',\n",
       "  'Maths': 14.5,\n",
       "  'Physique': 16.5,\n",
       "  'SVT': 20.0,\n",
       "  'Français': 12.0},\n",
       " 4: {'nom': 'Andrew',\n",
       "  'Maths': 8.0,\n",
       "  'Physique': 4.0,\n",
       "  'SVT': 7.5,\n",
       "  'Français': 6.0},\n",
       " 5: {'nom': 'Johanna',\n",
       "  'Maths': 18.5,\n",
       "  'Physique': 2.0,\n",
       "  'SVT': 7.0,\n",
       "  'Français': 2.5}}"
      ]
     },
     "execution_count": 18,
     "metadata": {},
     "output_type": "execute_result"
    }
   ],
   "source": [
    "df_note.to_dict(\"index\") #On retombe sur la première écriture que je trouve plus agréable. "
   ]
  },
  {
   "cell_type": "code",
   "execution_count": 19,
   "id": "9924afb9",
   "metadata": {},
   "outputs": [
    {
     "data": {
      "text/plain": [
       "{'nom': 'Joseph', 'Maths': 17.0, 'Physique': 0.0, 'SVT': 11.5, 'Français': 8.0}"
      ]
     },
     "execution_count": 19,
     "metadata": {},
     "output_type": "execute_result"
    }
   ],
   "source": [
    "df_note.to_dict(\"index\")[1]"
   ]
  },
  {
   "cell_type": "code",
   "execution_count": 20,
   "id": "9f8d9f88",
   "metadata": {},
   "outputs": [
    {
     "data": {
      "text/plain": [
       "[12, 1, 0]"
      ]
     },
     "execution_count": 20,
     "metadata": {},
     "output_type": "execute_result"
    }
   ],
   "source": [
    "dico = {\"chien\": 12,\"chat\": 1,\"loup\":0}\n",
    "\n",
    "list(dico.values())"
   ]
  },
  {
   "cell_type": "code",
   "execution_count": 21,
   "id": "3329e015",
   "metadata": {},
   "outputs": [
    {
     "data": {
      "text/plain": [
       "['chien', 'chat', 'loup']"
      ]
     },
     "execution_count": 21,
     "metadata": {},
     "output_type": "execute_result"
    }
   ],
   "source": [
    "list(dico.keys())"
   ]
  },
  {
   "cell_type": "code",
   "execution_count": 22,
   "id": "d9dc5a4f",
   "metadata": {},
   "outputs": [
    {
     "data": {
      "text/plain": [
       "[{'nom': 'Emile',\n",
       "  'Maths': 5.5,\n",
       "  'Physique': 16.5,\n",
       "  'SVT': 20.0,\n",
       "  'Français': 4.5},\n",
       " {'nom': 'Joseph',\n",
       "  'Maths': 17.0,\n",
       "  'Physique': 0.0,\n",
       "  'SVT': 11.5,\n",
       "  'Français': 8.0},\n",
       " {'nom': 'Patrick',\n",
       "  'Maths': 6.5,\n",
       "  'Physique': 1.0,\n",
       "  'SVT': 15.0,\n",
       "  'Français': 0.5},\n",
       " {'nom': 'Léa',\n",
       "  'Maths': 14.5,\n",
       "  'Physique': 16.5,\n",
       "  'SVT': 20.0,\n",
       "  'Français': 12.0},\n",
       " {'nom': 'Andrew', 'Maths': 8.0, 'Physique': 4.0, 'SVT': 7.5, 'Français': 6.0},\n",
       " {'nom': 'Johanna',\n",
       "  'Maths': 18.5,\n",
       "  'Physique': 2.0,\n",
       "  'SVT': 7.0,\n",
       "  'Français': 2.5}]"
      ]
     },
     "execution_count": 22,
     "metadata": {},
     "output_type": "execute_result"
    }
   ],
   "source": [
    "list(df_note.to_dict(\"index\").values())"
   ]
  },
  {
   "cell_type": "markdown",
   "id": "911b7127",
   "metadata": {},
   "source": [
    "# Gestion des valeurs manquantes"
   ]
  },
  {
   "cell_type": "code",
   "execution_count": 23,
   "id": "c2799684",
   "metadata": {},
   "outputs": [],
   "source": [
    "def notes_eleve_2filiere(eleve):\n",
    "    note = {'nom' : eleve, 'Maths' : random.randint(0,40)/2,\n",
    "                'SVT' : random.randint(0,40)/2,\n",
    "               'Français' : random.randint(0,40)/2}\n",
    "    if random.randint(0,1):\n",
    "        note[\"Physique\"] = random.randint(0,40)/2\n",
    "    else : \n",
    "        note[\"Economie\"] = random.randint(0,40)/2\n",
    "    return note"
   ]
  },
  {
   "cell_type": "raw",
   "id": "a927cf26",
   "metadata": {},
   "source": [
    "Attention si l'on &écrit \"np.nan\", on aura une chaine de caractères et non une valeur vide !!"
   ]
  },
  {
   "cell_type": "code",
   "execution_count": 24,
   "id": "910299eb",
   "metadata": {},
   "outputs": [],
   "source": [
    "def notes_eleve_2filiere_Attention(eleve):\n",
    "    note = {'nom' : eleve, 'Maths' : random.randint(0,40)/2,\n",
    "                'SVT' : random.randint(0,40)/2,\n",
    "               'Français' : random.randint(0,40)/2}\n",
    "    if random.randint(0,1):\n",
    "        note[\"Physique\"] = random.randint(0,40)/2\n",
    "        note[\"Economie\"] = \"\"\n",
    "    else : \n",
    "        note[\"Economie\"] = random.randint(0,40)/2\n",
    "        note[\"Physique\"] = \"\"\n",
    "    return note"
   ]
  },
  {
   "cell_type": "code",
   "execution_count": 25,
   "id": "bf39e71d",
   "metadata": {},
   "outputs": [],
   "source": [
    "Liste_prenom = [\"Emile\",\"Joseph\",\"Patrick\",\"Léa\",\"Andrew\",\"Johanna\"]\n",
    "\n",
    "data_note_2filiere = [notes_eleve_2filiere(x) for x in Liste_prenom]\n",
    "\n",
    "data_note_2filiere_attention = [notes_eleve_2filiere_Attention(x) for x in Liste_prenom]\n"
   ]
  },
  {
   "cell_type": "code",
   "execution_count": 26,
   "id": "57dda79a",
   "metadata": {},
   "outputs": [
    {
     "data": {
      "text/plain": [
       "[{'nom': 'Emile',\n",
       "  'Maths': 5.0,\n",
       "  'SVT': 2.0,\n",
       "  'Français': 16.5,\n",
       "  'Economie': 18.5},\n",
       " {'nom': 'Joseph',\n",
       "  'Maths': 12.0,\n",
       "  'SVT': 4.5,\n",
       "  'Français': 6.5,\n",
       "  'Physique': 8.5},\n",
       " {'nom': 'Patrick',\n",
       "  'Maths': 2.0,\n",
       "  'SVT': 13.0,\n",
       "  'Français': 1.0,\n",
       "  'Economie': 12.0},\n",
       " {'nom': 'Léa', 'Maths': 10.0, 'SVT': 5.5, 'Français': 12.0, 'Physique': 4.0},\n",
       " {'nom': 'Andrew',\n",
       "  'Maths': 0.5,\n",
       "  'SVT': 10.5,\n",
       "  'Français': 1.5,\n",
       "  'Economie': 19.0},\n",
       " {'nom': 'Johanna',\n",
       "  'Maths': 3.0,\n",
       "  'SVT': 0.0,\n",
       "  'Français': 11.0,\n",
       "  'Economie': 1.5}]"
      ]
     },
     "execution_count": 26,
     "metadata": {},
     "output_type": "execute_result"
    }
   ],
   "source": [
    "data_note_2filiere"
   ]
  },
  {
   "cell_type": "code",
   "execution_count": 27,
   "id": "8fa45d23",
   "metadata": {},
   "outputs": [
    {
     "data": {
      "text/html": [
       "<div>\n",
       "<style scoped>\n",
       "    .dataframe tbody tr th:only-of-type {\n",
       "        vertical-align: middle;\n",
       "    }\n",
       "\n",
       "    .dataframe tbody tr th {\n",
       "        vertical-align: top;\n",
       "    }\n",
       "\n",
       "    .dataframe thead th {\n",
       "        text-align: right;\n",
       "    }\n",
       "</style>\n",
       "<table border=\"1\" class=\"dataframe\">\n",
       "  <thead>\n",
       "    <tr style=\"text-align: right;\">\n",
       "      <th></th>\n",
       "      <th>nom</th>\n",
       "      <th>Maths</th>\n",
       "      <th>SVT</th>\n",
       "      <th>Français</th>\n",
       "      <th>Economie</th>\n",
       "      <th>Physique</th>\n",
       "    </tr>\n",
       "  </thead>\n",
       "  <tbody>\n",
       "    <tr>\n",
       "      <th>0</th>\n",
       "      <td>Emile</td>\n",
       "      <td>5.0</td>\n",
       "      <td>2.0</td>\n",
       "      <td>16.5</td>\n",
       "      <td>18.5</td>\n",
       "      <td>NaN</td>\n",
       "    </tr>\n",
       "    <tr>\n",
       "      <th>1</th>\n",
       "      <td>Joseph</td>\n",
       "      <td>12.0</td>\n",
       "      <td>4.5</td>\n",
       "      <td>6.5</td>\n",
       "      <td>NaN</td>\n",
       "      <td>8.5</td>\n",
       "    </tr>\n",
       "    <tr>\n",
       "      <th>2</th>\n",
       "      <td>Patrick</td>\n",
       "      <td>2.0</td>\n",
       "      <td>13.0</td>\n",
       "      <td>1.0</td>\n",
       "      <td>12.0</td>\n",
       "      <td>NaN</td>\n",
       "    </tr>\n",
       "    <tr>\n",
       "      <th>3</th>\n",
       "      <td>Léa</td>\n",
       "      <td>10.0</td>\n",
       "      <td>5.5</td>\n",
       "      <td>12.0</td>\n",
       "      <td>NaN</td>\n",
       "      <td>4.0</td>\n",
       "    </tr>\n",
       "    <tr>\n",
       "      <th>4</th>\n",
       "      <td>Andrew</td>\n",
       "      <td>0.5</td>\n",
       "      <td>10.5</td>\n",
       "      <td>1.5</td>\n",
       "      <td>19.0</td>\n",
       "      <td>NaN</td>\n",
       "    </tr>\n",
       "    <tr>\n",
       "      <th>5</th>\n",
       "      <td>Johanna</td>\n",
       "      <td>3.0</td>\n",
       "      <td>0.0</td>\n",
       "      <td>11.0</td>\n",
       "      <td>1.5</td>\n",
       "      <td>NaN</td>\n",
       "    </tr>\n",
       "  </tbody>\n",
       "</table>\n",
       "</div>"
      ],
      "text/plain": [
       "       nom  Maths   SVT  Français  Economie  Physique\n",
       "0    Emile    5.0   2.0      16.5      18.5       NaN\n",
       "1   Joseph   12.0   4.5       6.5       NaN       8.5\n",
       "2  Patrick    2.0  13.0       1.0      12.0       NaN\n",
       "3      Léa   10.0   5.5      12.0       NaN       4.0\n",
       "4   Andrew    0.5  10.5       1.5      19.0       NaN\n",
       "5  Johanna    3.0   0.0      11.0       1.5       NaN"
      ]
     },
     "execution_count": 27,
     "metadata": {},
     "output_type": "execute_result"
    }
   ],
   "source": [
    "df_note_2filiere = pd.DataFrame(data_note_2filiere)\n",
    "df_note_2filiere"
   ]
  },
  {
   "cell_type": "code",
   "execution_count": 28,
   "id": "d18abfa7",
   "metadata": {},
   "outputs": [
    {
     "data": {
      "text/html": [
       "<div>\n",
       "<style scoped>\n",
       "    .dataframe tbody tr th:only-of-type {\n",
       "        vertical-align: middle;\n",
       "    }\n",
       "\n",
       "    .dataframe tbody tr th {\n",
       "        vertical-align: top;\n",
       "    }\n",
       "\n",
       "    .dataframe thead th {\n",
       "        text-align: right;\n",
       "    }\n",
       "</style>\n",
       "<table border=\"1\" class=\"dataframe\">\n",
       "  <thead>\n",
       "    <tr style=\"text-align: right;\">\n",
       "      <th></th>\n",
       "      <th>nom</th>\n",
       "      <th>Maths</th>\n",
       "      <th>SVT</th>\n",
       "      <th>Français</th>\n",
       "      <th>Economie</th>\n",
       "      <th>Physique</th>\n",
       "    </tr>\n",
       "  </thead>\n",
       "  <tbody>\n",
       "    <tr>\n",
       "      <th>0</th>\n",
       "      <td>Emile</td>\n",
       "      <td>12.0</td>\n",
       "      <td>18.5</td>\n",
       "      <td>9.0</td>\n",
       "      <td>11.0</td>\n",
       "      <td></td>\n",
       "    </tr>\n",
       "    <tr>\n",
       "      <th>1</th>\n",
       "      <td>Joseph</td>\n",
       "      <td>19.5</td>\n",
       "      <td>15.5</td>\n",
       "      <td>12.5</td>\n",
       "      <td>17.5</td>\n",
       "      <td></td>\n",
       "    </tr>\n",
       "    <tr>\n",
       "      <th>2</th>\n",
       "      <td>Patrick</td>\n",
       "      <td>8.0</td>\n",
       "      <td>4.5</td>\n",
       "      <td>7.0</td>\n",
       "      <td>0.5</td>\n",
       "      <td></td>\n",
       "    </tr>\n",
       "    <tr>\n",
       "      <th>3</th>\n",
       "      <td>Léa</td>\n",
       "      <td>5.5</td>\n",
       "      <td>3.5</td>\n",
       "      <td>8.5</td>\n",
       "      <td></td>\n",
       "      <td>18.0</td>\n",
       "    </tr>\n",
       "    <tr>\n",
       "      <th>4</th>\n",
       "      <td>Andrew</td>\n",
       "      <td>14.5</td>\n",
       "      <td>0.5</td>\n",
       "      <td>7.0</td>\n",
       "      <td>1.0</td>\n",
       "      <td></td>\n",
       "    </tr>\n",
       "    <tr>\n",
       "      <th>5</th>\n",
       "      <td>Johanna</td>\n",
       "      <td>19.0</td>\n",
       "      <td>11.0</td>\n",
       "      <td>10.0</td>\n",
       "      <td></td>\n",
       "      <td>2.0</td>\n",
       "    </tr>\n",
       "  </tbody>\n",
       "</table>\n",
       "</div>"
      ],
      "text/plain": [
       "       nom  Maths   SVT  Français Economie Physique\n",
       "0    Emile   12.0  18.5       9.0     11.0         \n",
       "1   Joseph   19.5  15.5      12.5     17.5         \n",
       "2  Patrick    8.0   4.5       7.0      0.5         \n",
       "3      Léa    5.5   3.5       8.5              18.0\n",
       "4   Andrew   14.5   0.5       7.0      1.0         \n",
       "5  Johanna   19.0  11.0      10.0               2.0"
      ]
     },
     "execution_count": 28,
     "metadata": {},
     "output_type": "execute_result"
    }
   ],
   "source": [
    "df_note_2filiere_attention = pd.DataFrame(data_note_2filiere_attention)\n",
    "df_note_2filiere_attention"
   ]
  },
  {
   "cell_type": "raw",
   "id": "d3e6ce96",
   "metadata": {},
   "source": [
    "Avoir accès au subset de chacune des filières :"
   ]
  },
  {
   "cell_type": "raw",
   "id": "c831e9a0",
   "metadata": {},
   "source": [
    "isna() est une méthode qui renvoie True ou False selon que les données sont vides ou non. "
   ]
  },
  {
   "cell_type": "code",
   "execution_count": 29,
   "id": "d1ffbb2c",
   "metadata": {},
   "outputs": [
    {
     "data": {
      "text/html": [
       "<div>\n",
       "<style scoped>\n",
       "    .dataframe tbody tr th:only-of-type {\n",
       "        vertical-align: middle;\n",
       "    }\n",
       "\n",
       "    .dataframe tbody tr th {\n",
       "        vertical-align: top;\n",
       "    }\n",
       "\n",
       "    .dataframe thead th {\n",
       "        text-align: right;\n",
       "    }\n",
       "</style>\n",
       "<table border=\"1\" class=\"dataframe\">\n",
       "  <thead>\n",
       "    <tr style=\"text-align: right;\">\n",
       "      <th></th>\n",
       "      <th>nom</th>\n",
       "      <th>Maths</th>\n",
       "      <th>SVT</th>\n",
       "      <th>Français</th>\n",
       "      <th>Economie</th>\n",
       "      <th>Physique</th>\n",
       "    </tr>\n",
       "  </thead>\n",
       "  <tbody>\n",
       "    <tr>\n",
       "      <th>0</th>\n",
       "      <td>Emile</td>\n",
       "      <td>5.0</td>\n",
       "      <td>2.0</td>\n",
       "      <td>16.5</td>\n",
       "      <td>18.5</td>\n",
       "      <td>NaN</td>\n",
       "    </tr>\n",
       "    <tr>\n",
       "      <th>1</th>\n",
       "      <td>Joseph</td>\n",
       "      <td>12.0</td>\n",
       "      <td>4.5</td>\n",
       "      <td>6.5</td>\n",
       "      <td>NaN</td>\n",
       "      <td>8.5</td>\n",
       "    </tr>\n",
       "    <tr>\n",
       "      <th>2</th>\n",
       "      <td>Patrick</td>\n",
       "      <td>2.0</td>\n",
       "      <td>13.0</td>\n",
       "      <td>1.0</td>\n",
       "      <td>12.0</td>\n",
       "      <td>NaN</td>\n",
       "    </tr>\n",
       "    <tr>\n",
       "      <th>3</th>\n",
       "      <td>Léa</td>\n",
       "      <td>10.0</td>\n",
       "      <td>5.5</td>\n",
       "      <td>12.0</td>\n",
       "      <td>NaN</td>\n",
       "      <td>4.0</td>\n",
       "    </tr>\n",
       "    <tr>\n",
       "      <th>4</th>\n",
       "      <td>Andrew</td>\n",
       "      <td>0.5</td>\n",
       "      <td>10.5</td>\n",
       "      <td>1.5</td>\n",
       "      <td>19.0</td>\n",
       "      <td>NaN</td>\n",
       "    </tr>\n",
       "    <tr>\n",
       "      <th>5</th>\n",
       "      <td>Johanna</td>\n",
       "      <td>3.0</td>\n",
       "      <td>0.0</td>\n",
       "      <td>11.0</td>\n",
       "      <td>1.5</td>\n",
       "      <td>NaN</td>\n",
       "    </tr>\n",
       "  </tbody>\n",
       "</table>\n",
       "</div>"
      ],
      "text/plain": [
       "       nom  Maths   SVT  Français  Economie  Physique\n",
       "0    Emile    5.0   2.0      16.5      18.5       NaN\n",
       "1   Joseph   12.0   4.5       6.5       NaN       8.5\n",
       "2  Patrick    2.0  13.0       1.0      12.0       NaN\n",
       "3      Léa   10.0   5.5      12.0       NaN       4.0\n",
       "4   Andrew    0.5  10.5       1.5      19.0       NaN\n",
       "5  Johanna    3.0   0.0      11.0       1.5       NaN"
      ]
     },
     "execution_count": 29,
     "metadata": {},
     "output_type": "execute_result"
    }
   ],
   "source": [
    "df_note_2filiere"
   ]
  },
  {
   "cell_type": "code",
   "execution_count": 30,
   "id": "75325838",
   "metadata": {},
   "outputs": [
    {
     "data": {
      "text/plain": [
       "0     True\n",
       "1    False\n",
       "2     True\n",
       "3    False\n",
       "4     True\n",
       "5     True\n",
       "Name: Physique, dtype: bool"
      ]
     },
     "execution_count": 30,
     "metadata": {},
     "output_type": "execute_result"
    }
   ],
   "source": [
    "df_note_2filiere.Physique.isna()"
   ]
  },
  {
   "cell_type": "code",
   "execution_count": 31,
   "id": "9c396824",
   "metadata": {},
   "outputs": [
    {
     "data": {
      "text/html": [
       "<div>\n",
       "<style scoped>\n",
       "    .dataframe tbody tr th:only-of-type {\n",
       "        vertical-align: middle;\n",
       "    }\n",
       "\n",
       "    .dataframe tbody tr th {\n",
       "        vertical-align: top;\n",
       "    }\n",
       "\n",
       "    .dataframe thead th {\n",
       "        text-align: right;\n",
       "    }\n",
       "</style>\n",
       "<table border=\"1\" class=\"dataframe\">\n",
       "  <thead>\n",
       "    <tr style=\"text-align: right;\">\n",
       "      <th></th>\n",
       "      <th>nom</th>\n",
       "      <th>Maths</th>\n",
       "      <th>SVT</th>\n",
       "      <th>Français</th>\n",
       "      <th>Economie</th>\n",
       "      <th>Physique</th>\n",
       "    </tr>\n",
       "  </thead>\n",
       "  <tbody>\n",
       "    <tr>\n",
       "      <th>0</th>\n",
       "      <td>Emile</td>\n",
       "      <td>12.0</td>\n",
       "      <td>18.5</td>\n",
       "      <td>9.0</td>\n",
       "      <td>11.0</td>\n",
       "      <td></td>\n",
       "    </tr>\n",
       "    <tr>\n",
       "      <th>1</th>\n",
       "      <td>Joseph</td>\n",
       "      <td>19.5</td>\n",
       "      <td>15.5</td>\n",
       "      <td>12.5</td>\n",
       "      <td>17.5</td>\n",
       "      <td></td>\n",
       "    </tr>\n",
       "    <tr>\n",
       "      <th>2</th>\n",
       "      <td>Patrick</td>\n",
       "      <td>8.0</td>\n",
       "      <td>4.5</td>\n",
       "      <td>7.0</td>\n",
       "      <td>0.5</td>\n",
       "      <td></td>\n",
       "    </tr>\n",
       "    <tr>\n",
       "      <th>3</th>\n",
       "      <td>Léa</td>\n",
       "      <td>5.5</td>\n",
       "      <td>3.5</td>\n",
       "      <td>8.5</td>\n",
       "      <td></td>\n",
       "      <td>18.0</td>\n",
       "    </tr>\n",
       "    <tr>\n",
       "      <th>4</th>\n",
       "      <td>Andrew</td>\n",
       "      <td>14.5</td>\n",
       "      <td>0.5</td>\n",
       "      <td>7.0</td>\n",
       "      <td>1.0</td>\n",
       "      <td></td>\n",
       "    </tr>\n",
       "    <tr>\n",
       "      <th>5</th>\n",
       "      <td>Johanna</td>\n",
       "      <td>19.0</td>\n",
       "      <td>11.0</td>\n",
       "      <td>10.0</td>\n",
       "      <td></td>\n",
       "      <td>2.0</td>\n",
       "    </tr>\n",
       "  </tbody>\n",
       "</table>\n",
       "</div>"
      ],
      "text/plain": [
       "       nom  Maths   SVT  Français Economie Physique\n",
       "0    Emile   12.0  18.5       9.0     11.0         \n",
       "1   Joseph   19.5  15.5      12.5     17.5         \n",
       "2  Patrick    8.0   4.5       7.0      0.5         \n",
       "3      Léa    5.5   3.5       8.5              18.0\n",
       "4   Andrew   14.5   0.5       7.0      1.0         \n",
       "5  Johanna   19.0  11.0      10.0               2.0"
      ]
     },
     "execution_count": 31,
     "metadata": {},
     "output_type": "execute_result"
    }
   ],
   "source": [
    "df_note_2filiere_attention"
   ]
  },
  {
   "cell_type": "code",
   "execution_count": 32,
   "id": "a1b63ecf",
   "metadata": {},
   "outputs": [
    {
     "data": {
      "text/plain": [
       "0    False\n",
       "1    False\n",
       "2    False\n",
       "3    False\n",
       "4    False\n",
       "5    False\n",
       "Name: Economie, dtype: bool"
      ]
     },
     "execution_count": 32,
     "metadata": {},
     "output_type": "execute_result"
    }
   ],
   "source": [
    "#Si l'on a remplit le DataFrame par \"\" par défaut,\n",
    "#la méthode isna() affichera systématiquement False\n",
    "\n",
    "df_note_2filiere_attention.Economie.isna()"
   ]
  },
  {
   "cell_type": "code",
   "execution_count": 33,
   "id": "768d58f9",
   "metadata": {},
   "outputs": [
    {
     "data": {
      "text/plain": [
       "0    False\n",
       "1    False\n",
       "2    False\n",
       "3    False\n",
       "4    False\n",
       "5    False\n",
       "Name: Economie, dtype: bool"
      ]
     },
     "execution_count": 33,
     "metadata": {},
     "output_type": "execute_result"
    }
   ],
   "source": [
    "df_note_2filiere_attention[\"Economie\"].isna()"
   ]
  },
  {
   "cell_type": "raw",
   "id": "f5587686",
   "metadata": {},
   "source": [
    "ON peut alors s'en servir de filtre pour, par exemple n'afficher que les données où la Colonne Economie est vide. \n",
    "\n",
    "df[Filtre] fait l'affaire. Et le filtre est une expression qui opère sur tout le dataframe. "
   ]
  },
  {
   "cell_type": "code",
   "execution_count": 34,
   "id": "9581cbb4",
   "metadata": {},
   "outputs": [
    {
     "data": {
      "text/html": [
       "<div>\n",
       "<style scoped>\n",
       "    .dataframe tbody tr th:only-of-type {\n",
       "        vertical-align: middle;\n",
       "    }\n",
       "\n",
       "    .dataframe tbody tr th {\n",
       "        vertical-align: top;\n",
       "    }\n",
       "\n",
       "    .dataframe thead th {\n",
       "        text-align: right;\n",
       "    }\n",
       "</style>\n",
       "<table border=\"1\" class=\"dataframe\">\n",
       "  <thead>\n",
       "    <tr style=\"text-align: right;\">\n",
       "      <th></th>\n",
       "      <th>nom</th>\n",
       "      <th>Maths</th>\n",
       "      <th>SVT</th>\n",
       "      <th>Français</th>\n",
       "      <th>Economie</th>\n",
       "      <th>Physique</th>\n",
       "    </tr>\n",
       "  </thead>\n",
       "  <tbody>\n",
       "    <tr>\n",
       "      <th>0</th>\n",
       "      <td>Emile</td>\n",
       "      <td>5.0</td>\n",
       "      <td>2.0</td>\n",
       "      <td>16.5</td>\n",
       "      <td>18.5</td>\n",
       "      <td>NaN</td>\n",
       "    </tr>\n",
       "    <tr>\n",
       "      <th>1</th>\n",
       "      <td>Joseph</td>\n",
       "      <td>12.0</td>\n",
       "      <td>4.5</td>\n",
       "      <td>6.5</td>\n",
       "      <td>NaN</td>\n",
       "      <td>8.5</td>\n",
       "    </tr>\n",
       "    <tr>\n",
       "      <th>2</th>\n",
       "      <td>Patrick</td>\n",
       "      <td>2.0</td>\n",
       "      <td>13.0</td>\n",
       "      <td>1.0</td>\n",
       "      <td>12.0</td>\n",
       "      <td>NaN</td>\n",
       "    </tr>\n",
       "    <tr>\n",
       "      <th>3</th>\n",
       "      <td>Léa</td>\n",
       "      <td>10.0</td>\n",
       "      <td>5.5</td>\n",
       "      <td>12.0</td>\n",
       "      <td>NaN</td>\n",
       "      <td>4.0</td>\n",
       "    </tr>\n",
       "    <tr>\n",
       "      <th>4</th>\n",
       "      <td>Andrew</td>\n",
       "      <td>0.5</td>\n",
       "      <td>10.5</td>\n",
       "      <td>1.5</td>\n",
       "      <td>19.0</td>\n",
       "      <td>NaN</td>\n",
       "    </tr>\n",
       "    <tr>\n",
       "      <th>5</th>\n",
       "      <td>Johanna</td>\n",
       "      <td>3.0</td>\n",
       "      <td>0.0</td>\n",
       "      <td>11.0</td>\n",
       "      <td>1.5</td>\n",
       "      <td>NaN</td>\n",
       "    </tr>\n",
       "  </tbody>\n",
       "</table>\n",
       "</div>"
      ],
      "text/plain": [
       "       nom  Maths   SVT  Français  Economie  Physique\n",
       "0    Emile    5.0   2.0      16.5      18.5       NaN\n",
       "1   Joseph   12.0   4.5       6.5       NaN       8.5\n",
       "2  Patrick    2.0  13.0       1.0      12.0       NaN\n",
       "3      Léa   10.0   5.5      12.0       NaN       4.0\n",
       "4   Andrew    0.5  10.5       1.5      19.0       NaN\n",
       "5  Johanna    3.0   0.0      11.0       1.5       NaN"
      ]
     },
     "execution_count": 34,
     "metadata": {},
     "output_type": "execute_result"
    }
   ],
   "source": [
    "df_note_2filiere"
   ]
  },
  {
   "cell_type": "code",
   "execution_count": 35,
   "id": "8689368a",
   "metadata": {},
   "outputs": [
    {
     "data": {
      "text/html": [
       "<div>\n",
       "<style scoped>\n",
       "    .dataframe tbody tr th:only-of-type {\n",
       "        vertical-align: middle;\n",
       "    }\n",
       "\n",
       "    .dataframe tbody tr th {\n",
       "        vertical-align: top;\n",
       "    }\n",
       "\n",
       "    .dataframe thead th {\n",
       "        text-align: right;\n",
       "    }\n",
       "</style>\n",
       "<table border=\"1\" class=\"dataframe\">\n",
       "  <thead>\n",
       "    <tr style=\"text-align: right;\">\n",
       "      <th></th>\n",
       "      <th>nom</th>\n",
       "      <th>Maths</th>\n",
       "      <th>SVT</th>\n",
       "      <th>Français</th>\n",
       "      <th>Economie</th>\n",
       "      <th>Physique</th>\n",
       "    </tr>\n",
       "  </thead>\n",
       "  <tbody>\n",
       "    <tr>\n",
       "      <th>1</th>\n",
       "      <td>Joseph</td>\n",
       "      <td>12.0</td>\n",
       "      <td>4.5</td>\n",
       "      <td>6.5</td>\n",
       "      <td>NaN</td>\n",
       "      <td>8.5</td>\n",
       "    </tr>\n",
       "    <tr>\n",
       "      <th>3</th>\n",
       "      <td>Léa</td>\n",
       "      <td>10.0</td>\n",
       "      <td>5.5</td>\n",
       "      <td>12.0</td>\n",
       "      <td>NaN</td>\n",
       "      <td>4.0</td>\n",
       "    </tr>\n",
       "  </tbody>\n",
       "</table>\n",
       "</div>"
      ],
      "text/plain": [
       "      nom  Maths  SVT  Français  Economie  Physique\n",
       "1  Joseph   12.0  4.5       6.5       NaN       8.5\n",
       "3     Léa   10.0  5.5      12.0       NaN       4.0"
      ]
     },
     "execution_count": 35,
     "metadata": {},
     "output_type": "execute_result"
    }
   ],
   "source": [
    "df_note_2filiere[df_note_2filiere.Economie.isna()]"
   ]
  },
  {
   "cell_type": "code",
   "execution_count": 36,
   "id": "e10a319a",
   "metadata": {},
   "outputs": [
    {
     "data": {
      "text/html": [
       "<div>\n",
       "<style scoped>\n",
       "    .dataframe tbody tr th:only-of-type {\n",
       "        vertical-align: middle;\n",
       "    }\n",
       "\n",
       "    .dataframe tbody tr th {\n",
       "        vertical-align: top;\n",
       "    }\n",
       "\n",
       "    .dataframe thead th {\n",
       "        text-align: right;\n",
       "    }\n",
       "</style>\n",
       "<table border=\"1\" class=\"dataframe\">\n",
       "  <thead>\n",
       "    <tr style=\"text-align: right;\">\n",
       "      <th></th>\n",
       "      <th>nom</th>\n",
       "      <th>Maths</th>\n",
       "      <th>SVT</th>\n",
       "      <th>Français</th>\n",
       "      <th>Economie</th>\n",
       "      <th>Physique</th>\n",
       "    </tr>\n",
       "  </thead>\n",
       "  <tbody>\n",
       "    <tr>\n",
       "      <th>0</th>\n",
       "      <td>Emile</td>\n",
       "      <td>5.0</td>\n",
       "      <td>2.0</td>\n",
       "      <td>16.5</td>\n",
       "      <td>18.5</td>\n",
       "      <td>NaN</td>\n",
       "    </tr>\n",
       "    <tr>\n",
       "      <th>2</th>\n",
       "      <td>Patrick</td>\n",
       "      <td>2.0</td>\n",
       "      <td>13.0</td>\n",
       "      <td>1.0</td>\n",
       "      <td>12.0</td>\n",
       "      <td>NaN</td>\n",
       "    </tr>\n",
       "    <tr>\n",
       "      <th>4</th>\n",
       "      <td>Andrew</td>\n",
       "      <td>0.5</td>\n",
       "      <td>10.5</td>\n",
       "      <td>1.5</td>\n",
       "      <td>19.0</td>\n",
       "      <td>NaN</td>\n",
       "    </tr>\n",
       "    <tr>\n",
       "      <th>5</th>\n",
       "      <td>Johanna</td>\n",
       "      <td>3.0</td>\n",
       "      <td>0.0</td>\n",
       "      <td>11.0</td>\n",
       "      <td>1.5</td>\n",
       "      <td>NaN</td>\n",
       "    </tr>\n",
       "  </tbody>\n",
       "</table>\n",
       "</div>"
      ],
      "text/plain": [
       "       nom  Maths   SVT  Français  Economie  Physique\n",
       "0    Emile    5.0   2.0      16.5      18.5       NaN\n",
       "2  Patrick    2.0  13.0       1.0      12.0       NaN\n",
       "4   Andrew    0.5  10.5       1.5      19.0       NaN\n",
       "5  Johanna    3.0   0.0      11.0       1.5       NaN"
      ]
     },
     "execution_count": 36,
     "metadata": {},
     "output_type": "execute_result"
    }
   ],
   "source": [
    "df_note_2filiere[~(df_note_2filiere.Economie.isna())]"
   ]
  },
  {
   "cell_type": "raw",
   "id": "48be97a8",
   "metadata": {},
   "source": [
    "Si l'on veut avoir accès aux données des élèves qui ont plus de la moyenne en maths : \n",
    "\n",
    "On n'a pas beosin de créer un nouveau jeu de données pour les filtres mais on effectue l'opération qui nous affiche True ou False."
   ]
  },
  {
   "cell_type": "code",
   "execution_count": 37,
   "id": "142130aa",
   "metadata": {},
   "outputs": [
    {
     "data": {
      "text/html": [
       "<div>\n",
       "<style scoped>\n",
       "    .dataframe tbody tr th:only-of-type {\n",
       "        vertical-align: middle;\n",
       "    }\n",
       "\n",
       "    .dataframe tbody tr th {\n",
       "        vertical-align: top;\n",
       "    }\n",
       "\n",
       "    .dataframe thead th {\n",
       "        text-align: right;\n",
       "    }\n",
       "</style>\n",
       "<table border=\"1\" class=\"dataframe\">\n",
       "  <thead>\n",
       "    <tr style=\"text-align: right;\">\n",
       "      <th></th>\n",
       "      <th>nom</th>\n",
       "      <th>Maths</th>\n",
       "      <th>SVT</th>\n",
       "      <th>Français</th>\n",
       "      <th>Economie</th>\n",
       "      <th>Physique</th>\n",
       "    </tr>\n",
       "  </thead>\n",
       "  <tbody>\n",
       "    <tr>\n",
       "      <th>0</th>\n",
       "      <td>Emile</td>\n",
       "      <td>5.0</td>\n",
       "      <td>2.0</td>\n",
       "      <td>16.5</td>\n",
       "      <td>18.5</td>\n",
       "      <td>NaN</td>\n",
       "    </tr>\n",
       "    <tr>\n",
       "      <th>1</th>\n",
       "      <td>Joseph</td>\n",
       "      <td>12.0</td>\n",
       "      <td>4.5</td>\n",
       "      <td>6.5</td>\n",
       "      <td>NaN</td>\n",
       "      <td>8.5</td>\n",
       "    </tr>\n",
       "    <tr>\n",
       "      <th>2</th>\n",
       "      <td>Patrick</td>\n",
       "      <td>2.0</td>\n",
       "      <td>13.0</td>\n",
       "      <td>1.0</td>\n",
       "      <td>12.0</td>\n",
       "      <td>NaN</td>\n",
       "    </tr>\n",
       "    <tr>\n",
       "      <th>3</th>\n",
       "      <td>Léa</td>\n",
       "      <td>10.0</td>\n",
       "      <td>5.5</td>\n",
       "      <td>12.0</td>\n",
       "      <td>NaN</td>\n",
       "      <td>4.0</td>\n",
       "    </tr>\n",
       "    <tr>\n",
       "      <th>4</th>\n",
       "      <td>Andrew</td>\n",
       "      <td>0.5</td>\n",
       "      <td>10.5</td>\n",
       "      <td>1.5</td>\n",
       "      <td>19.0</td>\n",
       "      <td>NaN</td>\n",
       "    </tr>\n",
       "    <tr>\n",
       "      <th>5</th>\n",
       "      <td>Johanna</td>\n",
       "      <td>3.0</td>\n",
       "      <td>0.0</td>\n",
       "      <td>11.0</td>\n",
       "      <td>1.5</td>\n",
       "      <td>NaN</td>\n",
       "    </tr>\n",
       "  </tbody>\n",
       "</table>\n",
       "</div>"
      ],
      "text/plain": [
       "       nom  Maths   SVT  Français  Economie  Physique\n",
       "0    Emile    5.0   2.0      16.5      18.5       NaN\n",
       "1   Joseph   12.0   4.5       6.5       NaN       8.5\n",
       "2  Patrick    2.0  13.0       1.0      12.0       NaN\n",
       "3      Léa   10.0   5.5      12.0       NaN       4.0\n",
       "4   Andrew    0.5  10.5       1.5      19.0       NaN\n",
       "5  Johanna    3.0   0.0      11.0       1.5       NaN"
      ]
     },
     "execution_count": 37,
     "metadata": {},
     "output_type": "execute_result"
    }
   ],
   "source": [
    "df_note_2filiere"
   ]
  },
  {
   "cell_type": "code",
   "execution_count": 38,
   "id": "35ae04d1",
   "metadata": {},
   "outputs": [
    {
     "data": {
      "text/plain": [
       "0    False\n",
       "1     True\n",
       "2    False\n",
       "3     True\n",
       "4    False\n",
       "5    False\n",
       "Name: Maths, dtype: bool"
      ]
     },
     "execution_count": 38,
     "metadata": {},
     "output_type": "execute_result"
    }
   ],
   "source": [
    "(df_note_2filiere.Maths >= 10)"
   ]
  },
  {
   "cell_type": "raw",
   "id": "4b89907f",
   "metadata": {},
   "source": [
    "On veut afficher les élèves qui n'ont pas eu la moyenne en maths :"
   ]
  },
  {
   "cell_type": "code",
   "execution_count": 39,
   "id": "1a4fff94",
   "metadata": {},
   "outputs": [
    {
     "data": {
      "text/html": [
       "<div>\n",
       "<style scoped>\n",
       "    .dataframe tbody tr th:only-of-type {\n",
       "        vertical-align: middle;\n",
       "    }\n",
       "\n",
       "    .dataframe tbody tr th {\n",
       "        vertical-align: top;\n",
       "    }\n",
       "\n",
       "    .dataframe thead th {\n",
       "        text-align: right;\n",
       "    }\n",
       "</style>\n",
       "<table border=\"1\" class=\"dataframe\">\n",
       "  <thead>\n",
       "    <tr style=\"text-align: right;\">\n",
       "      <th></th>\n",
       "      <th>nom</th>\n",
       "      <th>Maths</th>\n",
       "      <th>SVT</th>\n",
       "      <th>Français</th>\n",
       "      <th>Economie</th>\n",
       "      <th>Physique</th>\n",
       "    </tr>\n",
       "  </thead>\n",
       "  <tbody>\n",
       "    <tr>\n",
       "      <th>0</th>\n",
       "      <td>Emile</td>\n",
       "      <td>5.0</td>\n",
       "      <td>2.0</td>\n",
       "      <td>16.5</td>\n",
       "      <td>18.5</td>\n",
       "      <td>NaN</td>\n",
       "    </tr>\n",
       "    <tr>\n",
       "      <th>2</th>\n",
       "      <td>Patrick</td>\n",
       "      <td>2.0</td>\n",
       "      <td>13.0</td>\n",
       "      <td>1.0</td>\n",
       "      <td>12.0</td>\n",
       "      <td>NaN</td>\n",
       "    </tr>\n",
       "    <tr>\n",
       "      <th>4</th>\n",
       "      <td>Andrew</td>\n",
       "      <td>0.5</td>\n",
       "      <td>10.5</td>\n",
       "      <td>1.5</td>\n",
       "      <td>19.0</td>\n",
       "      <td>NaN</td>\n",
       "    </tr>\n",
       "    <tr>\n",
       "      <th>5</th>\n",
       "      <td>Johanna</td>\n",
       "      <td>3.0</td>\n",
       "      <td>0.0</td>\n",
       "      <td>11.0</td>\n",
       "      <td>1.5</td>\n",
       "      <td>NaN</td>\n",
       "    </tr>\n",
       "  </tbody>\n",
       "</table>\n",
       "</div>"
      ],
      "text/plain": [
       "       nom  Maths   SVT  Français  Economie  Physique\n",
       "0    Emile    5.0   2.0      16.5      18.5       NaN\n",
       "2  Patrick    2.0  13.0       1.0      12.0       NaN\n",
       "4   Andrew    0.5  10.5       1.5      19.0       NaN\n",
       "5  Johanna    3.0   0.0      11.0       1.5       NaN"
      ]
     },
     "execution_count": 39,
     "metadata": {},
     "output_type": "execute_result"
    }
   ],
   "source": [
    "df_note_2filiere[(df_note_2filiere.Maths < 10) ] "
   ]
  },
  {
   "cell_type": "raw",
   "id": "e5fa5df3",
   "metadata": {},
   "source": [
    "Si l'on veut ceux qui ont eu la moyenne :"
   ]
  },
  {
   "cell_type": "code",
   "execution_count": 40,
   "id": "d2379963",
   "metadata": {},
   "outputs": [
    {
     "data": {
      "text/html": [
       "<div>\n",
       "<style scoped>\n",
       "    .dataframe tbody tr th:only-of-type {\n",
       "        vertical-align: middle;\n",
       "    }\n",
       "\n",
       "    .dataframe tbody tr th {\n",
       "        vertical-align: top;\n",
       "    }\n",
       "\n",
       "    .dataframe thead th {\n",
       "        text-align: right;\n",
       "    }\n",
       "</style>\n",
       "<table border=\"1\" class=\"dataframe\">\n",
       "  <thead>\n",
       "    <tr style=\"text-align: right;\">\n",
       "      <th></th>\n",
       "      <th>nom</th>\n",
       "      <th>Maths</th>\n",
       "      <th>SVT</th>\n",
       "      <th>Français</th>\n",
       "      <th>Economie</th>\n",
       "      <th>Physique</th>\n",
       "    </tr>\n",
       "  </thead>\n",
       "  <tbody>\n",
       "    <tr>\n",
       "      <th>1</th>\n",
       "      <td>Joseph</td>\n",
       "      <td>12.0</td>\n",
       "      <td>4.5</td>\n",
       "      <td>6.5</td>\n",
       "      <td>NaN</td>\n",
       "      <td>8.5</td>\n",
       "    </tr>\n",
       "    <tr>\n",
       "      <th>3</th>\n",
       "      <td>Léa</td>\n",
       "      <td>10.0</td>\n",
       "      <td>5.5</td>\n",
       "      <td>12.0</td>\n",
       "      <td>NaN</td>\n",
       "      <td>4.0</td>\n",
       "    </tr>\n",
       "  </tbody>\n",
       "</table>\n",
       "</div>"
      ],
      "text/plain": [
       "      nom  Maths  SVT  Français  Economie  Physique\n",
       "1  Joseph   12.0  4.5       6.5       NaN       8.5\n",
       "3     Léa   10.0  5.5      12.0       NaN       4.0"
      ]
     },
     "execution_count": 40,
     "metadata": {},
     "output_type": "execute_result"
    }
   ],
   "source": [
    "df_note_2filiere[(df_note_2filiere.Maths >= 10) ] "
   ]
  },
  {
   "cell_type": "code",
   "execution_count": 41,
   "id": "cb1566c1",
   "metadata": {},
   "outputs": [
    {
     "data": {
      "text/html": [
       "<div>\n",
       "<style scoped>\n",
       "    .dataframe tbody tr th:only-of-type {\n",
       "        vertical-align: middle;\n",
       "    }\n",
       "\n",
       "    .dataframe tbody tr th {\n",
       "        vertical-align: top;\n",
       "    }\n",
       "\n",
       "    .dataframe thead th {\n",
       "        text-align: right;\n",
       "    }\n",
       "</style>\n",
       "<table border=\"1\" class=\"dataframe\">\n",
       "  <thead>\n",
       "    <tr style=\"text-align: right;\">\n",
       "      <th></th>\n",
       "      <th>nom</th>\n",
       "      <th>Maths</th>\n",
       "      <th>SVT</th>\n",
       "      <th>Français</th>\n",
       "      <th>Economie</th>\n",
       "      <th>Physique</th>\n",
       "    </tr>\n",
       "  </thead>\n",
       "  <tbody>\n",
       "    <tr>\n",
       "      <th>1</th>\n",
       "      <td>Joseph</td>\n",
       "      <td>12.0</td>\n",
       "      <td>4.5</td>\n",
       "      <td>6.5</td>\n",
       "      <td>NaN</td>\n",
       "      <td>8.5</td>\n",
       "    </tr>\n",
       "    <tr>\n",
       "      <th>3</th>\n",
       "      <td>Léa</td>\n",
       "      <td>10.0</td>\n",
       "      <td>5.5</td>\n",
       "      <td>12.0</td>\n",
       "      <td>NaN</td>\n",
       "      <td>4.0</td>\n",
       "    </tr>\n",
       "  </tbody>\n",
       "</table>\n",
       "</div>"
      ],
      "text/plain": [
       "      nom  Maths  SVT  Français  Economie  Physique\n",
       "1  Joseph   12.0  4.5       6.5       NaN       8.5\n",
       "3     Léa   10.0  5.5      12.0       NaN       4.0"
      ]
     },
     "execution_count": 41,
     "metadata": {},
     "output_type": "execute_result"
    }
   ],
   "source": [
    "df_note_2filiere[~(df_note_2filiere.Maths < 10) ] "
   ]
  },
  {
   "cell_type": "raw",
   "id": "0c102820",
   "metadata": {},
   "source": [
    "OU : "
   ]
  },
  {
   "cell_type": "code",
   "execution_count": 42,
   "id": "2fae58d2",
   "metadata": {},
   "outputs": [
    {
     "data": {
      "text/html": [
       "<div>\n",
       "<style scoped>\n",
       "    .dataframe tbody tr th:only-of-type {\n",
       "        vertical-align: middle;\n",
       "    }\n",
       "\n",
       "    .dataframe tbody tr th {\n",
       "        vertical-align: top;\n",
       "    }\n",
       "\n",
       "    .dataframe thead th {\n",
       "        text-align: right;\n",
       "    }\n",
       "</style>\n",
       "<table border=\"1\" class=\"dataframe\">\n",
       "  <thead>\n",
       "    <tr style=\"text-align: right;\">\n",
       "      <th></th>\n",
       "      <th>nom</th>\n",
       "      <th>Maths</th>\n",
       "      <th>SVT</th>\n",
       "      <th>Français</th>\n",
       "      <th>Economie</th>\n",
       "      <th>Physique</th>\n",
       "    </tr>\n",
       "  </thead>\n",
       "  <tbody>\n",
       "    <tr>\n",
       "      <th>0</th>\n",
       "      <td>Emile</td>\n",
       "      <td>5.0</td>\n",
       "      <td>2.0</td>\n",
       "      <td>16.5</td>\n",
       "      <td>18.5</td>\n",
       "      <td>NaN</td>\n",
       "    </tr>\n",
       "    <tr>\n",
       "      <th>1</th>\n",
       "      <td>Joseph</td>\n",
       "      <td>12.0</td>\n",
       "      <td>4.5</td>\n",
       "      <td>6.5</td>\n",
       "      <td>NaN</td>\n",
       "      <td>8.5</td>\n",
       "    </tr>\n",
       "    <tr>\n",
       "      <th>2</th>\n",
       "      <td>Patrick</td>\n",
       "      <td>2.0</td>\n",
       "      <td>13.0</td>\n",
       "      <td>1.0</td>\n",
       "      <td>12.0</td>\n",
       "      <td>NaN</td>\n",
       "    </tr>\n",
       "    <tr>\n",
       "      <th>3</th>\n",
       "      <td>Léa</td>\n",
       "      <td>10.0</td>\n",
       "      <td>5.5</td>\n",
       "      <td>12.0</td>\n",
       "      <td>NaN</td>\n",
       "      <td>4.0</td>\n",
       "    </tr>\n",
       "    <tr>\n",
       "      <th>4</th>\n",
       "      <td>Andrew</td>\n",
       "      <td>0.5</td>\n",
       "      <td>10.5</td>\n",
       "      <td>1.5</td>\n",
       "      <td>19.0</td>\n",
       "      <td>NaN</td>\n",
       "    </tr>\n",
       "    <tr>\n",
       "      <th>5</th>\n",
       "      <td>Johanna</td>\n",
       "      <td>3.0</td>\n",
       "      <td>0.0</td>\n",
       "      <td>11.0</td>\n",
       "      <td>1.5</td>\n",
       "      <td>NaN</td>\n",
       "    </tr>\n",
       "  </tbody>\n",
       "</table>\n",
       "</div>"
      ],
      "text/plain": [
       "       nom  Maths   SVT  Français  Economie  Physique\n",
       "0    Emile    5.0   2.0      16.5      18.5       NaN\n",
       "1   Joseph   12.0   4.5       6.5       NaN       8.5\n",
       "2  Patrick    2.0  13.0       1.0      12.0       NaN\n",
       "3      Léa   10.0   5.5      12.0       NaN       4.0\n",
       "4   Andrew    0.5  10.5       1.5      19.0       NaN\n",
       "5  Johanna    3.0   0.0      11.0       1.5       NaN"
      ]
     },
     "execution_count": 42,
     "metadata": {},
     "output_type": "execute_result"
    }
   ],
   "source": [
    "df_note_2filiere"
   ]
  },
  {
   "cell_type": "code",
   "execution_count": 43,
   "id": "6beacadb",
   "metadata": {},
   "outputs": [
    {
     "data": {
      "text/html": [
       "<div>\n",
       "<style scoped>\n",
       "    .dataframe tbody tr th:only-of-type {\n",
       "        vertical-align: middle;\n",
       "    }\n",
       "\n",
       "    .dataframe tbody tr th {\n",
       "        vertical-align: top;\n",
       "    }\n",
       "\n",
       "    .dataframe thead th {\n",
       "        text-align: right;\n",
       "    }\n",
       "</style>\n",
       "<table border=\"1\" class=\"dataframe\">\n",
       "  <thead>\n",
       "    <tr style=\"text-align: right;\">\n",
       "      <th></th>\n",
       "      <th>nom</th>\n",
       "      <th>Maths</th>\n",
       "      <th>SVT</th>\n",
       "      <th>Français</th>\n",
       "      <th>Economie</th>\n",
       "      <th>Physique</th>\n",
       "    </tr>\n",
       "  </thead>\n",
       "  <tbody>\n",
       "    <tr>\n",
       "      <th>0</th>\n",
       "      <td>Emile</td>\n",
       "      <td>12.0</td>\n",
       "      <td>18.5</td>\n",
       "      <td>9.0</td>\n",
       "      <td>11.0</td>\n",
       "      <td></td>\n",
       "    </tr>\n",
       "    <tr>\n",
       "      <th>1</th>\n",
       "      <td>Joseph</td>\n",
       "      <td>19.5</td>\n",
       "      <td>15.5</td>\n",
       "      <td>12.5</td>\n",
       "      <td>17.5</td>\n",
       "      <td></td>\n",
       "    </tr>\n",
       "    <tr>\n",
       "      <th>2</th>\n",
       "      <td>Patrick</td>\n",
       "      <td>8.0</td>\n",
       "      <td>4.5</td>\n",
       "      <td>7.0</td>\n",
       "      <td>0.5</td>\n",
       "      <td></td>\n",
       "    </tr>\n",
       "    <tr>\n",
       "      <th>3</th>\n",
       "      <td>Léa</td>\n",
       "      <td>5.5</td>\n",
       "      <td>3.5</td>\n",
       "      <td>8.5</td>\n",
       "      <td></td>\n",
       "      <td>18.0</td>\n",
       "    </tr>\n",
       "    <tr>\n",
       "      <th>4</th>\n",
       "      <td>Andrew</td>\n",
       "      <td>14.5</td>\n",
       "      <td>0.5</td>\n",
       "      <td>7.0</td>\n",
       "      <td>1.0</td>\n",
       "      <td></td>\n",
       "    </tr>\n",
       "    <tr>\n",
       "      <th>5</th>\n",
       "      <td>Johanna</td>\n",
       "      <td>19.0</td>\n",
       "      <td>11.0</td>\n",
       "      <td>10.0</td>\n",
       "      <td></td>\n",
       "      <td>2.0</td>\n",
       "    </tr>\n",
       "  </tbody>\n",
       "</table>\n",
       "</div>"
      ],
      "text/plain": [
       "       nom  Maths   SVT  Français Economie Physique\n",
       "0    Emile   12.0  18.5       9.0     11.0         \n",
       "1   Joseph   19.5  15.5      12.5     17.5         \n",
       "2  Patrick    8.0   4.5       7.0      0.5         \n",
       "3      Léa    5.5   3.5       8.5              18.0\n",
       "4   Andrew   14.5   0.5       7.0      1.0         \n",
       "5  Johanna   19.0  11.0      10.0               2.0"
      ]
     },
     "execution_count": 43,
     "metadata": {},
     "output_type": "execute_result"
    }
   ],
   "source": [
    "df_note_2filiere_attention = pd.DataFrame(data_note_2filiere_attention)\n",
    "df_note_2filiere_attention"
   ]
  },
  {
   "cell_type": "code",
   "execution_count": 44,
   "id": "4e965243",
   "metadata": {},
   "outputs": [
    {
     "data": {
      "text/html": [
       "<div>\n",
       "<style scoped>\n",
       "    .dataframe tbody tr th:only-of-type {\n",
       "        vertical-align: middle;\n",
       "    }\n",
       "\n",
       "    .dataframe tbody tr th {\n",
       "        vertical-align: top;\n",
       "    }\n",
       "\n",
       "    .dataframe thead th {\n",
       "        text-align: right;\n",
       "    }\n",
       "</style>\n",
       "<table border=\"1\" class=\"dataframe\">\n",
       "  <thead>\n",
       "    <tr style=\"text-align: right;\">\n",
       "      <th></th>\n",
       "      <th>nom</th>\n",
       "      <th>Maths</th>\n",
       "      <th>SVT</th>\n",
       "      <th>Français</th>\n",
       "      <th>Economie</th>\n",
       "      <th>Physique</th>\n",
       "    </tr>\n",
       "  </thead>\n",
       "  <tbody>\n",
       "    <tr>\n",
       "      <th>0</th>\n",
       "      <td>Emile</td>\n",
       "      <td>5.0</td>\n",
       "      <td>2.0</td>\n",
       "      <td>16.5</td>\n",
       "      <td>18.5</td>\n",
       "      <td>NaN</td>\n",
       "    </tr>\n",
       "    <tr>\n",
       "      <th>2</th>\n",
       "      <td>Patrick</td>\n",
       "      <td>2.0</td>\n",
       "      <td>13.0</td>\n",
       "      <td>1.0</td>\n",
       "      <td>12.0</td>\n",
       "      <td>NaN</td>\n",
       "    </tr>\n",
       "    <tr>\n",
       "      <th>4</th>\n",
       "      <td>Andrew</td>\n",
       "      <td>0.5</td>\n",
       "      <td>10.5</td>\n",
       "      <td>1.5</td>\n",
       "      <td>19.0</td>\n",
       "      <td>NaN</td>\n",
       "    </tr>\n",
       "  </tbody>\n",
       "</table>\n",
       "</div>"
      ],
      "text/plain": [
       "       nom  Maths   SVT  Français  Economie  Physique\n",
       "0    Emile    5.0   2.0      16.5      18.5       NaN\n",
       "2  Patrick    2.0  13.0       1.0      12.0       NaN\n",
       "4   Andrew    0.5  10.5       1.5      19.0       NaN"
      ]
     },
     "execution_count": 44,
     "metadata": {},
     "output_type": "execute_result"
    }
   ],
   "source": [
    "df_note_2filiere[(df_note_2filiere.Economie >= 10) & ~(df_note_2filiere.Economie.isna())  ]  # ~ prend l'opposé de l'expression à l'intérieur"
   ]
  },
  {
   "cell_type": "code",
   "execution_count": 45,
   "id": "0122c2d4",
   "metadata": {},
   "outputs": [
    {
     "data": {
      "text/html": [
       "<div>\n",
       "<style scoped>\n",
       "    .dataframe tbody tr th:only-of-type {\n",
       "        vertical-align: middle;\n",
       "    }\n",
       "\n",
       "    .dataframe tbody tr th {\n",
       "        vertical-align: top;\n",
       "    }\n",
       "\n",
       "    .dataframe thead th {\n",
       "        text-align: right;\n",
       "    }\n",
       "</style>\n",
       "<table border=\"1\" class=\"dataframe\">\n",
       "  <thead>\n",
       "    <tr style=\"text-align: right;\">\n",
       "      <th></th>\n",
       "      <th>nom</th>\n",
       "      <th>Maths</th>\n",
       "      <th>SVT</th>\n",
       "      <th>Français</th>\n",
       "      <th>Economie</th>\n",
       "      <th>Physique</th>\n",
       "    </tr>\n",
       "  </thead>\n",
       "  <tbody>\n",
       "    <tr>\n",
       "      <th>0</th>\n",
       "      <td>Emile</td>\n",
       "      <td>12.0</td>\n",
       "      <td>18.5</td>\n",
       "      <td>9.0</td>\n",
       "      <td>11.0</td>\n",
       "      <td></td>\n",
       "    </tr>\n",
       "    <tr>\n",
       "      <th>1</th>\n",
       "      <td>Joseph</td>\n",
       "      <td>19.5</td>\n",
       "      <td>15.5</td>\n",
       "      <td>12.5</td>\n",
       "      <td>17.5</td>\n",
       "      <td></td>\n",
       "    </tr>\n",
       "    <tr>\n",
       "      <th>2</th>\n",
       "      <td>Patrick</td>\n",
       "      <td>8.0</td>\n",
       "      <td>4.5</td>\n",
       "      <td>7.0</td>\n",
       "      <td>0.5</td>\n",
       "      <td></td>\n",
       "    </tr>\n",
       "    <tr>\n",
       "      <th>3</th>\n",
       "      <td>Léa</td>\n",
       "      <td>5.5</td>\n",
       "      <td>3.5</td>\n",
       "      <td>8.5</td>\n",
       "      <td></td>\n",
       "      <td>18.0</td>\n",
       "    </tr>\n",
       "    <tr>\n",
       "      <th>4</th>\n",
       "      <td>Andrew</td>\n",
       "      <td>14.5</td>\n",
       "      <td>0.5</td>\n",
       "      <td>7.0</td>\n",
       "      <td>1.0</td>\n",
       "      <td></td>\n",
       "    </tr>\n",
       "    <tr>\n",
       "      <th>5</th>\n",
       "      <td>Johanna</td>\n",
       "      <td>19.0</td>\n",
       "      <td>11.0</td>\n",
       "      <td>10.0</td>\n",
       "      <td></td>\n",
       "      <td>2.0</td>\n",
       "    </tr>\n",
       "  </tbody>\n",
       "</table>\n",
       "</div>"
      ],
      "text/plain": [
       "       nom  Maths   SVT  Français Economie Physique\n",
       "0    Emile   12.0  18.5       9.0     11.0         \n",
       "1   Joseph   19.5  15.5      12.5     17.5         \n",
       "2  Patrick    8.0   4.5       7.0      0.5         \n",
       "3      Léa    5.5   3.5       8.5              18.0\n",
       "4   Andrew   14.5   0.5       7.0      1.0         \n",
       "5  Johanna   19.0  11.0      10.0               2.0"
      ]
     },
     "execution_count": 45,
     "metadata": {},
     "output_type": "execute_result"
    }
   ],
   "source": [
    "df_note_2filiere_attention"
   ]
  },
  {
   "cell_type": "code",
   "execution_count": 46,
   "id": "5121641f",
   "metadata": {},
   "outputs": [
    {
     "ename": "TypeError",
     "evalue": "'<' not supported between instances of 'str' and 'int'",
     "output_type": "error",
     "traceback": [
      "\u001b[1;31m---------------------------------------------------------------------------\u001b[0m",
      "\u001b[1;31mTypeError\u001b[0m                                 Traceback (most recent call last)",
      "Cell \u001b[1;32mIn[46], line 1\u001b[0m\n\u001b[1;32m----> 1\u001b[0m df_note_2filiere_attention[(\u001b[43mdf_note_2filiere_attention\u001b[49m\u001b[38;5;241;43m.\u001b[39;49m\u001b[43mEconomie\u001b[49m\u001b[43m \u001b[49m\u001b[38;5;241;43m<\u001b[39;49m\u001b[43m \u001b[49m\u001b[38;5;241;43m10\u001b[39;49m) ] \n",
      "File \u001b[1;32m~\\AppData\\Local\\Programs\\Python\\Python310\\lib\\site-packages\\pandas\\core\\ops\\common.py:72\u001b[0m, in \u001b[0;36m_unpack_zerodim_and_defer.<locals>.new_method\u001b[1;34m(self, other)\u001b[0m\n\u001b[0;32m     68\u001b[0m             \u001b[38;5;28;01mreturn\u001b[39;00m \u001b[38;5;28mNotImplemented\u001b[39m\n\u001b[0;32m     70\u001b[0m other \u001b[38;5;241m=\u001b[39m item_from_zerodim(other)\n\u001b[1;32m---> 72\u001b[0m \u001b[38;5;28;01mreturn\u001b[39;00m \u001b[43mmethod\u001b[49m\u001b[43m(\u001b[49m\u001b[38;5;28;43mself\u001b[39;49m\u001b[43m,\u001b[49m\u001b[43m \u001b[49m\u001b[43mother\u001b[49m\u001b[43m)\u001b[49m\n",
      "File \u001b[1;32m~\\AppData\\Local\\Programs\\Python\\Python310\\lib\\site-packages\\pandas\\core\\arraylike.py:50\u001b[0m, in \u001b[0;36mOpsMixin.__lt__\u001b[1;34m(self, other)\u001b[0m\n\u001b[0;32m     48\u001b[0m \u001b[38;5;129m@unpack_zerodim_and_defer\u001b[39m(\u001b[38;5;124m\"\u001b[39m\u001b[38;5;124m__lt__\u001b[39m\u001b[38;5;124m\"\u001b[39m)\n\u001b[0;32m     49\u001b[0m \u001b[38;5;28;01mdef\u001b[39;00m \u001b[38;5;21m__lt__\u001b[39m(\u001b[38;5;28mself\u001b[39m, other):\n\u001b[1;32m---> 50\u001b[0m     \u001b[38;5;28;01mreturn\u001b[39;00m \u001b[38;5;28;43mself\u001b[39;49m\u001b[38;5;241;43m.\u001b[39;49m\u001b[43m_cmp_method\u001b[49m\u001b[43m(\u001b[49m\u001b[43mother\u001b[49m\u001b[43m,\u001b[49m\u001b[43m \u001b[49m\u001b[43moperator\u001b[49m\u001b[38;5;241;43m.\u001b[39;49m\u001b[43mlt\u001b[49m\u001b[43m)\u001b[49m\n",
      "File \u001b[1;32m~\\AppData\\Local\\Programs\\Python\\Python310\\lib\\site-packages\\pandas\\core\\series.py:6243\u001b[0m, in \u001b[0;36mSeries._cmp_method\u001b[1;34m(self, other, op)\u001b[0m\n\u001b[0;32m   6240\u001b[0m rvalues \u001b[38;5;241m=\u001b[39m extract_array(other, extract_numpy\u001b[38;5;241m=\u001b[39m\u001b[38;5;28;01mTrue\u001b[39;00m, extract_range\u001b[38;5;241m=\u001b[39m\u001b[38;5;28;01mTrue\u001b[39;00m)\n\u001b[0;32m   6242\u001b[0m \u001b[38;5;28;01mwith\u001b[39;00m np\u001b[38;5;241m.\u001b[39merrstate(\u001b[38;5;28mall\u001b[39m\u001b[38;5;241m=\u001b[39m\u001b[38;5;124m\"\u001b[39m\u001b[38;5;124mignore\u001b[39m\u001b[38;5;124m\"\u001b[39m):\n\u001b[1;32m-> 6243\u001b[0m     res_values \u001b[38;5;241m=\u001b[39m \u001b[43mops\u001b[49m\u001b[38;5;241;43m.\u001b[39;49m\u001b[43mcomparison_op\u001b[49m\u001b[43m(\u001b[49m\u001b[43mlvalues\u001b[49m\u001b[43m,\u001b[49m\u001b[43m \u001b[49m\u001b[43mrvalues\u001b[49m\u001b[43m,\u001b[49m\u001b[43m \u001b[49m\u001b[43mop\u001b[49m\u001b[43m)\u001b[49m\n\u001b[0;32m   6245\u001b[0m \u001b[38;5;28;01mreturn\u001b[39;00m \u001b[38;5;28mself\u001b[39m\u001b[38;5;241m.\u001b[39m_construct_result(res_values, name\u001b[38;5;241m=\u001b[39mres_name)\n",
      "File \u001b[1;32m~\\AppData\\Local\\Programs\\Python\\Python310\\lib\\site-packages\\pandas\\core\\ops\\array_ops.py:287\u001b[0m, in \u001b[0;36mcomparison_op\u001b[1;34m(left, right, op)\u001b[0m\n\u001b[0;32m    284\u001b[0m     \u001b[38;5;28;01mreturn\u001b[39;00m invalid_comparison(lvalues, rvalues, op)\n\u001b[0;32m    286\u001b[0m \u001b[38;5;28;01melif\u001b[39;00m is_object_dtype(lvalues\u001b[38;5;241m.\u001b[39mdtype) \u001b[38;5;129;01mor\u001b[39;00m \u001b[38;5;28misinstance\u001b[39m(rvalues, \u001b[38;5;28mstr\u001b[39m):\n\u001b[1;32m--> 287\u001b[0m     res_values \u001b[38;5;241m=\u001b[39m \u001b[43mcomp_method_OBJECT_ARRAY\u001b[49m\u001b[43m(\u001b[49m\u001b[43mop\u001b[49m\u001b[43m,\u001b[49m\u001b[43m \u001b[49m\u001b[43mlvalues\u001b[49m\u001b[43m,\u001b[49m\u001b[43m \u001b[49m\u001b[43mrvalues\u001b[49m\u001b[43m)\u001b[49m\n\u001b[0;32m    289\u001b[0m \u001b[38;5;28;01melse\u001b[39;00m:\n\u001b[0;32m    290\u001b[0m     res_values \u001b[38;5;241m=\u001b[39m _na_arithmetic_op(lvalues, rvalues, op, is_cmp\u001b[38;5;241m=\u001b[39m\u001b[38;5;28;01mTrue\u001b[39;00m)\n",
      "File \u001b[1;32m~\\AppData\\Local\\Programs\\Python\\Python310\\lib\\site-packages\\pandas\\core\\ops\\array_ops.py:75\u001b[0m, in \u001b[0;36mcomp_method_OBJECT_ARRAY\u001b[1;34m(op, x, y)\u001b[0m\n\u001b[0;32m     73\u001b[0m     result \u001b[38;5;241m=\u001b[39m libops\u001b[38;5;241m.\u001b[39mvec_compare(x\u001b[38;5;241m.\u001b[39mravel(), y\u001b[38;5;241m.\u001b[39mravel(), op)\n\u001b[0;32m     74\u001b[0m \u001b[38;5;28;01melse\u001b[39;00m:\n\u001b[1;32m---> 75\u001b[0m     result \u001b[38;5;241m=\u001b[39m \u001b[43mlibops\u001b[49m\u001b[38;5;241;43m.\u001b[39;49m\u001b[43mscalar_compare\u001b[49m\u001b[43m(\u001b[49m\u001b[43mx\u001b[49m\u001b[38;5;241;43m.\u001b[39;49m\u001b[43mravel\u001b[49m\u001b[43m(\u001b[49m\u001b[43m)\u001b[49m\u001b[43m,\u001b[49m\u001b[43m \u001b[49m\u001b[43my\u001b[49m\u001b[43m,\u001b[49m\u001b[43m \u001b[49m\u001b[43mop\u001b[49m\u001b[43m)\u001b[49m\n\u001b[0;32m     76\u001b[0m \u001b[38;5;28;01mreturn\u001b[39;00m result\u001b[38;5;241m.\u001b[39mreshape(x\u001b[38;5;241m.\u001b[39mshape)\n",
      "File \u001b[1;32m~\\AppData\\Local\\Programs\\Python\\Python310\\lib\\site-packages\\pandas\\_libs\\ops.pyx:107\u001b[0m, in \u001b[0;36mpandas._libs.ops.scalar_compare\u001b[1;34m()\u001b[0m\n",
      "\u001b[1;31mTypeError\u001b[0m: '<' not supported between instances of 'str' and 'int'"
     ]
    }
   ],
   "source": [
    "df_note_2filiere_attention[(df_note_2filiere_attention.Economie < 10) ] "
   ]
  },
  {
   "cell_type": "code",
   "execution_count": 47,
   "id": "0bcf421a",
   "metadata": {},
   "outputs": [
    {
     "data": {
      "text/plain": [
       "False"
      ]
     },
     "execution_count": 47,
     "metadata": {},
     "output_type": "execute_result"
    }
   ],
   "source": [
    "\"a\" >\"b\""
   ]
  },
  {
   "cell_type": "code",
   "execution_count": 48,
   "id": "ab6c0e13",
   "metadata": {},
   "outputs": [
    {
     "data": {
      "text/plain": [
       "False"
      ]
     },
     "execution_count": 48,
     "metadata": {},
     "output_type": "execute_result"
    }
   ],
   "source": [
    "1 > 2"
   ]
  },
  {
   "cell_type": "code",
   "execution_count": 49,
   "id": "d3dbfc32",
   "metadata": {},
   "outputs": [
    {
     "ename": "TypeError",
     "evalue": "'<' not supported between instances of 'str' and 'int'",
     "output_type": "error",
     "traceback": [
      "\u001b[1;31m---------------------------------------------------------------------------\u001b[0m",
      "\u001b[1;31mTypeError\u001b[0m                                 Traceback (most recent call last)",
      "Cell \u001b[1;32mIn[49], line 1\u001b[0m\n\u001b[1;32m----> 1\u001b[0m \u001b[38;5;124;43m\"\u001b[39;49m\u001b[38;5;124;43m\"\u001b[39;49m\u001b[43m \u001b[49m\u001b[38;5;241;43m<\u001b[39;49m\u001b[43m \u001b[49m\u001b[38;5;241;43m10\u001b[39;49m\n",
      "\u001b[1;31mTypeError\u001b[0m: '<' not supported between instances of 'str' and 'int'"
     ]
    }
   ],
   "source": [
    "\"\" < 10"
   ]
  },
  {
   "cell_type": "code",
   "execution_count": 50,
   "id": "722e1d0a",
   "metadata": {},
   "outputs": [
    {
     "ename": "TypeError",
     "evalue": "'>' not supported between instances of 'str' and 'int'",
     "output_type": "error",
     "traceback": [
      "\u001b[1;31m---------------------------------------------------------------------------\u001b[0m",
      "\u001b[1;31mTypeError\u001b[0m                                 Traceback (most recent call last)",
      "Cell \u001b[1;32mIn[50], line 1\u001b[0m\n\u001b[1;32m----> 1\u001b[0m \u001b[38;5;124;43m\"\u001b[39;49m\u001b[38;5;124;43mbonjour\u001b[39;49m\u001b[38;5;124;43m\"\u001b[39;49m\u001b[43m \u001b[49m\u001b[38;5;241;43m>\u001b[39;49m\u001b[43m \u001b[49m\u001b[38;5;241;43m10\u001b[39;49m\n",
      "\u001b[1;31mTypeError\u001b[0m: '>' not supported between instances of 'str' and 'int'"
     ]
    }
   ],
   "source": [
    "\"bonjour\" > 10"
   ]
  },
  {
   "cell_type": "code",
   "execution_count": 51,
   "id": "e94ff4b5",
   "metadata": {},
   "outputs": [
    {
     "data": {
      "text/html": [
       "<div>\n",
       "<style scoped>\n",
       "    .dataframe tbody tr th:only-of-type {\n",
       "        vertical-align: middle;\n",
       "    }\n",
       "\n",
       "    .dataframe tbody tr th {\n",
       "        vertical-align: top;\n",
       "    }\n",
       "\n",
       "    .dataframe thead th {\n",
       "        text-align: right;\n",
       "    }\n",
       "</style>\n",
       "<table border=\"1\" class=\"dataframe\">\n",
       "  <thead>\n",
       "    <tr style=\"text-align: right;\">\n",
       "      <th></th>\n",
       "      <th>nom</th>\n",
       "      <th>Maths</th>\n",
       "      <th>SVT</th>\n",
       "      <th>Français</th>\n",
       "      <th>Economie</th>\n",
       "      <th>Physique</th>\n",
       "    </tr>\n",
       "  </thead>\n",
       "  <tbody>\n",
       "    <tr>\n",
       "      <th>0</th>\n",
       "      <td>Emile</td>\n",
       "      <td>5.0</td>\n",
       "      <td>2.0</td>\n",
       "      <td>16.5</td>\n",
       "      <td>18.5</td>\n",
       "      <td>NaN</td>\n",
       "    </tr>\n",
       "    <tr>\n",
       "      <th>1</th>\n",
       "      <td>Joseph</td>\n",
       "      <td>12.0</td>\n",
       "      <td>4.5</td>\n",
       "      <td>6.5</td>\n",
       "      <td>NaN</td>\n",
       "      <td>8.5</td>\n",
       "    </tr>\n",
       "    <tr>\n",
       "      <th>2</th>\n",
       "      <td>Patrick</td>\n",
       "      <td>2.0</td>\n",
       "      <td>13.0</td>\n",
       "      <td>1.0</td>\n",
       "      <td>12.0</td>\n",
       "      <td>NaN</td>\n",
       "    </tr>\n",
       "    <tr>\n",
       "      <th>3</th>\n",
       "      <td>Léa</td>\n",
       "      <td>10.0</td>\n",
       "      <td>5.5</td>\n",
       "      <td>12.0</td>\n",
       "      <td>NaN</td>\n",
       "      <td>4.0</td>\n",
       "    </tr>\n",
       "    <tr>\n",
       "      <th>4</th>\n",
       "      <td>Andrew</td>\n",
       "      <td>0.5</td>\n",
       "      <td>10.5</td>\n",
       "      <td>1.5</td>\n",
       "      <td>19.0</td>\n",
       "      <td>NaN</td>\n",
       "    </tr>\n",
       "    <tr>\n",
       "      <th>5</th>\n",
       "      <td>Johanna</td>\n",
       "      <td>3.0</td>\n",
       "      <td>0.0</td>\n",
       "      <td>11.0</td>\n",
       "      <td>1.5</td>\n",
       "      <td>NaN</td>\n",
       "    </tr>\n",
       "  </tbody>\n",
       "</table>\n",
       "</div>"
      ],
      "text/plain": [
       "       nom  Maths   SVT  Français  Economie  Physique\n",
       "0    Emile    5.0   2.0      16.5      18.5       NaN\n",
       "1   Joseph   12.0   4.5       6.5       NaN       8.5\n",
       "2  Patrick    2.0  13.0       1.0      12.0       NaN\n",
       "3      Léa   10.0   5.5      12.0       NaN       4.0\n",
       "4   Andrew    0.5  10.5       1.5      19.0       NaN\n",
       "5  Johanna    3.0   0.0      11.0       1.5       NaN"
      ]
     },
     "execution_count": 51,
     "metadata": {},
     "output_type": "execute_result"
    }
   ],
   "source": [
    "df_note_2filiere"
   ]
  },
  {
   "cell_type": "code",
   "execution_count": 52,
   "id": "92d0668a",
   "metadata": {},
   "outputs": [
    {
     "data": {
      "text/plain": [
       "nom          object\n",
       "Maths       float64\n",
       "SVT         float64\n",
       "Français    float64\n",
       "Economie    float64\n",
       "Physique    float64\n",
       "dtype: object"
      ]
     },
     "execution_count": 52,
     "metadata": {},
     "output_type": "execute_result"
    }
   ],
   "source": [
    "df_note_2filiere.dtypes"
   ]
  },
  {
   "cell_type": "code",
   "execution_count": 53,
   "id": "8eaf6bb2",
   "metadata": {},
   "outputs": [
    {
     "data": {
      "text/html": [
       "<div>\n",
       "<style scoped>\n",
       "    .dataframe tbody tr th:only-of-type {\n",
       "        vertical-align: middle;\n",
       "    }\n",
       "\n",
       "    .dataframe tbody tr th {\n",
       "        vertical-align: top;\n",
       "    }\n",
       "\n",
       "    .dataframe thead th {\n",
       "        text-align: right;\n",
       "    }\n",
       "</style>\n",
       "<table border=\"1\" class=\"dataframe\">\n",
       "  <thead>\n",
       "    <tr style=\"text-align: right;\">\n",
       "      <th></th>\n",
       "      <th>nom</th>\n",
       "      <th>Maths</th>\n",
       "      <th>SVT</th>\n",
       "      <th>Français</th>\n",
       "      <th>Economie</th>\n",
       "      <th>Physique</th>\n",
       "    </tr>\n",
       "  </thead>\n",
       "  <tbody>\n",
       "    <tr>\n",
       "      <th>0</th>\n",
       "      <td>Emile</td>\n",
       "      <td>12.0</td>\n",
       "      <td>18.5</td>\n",
       "      <td>9.0</td>\n",
       "      <td>11.0</td>\n",
       "      <td></td>\n",
       "    </tr>\n",
       "    <tr>\n",
       "      <th>1</th>\n",
       "      <td>Joseph</td>\n",
       "      <td>19.5</td>\n",
       "      <td>15.5</td>\n",
       "      <td>12.5</td>\n",
       "      <td>17.5</td>\n",
       "      <td></td>\n",
       "    </tr>\n",
       "    <tr>\n",
       "      <th>2</th>\n",
       "      <td>Patrick</td>\n",
       "      <td>8.0</td>\n",
       "      <td>4.5</td>\n",
       "      <td>7.0</td>\n",
       "      <td>0.5</td>\n",
       "      <td></td>\n",
       "    </tr>\n",
       "    <tr>\n",
       "      <th>3</th>\n",
       "      <td>Léa</td>\n",
       "      <td>5.5</td>\n",
       "      <td>3.5</td>\n",
       "      <td>8.5</td>\n",
       "      <td></td>\n",
       "      <td>18.0</td>\n",
       "    </tr>\n",
       "    <tr>\n",
       "      <th>4</th>\n",
       "      <td>Andrew</td>\n",
       "      <td>14.5</td>\n",
       "      <td>0.5</td>\n",
       "      <td>7.0</td>\n",
       "      <td>1.0</td>\n",
       "      <td></td>\n",
       "    </tr>\n",
       "    <tr>\n",
       "      <th>5</th>\n",
       "      <td>Johanna</td>\n",
       "      <td>19.0</td>\n",
       "      <td>11.0</td>\n",
       "      <td>10.0</td>\n",
       "      <td></td>\n",
       "      <td>2.0</td>\n",
       "    </tr>\n",
       "  </tbody>\n",
       "</table>\n",
       "</div>"
      ],
      "text/plain": [
       "       nom  Maths   SVT  Français Economie Physique\n",
       "0    Emile   12.0  18.5       9.0     11.0         \n",
       "1   Joseph   19.5  15.5      12.5     17.5         \n",
       "2  Patrick    8.0   4.5       7.0      0.5         \n",
       "3      Léa    5.5   3.5       8.5              18.0\n",
       "4   Andrew   14.5   0.5       7.0      1.0         \n",
       "5  Johanna   19.0  11.0      10.0               2.0"
      ]
     },
     "execution_count": 53,
     "metadata": {},
     "output_type": "execute_result"
    }
   ],
   "source": [
    "df_note_2filiere_attention"
   ]
  },
  {
   "cell_type": "code",
   "execution_count": 54,
   "id": "49a824db",
   "metadata": {},
   "outputs": [
    {
     "data": {
      "text/plain": [
       "nom          object\n",
       "Maths       float64\n",
       "SVT         float64\n",
       "Français    float64\n",
       "Economie     object\n",
       "Physique     object\n",
       "dtype: object"
      ]
     },
     "execution_count": 54,
     "metadata": {},
     "output_type": "execute_result"
    }
   ],
   "source": [
    "df_note_2filiere_attention.dtypes"
   ]
  },
  {
   "cell_type": "raw",
   "id": "83d8bea1",
   "metadata": {},
   "source": [
    "Supposons que l'on veuille savoir qui est le meilleur en Français par rapport aux matières scientifiques"
   ]
  },
  {
   "cell_type": "code",
   "execution_count": 55,
   "id": "c4cf68a5",
   "metadata": {},
   "outputs": [
    {
     "data": {
      "text/html": [
       "<div>\n",
       "<style scoped>\n",
       "    .dataframe tbody tr th:only-of-type {\n",
       "        vertical-align: middle;\n",
       "    }\n",
       "\n",
       "    .dataframe tbody tr th {\n",
       "        vertical-align: top;\n",
       "    }\n",
       "\n",
       "    .dataframe thead th {\n",
       "        text-align: right;\n",
       "    }\n",
       "</style>\n",
       "<table border=\"1\" class=\"dataframe\">\n",
       "  <thead>\n",
       "    <tr style=\"text-align: right;\">\n",
       "      <th></th>\n",
       "      <th>nom</th>\n",
       "      <th>Maths</th>\n",
       "      <th>SVT</th>\n",
       "      <th>Français</th>\n",
       "      <th>Economie</th>\n",
       "      <th>Physique</th>\n",
       "    </tr>\n",
       "  </thead>\n",
       "  <tbody>\n",
       "    <tr>\n",
       "      <th>0</th>\n",
       "      <td>Emile</td>\n",
       "      <td>5.0</td>\n",
       "      <td>2.0</td>\n",
       "      <td>16.5</td>\n",
       "      <td>18.5</td>\n",
       "      <td>NaN</td>\n",
       "    </tr>\n",
       "    <tr>\n",
       "      <th>1</th>\n",
       "      <td>Joseph</td>\n",
       "      <td>12.0</td>\n",
       "      <td>4.5</td>\n",
       "      <td>6.5</td>\n",
       "      <td>NaN</td>\n",
       "      <td>8.5</td>\n",
       "    </tr>\n",
       "    <tr>\n",
       "      <th>2</th>\n",
       "      <td>Patrick</td>\n",
       "      <td>2.0</td>\n",
       "      <td>13.0</td>\n",
       "      <td>1.0</td>\n",
       "      <td>12.0</td>\n",
       "      <td>NaN</td>\n",
       "    </tr>\n",
       "    <tr>\n",
       "      <th>3</th>\n",
       "      <td>Léa</td>\n",
       "      <td>10.0</td>\n",
       "      <td>5.5</td>\n",
       "      <td>12.0</td>\n",
       "      <td>NaN</td>\n",
       "      <td>4.0</td>\n",
       "    </tr>\n",
       "    <tr>\n",
       "      <th>4</th>\n",
       "      <td>Andrew</td>\n",
       "      <td>0.5</td>\n",
       "      <td>10.5</td>\n",
       "      <td>1.5</td>\n",
       "      <td>19.0</td>\n",
       "      <td>NaN</td>\n",
       "    </tr>\n",
       "    <tr>\n",
       "      <th>5</th>\n",
       "      <td>Johanna</td>\n",
       "      <td>3.0</td>\n",
       "      <td>0.0</td>\n",
       "      <td>11.0</td>\n",
       "      <td>1.5</td>\n",
       "      <td>NaN</td>\n",
       "    </tr>\n",
       "  </tbody>\n",
       "</table>\n",
       "</div>"
      ],
      "text/plain": [
       "       nom  Maths   SVT  Français  Economie  Physique\n",
       "0    Emile    5.0   2.0      16.5      18.5       NaN\n",
       "1   Joseph   12.0   4.5       6.5       NaN       8.5\n",
       "2  Patrick    2.0  13.0       1.0      12.0       NaN\n",
       "3      Léa   10.0   5.5      12.0       NaN       4.0\n",
       "4   Andrew    0.5  10.5       1.5      19.0       NaN\n",
       "5  Johanna    3.0   0.0      11.0       1.5       NaN"
      ]
     },
     "execution_count": 55,
     "metadata": {},
     "output_type": "execute_result"
    }
   ],
   "source": [
    "df_note_2filiere"
   ]
  },
  {
   "cell_type": "code",
   "execution_count": 56,
   "id": "8a1f63cc",
   "metadata": {},
   "outputs": [
    {
     "data": {
      "text/plain": [
       "0    17.50\n",
       "1     6.50\n",
       "2     6.50\n",
       "3    12.00\n",
       "4    10.25\n",
       "5     6.25\n",
       "dtype: float64"
      ]
     },
     "execution_count": 56,
     "metadata": {},
     "output_type": "execute_result"
    }
   ],
   "source": [
    "df_note_2filiere[[\"Français\",\"Economie\"]].mean(axis = 1)"
   ]
  },
  {
   "cell_type": "code",
   "execution_count": 57,
   "id": "1dbf15ee",
   "metadata": {},
   "outputs": [
    {
     "data": {
      "text/html": [
       "<div>\n",
       "<style scoped>\n",
       "    .dataframe tbody tr th:only-of-type {\n",
       "        vertical-align: middle;\n",
       "    }\n",
       "\n",
       "    .dataframe tbody tr th {\n",
       "        vertical-align: top;\n",
       "    }\n",
       "\n",
       "    .dataframe thead th {\n",
       "        text-align: right;\n",
       "    }\n",
       "</style>\n",
       "<table border=\"1\" class=\"dataframe\">\n",
       "  <thead>\n",
       "    <tr style=\"text-align: right;\">\n",
       "      <th></th>\n",
       "      <th>nom</th>\n",
       "      <th>Maths</th>\n",
       "      <th>SVT</th>\n",
       "      <th>Français</th>\n",
       "      <th>Economie</th>\n",
       "      <th>Physique</th>\n",
       "      <th>Moyenne_Scientifique</th>\n",
       "    </tr>\n",
       "  </thead>\n",
       "  <tbody>\n",
       "    <tr>\n",
       "      <th>0</th>\n",
       "      <td>Emile</td>\n",
       "      <td>5.0</td>\n",
       "      <td>2.0</td>\n",
       "      <td>16.5</td>\n",
       "      <td>18.5</td>\n",
       "      <td>NaN</td>\n",
       "      <td>3.500000</td>\n",
       "    </tr>\n",
       "    <tr>\n",
       "      <th>1</th>\n",
       "      <td>Joseph</td>\n",
       "      <td>12.0</td>\n",
       "      <td>4.5</td>\n",
       "      <td>6.5</td>\n",
       "      <td>NaN</td>\n",
       "      <td>8.5</td>\n",
       "      <td>8.333333</td>\n",
       "    </tr>\n",
       "    <tr>\n",
       "      <th>2</th>\n",
       "      <td>Patrick</td>\n",
       "      <td>2.0</td>\n",
       "      <td>13.0</td>\n",
       "      <td>1.0</td>\n",
       "      <td>12.0</td>\n",
       "      <td>NaN</td>\n",
       "      <td>7.500000</td>\n",
       "    </tr>\n",
       "    <tr>\n",
       "      <th>3</th>\n",
       "      <td>Léa</td>\n",
       "      <td>10.0</td>\n",
       "      <td>5.5</td>\n",
       "      <td>12.0</td>\n",
       "      <td>NaN</td>\n",
       "      <td>4.0</td>\n",
       "      <td>6.500000</td>\n",
       "    </tr>\n",
       "    <tr>\n",
       "      <th>4</th>\n",
       "      <td>Andrew</td>\n",
       "      <td>0.5</td>\n",
       "      <td>10.5</td>\n",
       "      <td>1.5</td>\n",
       "      <td>19.0</td>\n",
       "      <td>NaN</td>\n",
       "      <td>5.500000</td>\n",
       "    </tr>\n",
       "    <tr>\n",
       "      <th>5</th>\n",
       "      <td>Johanna</td>\n",
       "      <td>3.0</td>\n",
       "      <td>0.0</td>\n",
       "      <td>11.0</td>\n",
       "      <td>1.5</td>\n",
       "      <td>NaN</td>\n",
       "      <td>1.500000</td>\n",
       "    </tr>\n",
       "  </tbody>\n",
       "</table>\n",
       "</div>"
      ],
      "text/plain": [
       "       nom  Maths   SVT  Français  Economie  Physique  Moyenne_Scientifique\n",
       "0    Emile    5.0   2.0      16.5      18.5       NaN              3.500000\n",
       "1   Joseph   12.0   4.5       6.5       NaN       8.5              8.333333\n",
       "2  Patrick    2.0  13.0       1.0      12.0       NaN              7.500000\n",
       "3      Léa   10.0   5.5      12.0       NaN       4.0              6.500000\n",
       "4   Andrew    0.5  10.5       1.5      19.0       NaN              5.500000\n",
       "5  Johanna    3.0   0.0      11.0       1.5       NaN              1.500000"
      ]
     },
     "execution_count": 57,
     "metadata": {},
     "output_type": "execute_result"
    }
   ],
   "source": [
    "df_note_2filiere[\"Moyenne_Scientifique\"] = df_note_2filiere[[\"Maths\",\"SVT\",\"Physique\"]].mean(axis=1)\n",
    "df_note_2filiere"
   ]
  },
  {
   "cell_type": "code",
   "execution_count": 58,
   "id": "c81c1540",
   "metadata": {},
   "outputs": [
    {
     "data": {
      "text/html": [
       "<div>\n",
       "<style scoped>\n",
       "    .dataframe tbody tr th:only-of-type {\n",
       "        vertical-align: middle;\n",
       "    }\n",
       "\n",
       "    .dataframe tbody tr th {\n",
       "        vertical-align: top;\n",
       "    }\n",
       "\n",
       "    .dataframe thead th {\n",
       "        text-align: right;\n",
       "    }\n",
       "</style>\n",
       "<table border=\"1\" class=\"dataframe\">\n",
       "  <thead>\n",
       "    <tr style=\"text-align: right;\">\n",
       "      <th></th>\n",
       "      <th>Français</th>\n",
       "    </tr>\n",
       "  </thead>\n",
       "  <tbody>\n",
       "    <tr>\n",
       "      <th>0</th>\n",
       "      <td>16</td>\n",
       "    </tr>\n",
       "    <tr>\n",
       "      <th>1</th>\n",
       "      <td>6</td>\n",
       "    </tr>\n",
       "    <tr>\n",
       "      <th>2</th>\n",
       "      <td>1</td>\n",
       "    </tr>\n",
       "    <tr>\n",
       "      <th>3</th>\n",
       "      <td>12</td>\n",
       "    </tr>\n",
       "    <tr>\n",
       "      <th>4</th>\n",
       "      <td>1</td>\n",
       "    </tr>\n",
       "    <tr>\n",
       "      <th>5</th>\n",
       "      <td>11</td>\n",
       "    </tr>\n",
       "  </tbody>\n",
       "</table>\n",
       "</div>"
      ],
      "text/plain": [
       "   Français\n",
       "0        16\n",
       "1         6\n",
       "2         1\n",
       "3        12\n",
       "4         1\n",
       "5        11"
      ]
     },
     "execution_count": 58,
     "metadata": {},
     "output_type": "execute_result"
    }
   ],
   "source": [
    "df_note_2filiere[[\"Français\"]].astype(int)"
   ]
  },
  {
   "cell_type": "code",
   "execution_count": 59,
   "id": "3ab9d9cb",
   "metadata": {},
   "outputs": [
    {
     "data": {
      "text/html": [
       "<div>\n",
       "<style scoped>\n",
       "    .dataframe tbody tr th:only-of-type {\n",
       "        vertical-align: middle;\n",
       "    }\n",
       "\n",
       "    .dataframe tbody tr th {\n",
       "        vertical-align: top;\n",
       "    }\n",
       "\n",
       "    .dataframe thead th {\n",
       "        text-align: right;\n",
       "    }\n",
       "</style>\n",
       "<table border=\"1\" class=\"dataframe\">\n",
       "  <thead>\n",
       "    <tr style=\"text-align: right;\">\n",
       "      <th></th>\n",
       "      <th>nom</th>\n",
       "      <th>Maths</th>\n",
       "      <th>SVT</th>\n",
       "      <th>Français</th>\n",
       "      <th>Economie</th>\n",
       "      <th>Physique</th>\n",
       "      <th>Moyenne_Scientifique</th>\n",
       "    </tr>\n",
       "  </thead>\n",
       "  <tbody>\n",
       "    <tr>\n",
       "      <th>0</th>\n",
       "      <td>Emile</td>\n",
       "      <td>5.0</td>\n",
       "      <td>2.0</td>\n",
       "      <td>16.5</td>\n",
       "      <td>18.5</td>\n",
       "      <td>NaN</td>\n",
       "      <td>3.5</td>\n",
       "    </tr>\n",
       "    <tr>\n",
       "      <th>3</th>\n",
       "      <td>Léa</td>\n",
       "      <td>10.0</td>\n",
       "      <td>5.5</td>\n",
       "      <td>12.0</td>\n",
       "      <td>NaN</td>\n",
       "      <td>4.0</td>\n",
       "      <td>6.5</td>\n",
       "    </tr>\n",
       "    <tr>\n",
       "      <th>5</th>\n",
       "      <td>Johanna</td>\n",
       "      <td>3.0</td>\n",
       "      <td>0.0</td>\n",
       "      <td>11.0</td>\n",
       "      <td>1.5</td>\n",
       "      <td>NaN</td>\n",
       "      <td>1.5</td>\n",
       "    </tr>\n",
       "  </tbody>\n",
       "</table>\n",
       "</div>"
      ],
      "text/plain": [
       "       nom  Maths  SVT  Français  Economie  Physique  Moyenne_Scientifique\n",
       "0    Emile    5.0  2.0      16.5      18.5       NaN                   3.5\n",
       "3      Léa   10.0  5.5      12.0       NaN       4.0                   6.5\n",
       "5  Johanna    3.0  0.0      11.0       1.5       NaN                   1.5"
      ]
     },
     "execution_count": 59,
     "metadata": {},
     "output_type": "execute_result"
    }
   ],
   "source": [
    "df_note_2filiere[(df_note_2filiere[\"Moyenne_Scientifique\"] < df_note_2filiere[\"Français\"])] "
   ]
  },
  {
   "cell_type": "code",
   "execution_count": 60,
   "id": "d99c09f1",
   "metadata": {},
   "outputs": [
    {
     "data": {
      "text/html": [
       "<div>\n",
       "<style scoped>\n",
       "    .dataframe tbody tr th:only-of-type {\n",
       "        vertical-align: middle;\n",
       "    }\n",
       "\n",
       "    .dataframe tbody tr th {\n",
       "        vertical-align: top;\n",
       "    }\n",
       "\n",
       "    .dataframe thead th {\n",
       "        text-align: right;\n",
       "    }\n",
       "</style>\n",
       "<table border=\"1\" class=\"dataframe\">\n",
       "  <thead>\n",
       "    <tr style=\"text-align: right;\">\n",
       "      <th></th>\n",
       "      <th>nom</th>\n",
       "      <th>Maths</th>\n",
       "      <th>SVT</th>\n",
       "      <th>Français</th>\n",
       "      <th>Economie</th>\n",
       "      <th>Physique</th>\n",
       "      <th>Moyenne_Scientifique</th>\n",
       "    </tr>\n",
       "  </thead>\n",
       "  <tbody>\n",
       "    <tr>\n",
       "      <th>1</th>\n",
       "      <td>Joseph</td>\n",
       "      <td>12.0</td>\n",
       "      <td>4.5</td>\n",
       "      <td>6.5</td>\n",
       "      <td>NaN</td>\n",
       "      <td>8.5</td>\n",
       "      <td>8.333333</td>\n",
       "    </tr>\n",
       "    <tr>\n",
       "      <th>3</th>\n",
       "      <td>Léa</td>\n",
       "      <td>10.0</td>\n",
       "      <td>5.5</td>\n",
       "      <td>12.0</td>\n",
       "      <td>NaN</td>\n",
       "      <td>4.0</td>\n",
       "      <td>6.500000</td>\n",
       "    </tr>\n",
       "  </tbody>\n",
       "</table>\n",
       "</div>"
      ],
      "text/plain": [
       "      nom  Maths  SVT  Français  Economie  Physique  Moyenne_Scientifique\n",
       "1  Joseph   12.0  4.5       6.5       NaN       8.5              8.333333\n",
       "3     Léa   10.0  5.5      12.0       NaN       4.0              6.500000"
      ]
     },
     "execution_count": 60,
     "metadata": {},
     "output_type": "execute_result"
    }
   ],
   "source": [
    "df_note_2filiere[(df_note_2filiere.Economie.isna())] "
   ]
  },
  {
   "cell_type": "code",
   "execution_count": 61,
   "id": "fecd374f",
   "metadata": {},
   "outputs": [
    {
     "data": {
      "text/html": [
       "<div>\n",
       "<style scoped>\n",
       "    .dataframe tbody tr th:only-of-type {\n",
       "        vertical-align: middle;\n",
       "    }\n",
       "\n",
       "    .dataframe tbody tr th {\n",
       "        vertical-align: top;\n",
       "    }\n",
       "\n",
       "    .dataframe thead th {\n",
       "        text-align: right;\n",
       "    }\n",
       "</style>\n",
       "<table border=\"1\" class=\"dataframe\">\n",
       "  <thead>\n",
       "    <tr style=\"text-align: right;\">\n",
       "      <th></th>\n",
       "      <th>nom</th>\n",
       "      <th>Maths</th>\n",
       "      <th>SVT</th>\n",
       "      <th>Français</th>\n",
       "      <th>Economie</th>\n",
       "      <th>Physique</th>\n",
       "      <th>Moyenne_Scientifique</th>\n",
       "    </tr>\n",
       "  </thead>\n",
       "  <tbody>\n",
       "    <tr>\n",
       "      <th>0</th>\n",
       "      <td>Emile</td>\n",
       "      <td>5.0</td>\n",
       "      <td>2.0</td>\n",
       "      <td>16.5</td>\n",
       "      <td>18.5</td>\n",
       "      <td>NaN</td>\n",
       "      <td>3.5</td>\n",
       "    </tr>\n",
       "    <tr>\n",
       "      <th>2</th>\n",
       "      <td>Patrick</td>\n",
       "      <td>2.0</td>\n",
       "      <td>13.0</td>\n",
       "      <td>1.0</td>\n",
       "      <td>12.0</td>\n",
       "      <td>NaN</td>\n",
       "      <td>7.5</td>\n",
       "    </tr>\n",
       "    <tr>\n",
       "      <th>4</th>\n",
       "      <td>Andrew</td>\n",
       "      <td>0.5</td>\n",
       "      <td>10.5</td>\n",
       "      <td>1.5</td>\n",
       "      <td>19.0</td>\n",
       "      <td>NaN</td>\n",
       "      <td>5.5</td>\n",
       "    </tr>\n",
       "    <tr>\n",
       "      <th>5</th>\n",
       "      <td>Johanna</td>\n",
       "      <td>3.0</td>\n",
       "      <td>0.0</td>\n",
       "      <td>11.0</td>\n",
       "      <td>1.5</td>\n",
       "      <td>NaN</td>\n",
       "      <td>1.5</td>\n",
       "    </tr>\n",
       "  </tbody>\n",
       "</table>\n",
       "</div>"
      ],
      "text/plain": [
       "       nom  Maths   SVT  Français  Economie  Physique  Moyenne_Scientifique\n",
       "0    Emile    5.0   2.0      16.5      18.5       NaN                   3.5\n",
       "2  Patrick    2.0  13.0       1.0      12.0       NaN                   7.5\n",
       "4   Andrew    0.5  10.5       1.5      19.0       NaN                   5.5\n",
       "5  Johanna    3.0   0.0      11.0       1.5       NaN                   1.5"
      ]
     },
     "execution_count": 61,
     "metadata": {},
     "output_type": "execute_result"
    }
   ],
   "source": [
    "df_note_2filiere[~(df_note_2filiere.Economie.isna())] # ~ permet de prendre la négation de l'expression demandée. "
   ]
  },
  {
   "cell_type": "code",
   "execution_count": 62,
   "id": "dafbc4f6",
   "metadata": {},
   "outputs": [
    {
     "data": {
      "text/html": [
       "<div>\n",
       "<style scoped>\n",
       "    .dataframe tbody tr th:only-of-type {\n",
       "        vertical-align: middle;\n",
       "    }\n",
       "\n",
       "    .dataframe tbody tr th {\n",
       "        vertical-align: top;\n",
       "    }\n",
       "\n",
       "    .dataframe thead th {\n",
       "        text-align: right;\n",
       "    }\n",
       "</style>\n",
       "<table border=\"1\" class=\"dataframe\">\n",
       "  <thead>\n",
       "    <tr style=\"text-align: right;\">\n",
       "      <th></th>\n",
       "      <th>nom</th>\n",
       "      <th>Maths</th>\n",
       "      <th>SVT</th>\n",
       "      <th>Français</th>\n",
       "      <th>Economie</th>\n",
       "      <th>Physique</th>\n",
       "      <th>Moyenne_Scientifique</th>\n",
       "    </tr>\n",
       "  </thead>\n",
       "  <tbody>\n",
       "    <tr>\n",
       "      <th>1</th>\n",
       "      <td>Joseph</td>\n",
       "      <td>12.0</td>\n",
       "      <td>4.5</td>\n",
       "      <td>6.5</td>\n",
       "      <td>NaN</td>\n",
       "      <td>8.5</td>\n",
       "      <td>8.333333</td>\n",
       "    </tr>\n",
       "    <tr>\n",
       "      <th>3</th>\n",
       "      <td>Léa</td>\n",
       "      <td>10.0</td>\n",
       "      <td>5.5</td>\n",
       "      <td>12.0</td>\n",
       "      <td>NaN</td>\n",
       "      <td>4.0</td>\n",
       "      <td>6.500000</td>\n",
       "    </tr>\n",
       "  </tbody>\n",
       "</table>\n",
       "</div>"
      ],
      "text/plain": [
       "      nom  Maths  SVT  Français  Economie  Physique  Moyenne_Scientifique\n",
       "1  Joseph   12.0  4.5       6.5       NaN       8.5              8.333333\n",
       "3     Léa   10.0  5.5      12.0       NaN       4.0              6.500000"
      ]
     },
     "execution_count": 62,
     "metadata": {},
     "output_type": "execute_result"
    }
   ],
   "source": [
    "df_note_2filiere_physique = df_note_2filiere[(df_note_2filiere.Economie.isna())]  \n",
    "df_note_2filiere_physique"
   ]
  },
  {
   "cell_type": "code",
   "execution_count": 63,
   "id": "26f08217",
   "metadata": {},
   "outputs": [
    {
     "data": {
      "text/html": [
       "<div>\n",
       "<style scoped>\n",
       "    .dataframe tbody tr th:only-of-type {\n",
       "        vertical-align: middle;\n",
       "    }\n",
       "\n",
       "    .dataframe tbody tr th {\n",
       "        vertical-align: top;\n",
       "    }\n",
       "\n",
       "    .dataframe thead th {\n",
       "        text-align: right;\n",
       "    }\n",
       "</style>\n",
       "<table border=\"1\" class=\"dataframe\">\n",
       "  <thead>\n",
       "    <tr style=\"text-align: right;\">\n",
       "      <th></th>\n",
       "      <th>nom</th>\n",
       "      <th>Maths</th>\n",
       "      <th>SVT</th>\n",
       "      <th>Français</th>\n",
       "      <th>Economie</th>\n",
       "      <th>Physique</th>\n",
       "      <th>Moyenne_Scientifique</th>\n",
       "    </tr>\n",
       "  </thead>\n",
       "  <tbody>\n",
       "    <tr>\n",
       "      <th>0</th>\n",
       "      <td>Emile</td>\n",
       "      <td>5.0</td>\n",
       "      <td>2.0</td>\n",
       "      <td>16.5</td>\n",
       "      <td>18.5</td>\n",
       "      <td>NaN</td>\n",
       "      <td>3.5</td>\n",
       "    </tr>\n",
       "    <tr>\n",
       "      <th>2</th>\n",
       "      <td>Patrick</td>\n",
       "      <td>2.0</td>\n",
       "      <td>13.0</td>\n",
       "      <td>1.0</td>\n",
       "      <td>12.0</td>\n",
       "      <td>NaN</td>\n",
       "      <td>7.5</td>\n",
       "    </tr>\n",
       "    <tr>\n",
       "      <th>4</th>\n",
       "      <td>Andrew</td>\n",
       "      <td>0.5</td>\n",
       "      <td>10.5</td>\n",
       "      <td>1.5</td>\n",
       "      <td>19.0</td>\n",
       "      <td>NaN</td>\n",
       "      <td>5.5</td>\n",
       "    </tr>\n",
       "    <tr>\n",
       "      <th>5</th>\n",
       "      <td>Johanna</td>\n",
       "      <td>3.0</td>\n",
       "      <td>0.0</td>\n",
       "      <td>11.0</td>\n",
       "      <td>1.5</td>\n",
       "      <td>NaN</td>\n",
       "      <td>1.5</td>\n",
       "    </tr>\n",
       "  </tbody>\n",
       "</table>\n",
       "</div>"
      ],
      "text/plain": [
       "       nom  Maths   SVT  Français  Economie  Physique  Moyenne_Scientifique\n",
       "0    Emile    5.0   2.0      16.5      18.5       NaN                   3.5\n",
       "2  Patrick    2.0  13.0       1.0      12.0       NaN                   7.5\n",
       "4   Andrew    0.5  10.5       1.5      19.0       NaN                   5.5\n",
       "5  Johanna    3.0   0.0      11.0       1.5       NaN                   1.5"
      ]
     },
     "execution_count": 63,
     "metadata": {},
     "output_type": "execute_result"
    }
   ],
   "source": [
    "df_note_2filiere_eco = df_note_2filiere[~(df_note_2filiere.Economie.isna())]  \n",
    "df_note_2filiere_eco"
   ]
  },
  {
   "cell_type": "code",
   "execution_count": 64,
   "id": "601af68a",
   "metadata": {},
   "outputs": [
    {
     "data": {
      "text/html": [
       "<div>\n",
       "<style scoped>\n",
       "    .dataframe tbody tr th:only-of-type {\n",
       "        vertical-align: middle;\n",
       "    }\n",
       "\n",
       "    .dataframe tbody tr th {\n",
       "        vertical-align: top;\n",
       "    }\n",
       "\n",
       "    .dataframe thead th {\n",
       "        text-align: right;\n",
       "    }\n",
       "</style>\n",
       "<table border=\"1\" class=\"dataframe\">\n",
       "  <thead>\n",
       "    <tr style=\"text-align: right;\">\n",
       "      <th></th>\n",
       "      <th>nom</th>\n",
       "      <th>Maths</th>\n",
       "      <th>SVT</th>\n",
       "      <th>Français</th>\n",
       "      <th>Economie</th>\n",
       "      <th>Physique</th>\n",
       "      <th>Moyenne_Scientifique</th>\n",
       "    </tr>\n",
       "  </thead>\n",
       "  <tbody>\n",
       "    <tr>\n",
       "      <th>0</th>\n",
       "      <td>Emile</td>\n",
       "      <td>5.0</td>\n",
       "      <td>2.0</td>\n",
       "      <td>16.5</td>\n",
       "      <td>18.5</td>\n",
       "      <td>0.0</td>\n",
       "      <td>3.5</td>\n",
       "    </tr>\n",
       "    <tr>\n",
       "      <th>2</th>\n",
       "      <td>Patrick</td>\n",
       "      <td>2.0</td>\n",
       "      <td>13.0</td>\n",
       "      <td>1.0</td>\n",
       "      <td>12.0</td>\n",
       "      <td>0.0</td>\n",
       "      <td>7.5</td>\n",
       "    </tr>\n",
       "    <tr>\n",
       "      <th>4</th>\n",
       "      <td>Andrew</td>\n",
       "      <td>0.5</td>\n",
       "      <td>10.5</td>\n",
       "      <td>1.5</td>\n",
       "      <td>19.0</td>\n",
       "      <td>0.0</td>\n",
       "      <td>5.5</td>\n",
       "    </tr>\n",
       "    <tr>\n",
       "      <th>5</th>\n",
       "      <td>Johanna</td>\n",
       "      <td>3.0</td>\n",
       "      <td>0.0</td>\n",
       "      <td>11.0</td>\n",
       "      <td>1.5</td>\n",
       "      <td>0.0</td>\n",
       "      <td>1.5</td>\n",
       "    </tr>\n",
       "  </tbody>\n",
       "</table>\n",
       "</div>"
      ],
      "text/plain": [
       "       nom  Maths   SVT  Français  Economie  Physique  Moyenne_Scientifique\n",
       "0    Emile    5.0   2.0      16.5      18.5       0.0                   3.5\n",
       "2  Patrick    2.0  13.0       1.0      12.0       0.0                   7.5\n",
       "4   Andrew    0.5  10.5       1.5      19.0       0.0                   5.5\n",
       "5  Johanna    3.0   0.0      11.0       1.5       0.0                   1.5"
      ]
     },
     "execution_count": 64,
     "metadata": {},
     "output_type": "execute_result"
    }
   ],
   "source": [
    "df_note_2filiere_eco.fillna(0)"
   ]
  },
  {
   "cell_type": "raw",
   "id": "38538e91",
   "metadata": {},
   "source": [
    "On peut faire le choix de remplir ses NaN values. Ici, remplir des notes n'aurait pas de sens (cela pourrait fausser la moyenne par exemple)\n",
    "\n",
    "Mais dans d'autres cas de figures, on peut vouloir s'en servir, en utilisant la méthode .fillna()"
   ]
  },
  {
   "cell_type": "raw",
   "id": "678d68e9",
   "metadata": {},
   "source": [
    "Exercice : Créer une base de données avec comme matière (Maths Physique SVT Philosophie Littérature Français et Histoire) pour 15 étudiants.\n",
    "    \n",
    "Calculer la moyenne scientifique et la moyenne littéraire puis la moyenne globale ! "
   ]
  },
  {
   "cell_type": "raw",
   "id": "d8e3a654",
   "metadata": {},
   "source": [
    "Quels sont les étudiants qui ont une moyenne littéraire supérieur à leur moyenne scientifique ?"
   ]
  },
  {
   "cell_type": "raw",
   "id": "486698ab",
   "metadata": {},
   "source": [
    "Calculer la moyenne de classe en maths ! (Un résultat à part pas besoin de créer une nouvelle colonne)"
   ]
  },
  {
   "cell_type": "code",
   "execution_count": 65,
   "id": "522ea46e",
   "metadata": {},
   "outputs": [],
   "source": [
    "def notes(eleve):\n",
    "    note = {'nom' : eleve, 'Maths' : random.randint(0,40)/2,\n",
    "                \"Physique\" : random.randint(0,40)/2,\n",
    "                'SVT' : random.randint(0,40)/2,\n",
    "               'Philosophie' : random.randint(0,40)/2,\n",
    "           'Littérature' : random.randint(0,40)/2,\n",
    "            'Français' :random.randint(0,40)/2,\n",
    "           'Histoire' : random.randint(0,40)/2}\n",
    "    return note"
   ]
  },
  {
   "cell_type": "code",
   "execution_count": 66,
   "id": "ba18f698",
   "metadata": {},
   "outputs": [],
   "source": [
    "Liste_prenom = [\"Emile\",\"Joseph\",\"Patrick\",\"Léa\",\"Andrew\",\"Johanna\"]\n",
    "df_note = [notes(x) for x in Liste_prenom]\n",
    "df_note = pd.DataFrame(df_note)"
   ]
  },
  {
   "cell_type": "code",
   "execution_count": 67,
   "id": "7af2e28c",
   "metadata": {},
   "outputs": [
    {
     "data": {
      "text/html": [
       "<div>\n",
       "<style scoped>\n",
       "    .dataframe tbody tr th:only-of-type {\n",
       "        vertical-align: middle;\n",
       "    }\n",
       "\n",
       "    .dataframe tbody tr th {\n",
       "        vertical-align: top;\n",
       "    }\n",
       "\n",
       "    .dataframe thead th {\n",
       "        text-align: right;\n",
       "    }\n",
       "</style>\n",
       "<table border=\"1\" class=\"dataframe\">\n",
       "  <thead>\n",
       "    <tr style=\"text-align: right;\">\n",
       "      <th></th>\n",
       "      <th>nom</th>\n",
       "      <th>Maths</th>\n",
       "      <th>Physique</th>\n",
       "      <th>SVT</th>\n",
       "      <th>Philosophie</th>\n",
       "      <th>Littérature</th>\n",
       "      <th>Français</th>\n",
       "      <th>Histoire</th>\n",
       "    </tr>\n",
       "  </thead>\n",
       "  <tbody>\n",
       "    <tr>\n",
       "      <th>0</th>\n",
       "      <td>Emile</td>\n",
       "      <td>5.5</td>\n",
       "      <td>8.0</td>\n",
       "      <td>1.0</td>\n",
       "      <td>18.5</td>\n",
       "      <td>14.0</td>\n",
       "      <td>14.0</td>\n",
       "      <td>0.0</td>\n",
       "    </tr>\n",
       "    <tr>\n",
       "      <th>1</th>\n",
       "      <td>Joseph</td>\n",
       "      <td>14.0</td>\n",
       "      <td>18.5</td>\n",
       "      <td>1.0</td>\n",
       "      <td>9.0</td>\n",
       "      <td>1.0</td>\n",
       "      <td>9.0</td>\n",
       "      <td>18.0</td>\n",
       "    </tr>\n",
       "    <tr>\n",
       "      <th>2</th>\n",
       "      <td>Patrick</td>\n",
       "      <td>14.0</td>\n",
       "      <td>16.5</td>\n",
       "      <td>13.0</td>\n",
       "      <td>11.0</td>\n",
       "      <td>5.5</td>\n",
       "      <td>4.5</td>\n",
       "      <td>6.5</td>\n",
       "    </tr>\n",
       "    <tr>\n",
       "      <th>3</th>\n",
       "      <td>Léa</td>\n",
       "      <td>1.0</td>\n",
       "      <td>11.0</td>\n",
       "      <td>8.0</td>\n",
       "      <td>20.0</td>\n",
       "      <td>20.0</td>\n",
       "      <td>1.5</td>\n",
       "      <td>0.5</td>\n",
       "    </tr>\n",
       "    <tr>\n",
       "      <th>4</th>\n",
       "      <td>Andrew</td>\n",
       "      <td>3.5</td>\n",
       "      <td>16.5</td>\n",
       "      <td>6.0</td>\n",
       "      <td>4.0</td>\n",
       "      <td>18.0</td>\n",
       "      <td>17.0</td>\n",
       "      <td>4.0</td>\n",
       "    </tr>\n",
       "    <tr>\n",
       "      <th>5</th>\n",
       "      <td>Johanna</td>\n",
       "      <td>8.0</td>\n",
       "      <td>10.0</td>\n",
       "      <td>7.5</td>\n",
       "      <td>7.5</td>\n",
       "      <td>18.0</td>\n",
       "      <td>4.5</td>\n",
       "      <td>16.5</td>\n",
       "    </tr>\n",
       "  </tbody>\n",
       "</table>\n",
       "</div>"
      ],
      "text/plain": [
       "       nom  Maths  Physique   SVT  Philosophie  Littérature  Français  \\\n",
       "0    Emile    5.5       8.0   1.0         18.5         14.0      14.0   \n",
       "1   Joseph   14.0      18.5   1.0          9.0          1.0       9.0   \n",
       "2  Patrick   14.0      16.5  13.0         11.0          5.5       4.5   \n",
       "3      Léa    1.0      11.0   8.0         20.0         20.0       1.5   \n",
       "4   Andrew    3.5      16.5   6.0          4.0         18.0      17.0   \n",
       "5  Johanna    8.0      10.0   7.5          7.5         18.0       4.5   \n",
       "\n",
       "   Histoire  \n",
       "0       0.0  \n",
       "1      18.0  \n",
       "2       6.5  \n",
       "3       0.5  \n",
       "4       4.0  \n",
       "5      16.5  "
      ]
     },
     "execution_count": 67,
     "metadata": {},
     "output_type": "execute_result"
    }
   ],
   "source": [
    "df_note"
   ]
  },
  {
   "cell_type": "code",
   "execution_count": 68,
   "id": "668df742",
   "metadata": {},
   "outputs": [],
   "source": [
    "df_note[\"Moyenne_Scientifique\"] = df_note[[\"Maths\",\"Physique\",\"SVT\"]].mean(axis =1)\n",
    "df_note[\"Moyenne_Litteraire\"] = df_note[[\"Philosophie\",'Littérature',\"Français\",\"Histoire\"]].mean(axis =1)\n",
    "df_note[\"Moyenne_Generale\"] = df_note[[\"Maths\",\"Physique\",\"SVT\",\"Philosophie\",'Littérature',\"Français\",\"Histoire\"]].mean(axis =1)"
   ]
  },
  {
   "cell_type": "code",
   "execution_count": 69,
   "id": "888f23ee",
   "metadata": {},
   "outputs": [
    {
     "data": {
      "text/html": [
       "<div>\n",
       "<style scoped>\n",
       "    .dataframe tbody tr th:only-of-type {\n",
       "        vertical-align: middle;\n",
       "    }\n",
       "\n",
       "    .dataframe tbody tr th {\n",
       "        vertical-align: top;\n",
       "    }\n",
       "\n",
       "    .dataframe thead th {\n",
       "        text-align: right;\n",
       "    }\n",
       "</style>\n",
       "<table border=\"1\" class=\"dataframe\">\n",
       "  <thead>\n",
       "    <tr style=\"text-align: right;\">\n",
       "      <th></th>\n",
       "      <th>nom</th>\n",
       "      <th>Maths</th>\n",
       "      <th>Physique</th>\n",
       "      <th>SVT</th>\n",
       "      <th>Philosophie</th>\n",
       "      <th>Littérature</th>\n",
       "      <th>Français</th>\n",
       "      <th>Histoire</th>\n",
       "      <th>Moyenne_Scientifique</th>\n",
       "      <th>Moyenne_Litteraire</th>\n",
       "      <th>Moyenne_Generale</th>\n",
       "    </tr>\n",
       "  </thead>\n",
       "  <tbody>\n",
       "    <tr>\n",
       "      <th>0</th>\n",
       "      <td>Emile</td>\n",
       "      <td>5.5</td>\n",
       "      <td>8.0</td>\n",
       "      <td>1.0</td>\n",
       "      <td>18.5</td>\n",
       "      <td>14.0</td>\n",
       "      <td>14.0</td>\n",
       "      <td>0.0</td>\n",
       "      <td>4.833333</td>\n",
       "      <td>11.625</td>\n",
       "      <td>8.714286</td>\n",
       "    </tr>\n",
       "    <tr>\n",
       "      <th>1</th>\n",
       "      <td>Joseph</td>\n",
       "      <td>14.0</td>\n",
       "      <td>18.5</td>\n",
       "      <td>1.0</td>\n",
       "      <td>9.0</td>\n",
       "      <td>1.0</td>\n",
       "      <td>9.0</td>\n",
       "      <td>18.0</td>\n",
       "      <td>11.166667</td>\n",
       "      <td>9.250</td>\n",
       "      <td>10.071429</td>\n",
       "    </tr>\n",
       "    <tr>\n",
       "      <th>2</th>\n",
       "      <td>Patrick</td>\n",
       "      <td>14.0</td>\n",
       "      <td>16.5</td>\n",
       "      <td>13.0</td>\n",
       "      <td>11.0</td>\n",
       "      <td>5.5</td>\n",
       "      <td>4.5</td>\n",
       "      <td>6.5</td>\n",
       "      <td>14.500000</td>\n",
       "      <td>6.875</td>\n",
       "      <td>10.142857</td>\n",
       "    </tr>\n",
       "    <tr>\n",
       "      <th>3</th>\n",
       "      <td>Léa</td>\n",
       "      <td>1.0</td>\n",
       "      <td>11.0</td>\n",
       "      <td>8.0</td>\n",
       "      <td>20.0</td>\n",
       "      <td>20.0</td>\n",
       "      <td>1.5</td>\n",
       "      <td>0.5</td>\n",
       "      <td>6.666667</td>\n",
       "      <td>10.500</td>\n",
       "      <td>8.857143</td>\n",
       "    </tr>\n",
       "    <tr>\n",
       "      <th>4</th>\n",
       "      <td>Andrew</td>\n",
       "      <td>3.5</td>\n",
       "      <td>16.5</td>\n",
       "      <td>6.0</td>\n",
       "      <td>4.0</td>\n",
       "      <td>18.0</td>\n",
       "      <td>17.0</td>\n",
       "      <td>4.0</td>\n",
       "      <td>8.666667</td>\n",
       "      <td>10.750</td>\n",
       "      <td>9.857143</td>\n",
       "    </tr>\n",
       "    <tr>\n",
       "      <th>5</th>\n",
       "      <td>Johanna</td>\n",
       "      <td>8.0</td>\n",
       "      <td>10.0</td>\n",
       "      <td>7.5</td>\n",
       "      <td>7.5</td>\n",
       "      <td>18.0</td>\n",
       "      <td>4.5</td>\n",
       "      <td>16.5</td>\n",
       "      <td>8.500000</td>\n",
       "      <td>11.625</td>\n",
       "      <td>10.285714</td>\n",
       "    </tr>\n",
       "  </tbody>\n",
       "</table>\n",
       "</div>"
      ],
      "text/plain": [
       "       nom  Maths  Physique   SVT  Philosophie  Littérature  Français  \\\n",
       "0    Emile    5.5       8.0   1.0         18.5         14.0      14.0   \n",
       "1   Joseph   14.0      18.5   1.0          9.0          1.0       9.0   \n",
       "2  Patrick   14.0      16.5  13.0         11.0          5.5       4.5   \n",
       "3      Léa    1.0      11.0   8.0         20.0         20.0       1.5   \n",
       "4   Andrew    3.5      16.5   6.0          4.0         18.0      17.0   \n",
       "5  Johanna    8.0      10.0   7.5          7.5         18.0       4.5   \n",
       "\n",
       "   Histoire  Moyenne_Scientifique  Moyenne_Litteraire  Moyenne_Generale  \n",
       "0       0.0              4.833333              11.625          8.714286  \n",
       "1      18.0             11.166667               9.250         10.071429  \n",
       "2       6.5             14.500000               6.875         10.142857  \n",
       "3       0.5              6.666667              10.500          8.857143  \n",
       "4       4.0              8.666667              10.750          9.857143  \n",
       "5      16.5              8.500000              11.625         10.285714  "
      ]
     },
     "execution_count": 69,
     "metadata": {},
     "output_type": "execute_result"
    }
   ],
   "source": [
    "df_note"
   ]
  },
  {
   "cell_type": "code",
   "execution_count": 70,
   "id": "2c5b54cd",
   "metadata": {},
   "outputs": [
    {
     "data": {
      "text/html": [
       "<div>\n",
       "<style scoped>\n",
       "    .dataframe tbody tr th:only-of-type {\n",
       "        vertical-align: middle;\n",
       "    }\n",
       "\n",
       "    .dataframe tbody tr th {\n",
       "        vertical-align: top;\n",
       "    }\n",
       "\n",
       "    .dataframe thead th {\n",
       "        text-align: right;\n",
       "    }\n",
       "</style>\n",
       "<table border=\"1\" class=\"dataframe\">\n",
       "  <thead>\n",
       "    <tr style=\"text-align: right;\">\n",
       "      <th></th>\n",
       "      <th>nom</th>\n",
       "      <th>Maths</th>\n",
       "      <th>Physique</th>\n",
       "      <th>SVT</th>\n",
       "      <th>Philosophie</th>\n",
       "      <th>Littérature</th>\n",
       "      <th>Français</th>\n",
       "      <th>Histoire</th>\n",
       "      <th>Moyenne_Scientifique</th>\n",
       "      <th>Moyenne_Litteraire</th>\n",
       "      <th>Moyenne_Generale</th>\n",
       "    </tr>\n",
       "  </thead>\n",
       "  <tbody>\n",
       "    <tr>\n",
       "      <th>0</th>\n",
       "      <td>Emile</td>\n",
       "      <td>5.5</td>\n",
       "      <td>8.0</td>\n",
       "      <td>1.0</td>\n",
       "      <td>18.5</td>\n",
       "      <td>14.0</td>\n",
       "      <td>14.0</td>\n",
       "      <td>0.0</td>\n",
       "      <td>4.833333</td>\n",
       "      <td>11.625</td>\n",
       "      <td>8.714286</td>\n",
       "    </tr>\n",
       "    <tr>\n",
       "      <th>3</th>\n",
       "      <td>Léa</td>\n",
       "      <td>1.0</td>\n",
       "      <td>11.0</td>\n",
       "      <td>8.0</td>\n",
       "      <td>20.0</td>\n",
       "      <td>20.0</td>\n",
       "      <td>1.5</td>\n",
       "      <td>0.5</td>\n",
       "      <td>6.666667</td>\n",
       "      <td>10.500</td>\n",
       "      <td>8.857143</td>\n",
       "    </tr>\n",
       "    <tr>\n",
       "      <th>4</th>\n",
       "      <td>Andrew</td>\n",
       "      <td>3.5</td>\n",
       "      <td>16.5</td>\n",
       "      <td>6.0</td>\n",
       "      <td>4.0</td>\n",
       "      <td>18.0</td>\n",
       "      <td>17.0</td>\n",
       "      <td>4.0</td>\n",
       "      <td>8.666667</td>\n",
       "      <td>10.750</td>\n",
       "      <td>9.857143</td>\n",
       "    </tr>\n",
       "    <tr>\n",
       "      <th>5</th>\n",
       "      <td>Johanna</td>\n",
       "      <td>8.0</td>\n",
       "      <td>10.0</td>\n",
       "      <td>7.5</td>\n",
       "      <td>7.5</td>\n",
       "      <td>18.0</td>\n",
       "      <td>4.5</td>\n",
       "      <td>16.5</td>\n",
       "      <td>8.500000</td>\n",
       "      <td>11.625</td>\n",
       "      <td>10.285714</td>\n",
       "    </tr>\n",
       "  </tbody>\n",
       "</table>\n",
       "</div>"
      ],
      "text/plain": [
       "       nom  Maths  Physique  SVT  Philosophie  Littérature  Français  \\\n",
       "0    Emile    5.5       8.0  1.0         18.5         14.0      14.0   \n",
       "3      Léa    1.0      11.0  8.0         20.0         20.0       1.5   \n",
       "4   Andrew    3.5      16.5  6.0          4.0         18.0      17.0   \n",
       "5  Johanna    8.0      10.0  7.5          7.5         18.0       4.5   \n",
       "\n",
       "   Histoire  Moyenne_Scientifique  Moyenne_Litteraire  Moyenne_Generale  \n",
       "0       0.0              4.833333              11.625          8.714286  \n",
       "3       0.5              6.666667              10.500          8.857143  \n",
       "4       4.0              8.666667              10.750          9.857143  \n",
       "5      16.5              8.500000              11.625         10.285714  "
      ]
     },
     "execution_count": 70,
     "metadata": {},
     "output_type": "execute_result"
    }
   ],
   "source": [
    "df_note[df_note[\"Moyenne_Scientifique\"] < df_note[\"Moyenne_Litteraire\"]]"
   ]
  },
  {
   "cell_type": "code",
   "execution_count": 71,
   "id": "bf9759c3",
   "metadata": {},
   "outputs": [
    {
     "data": {
      "text/plain": [
       "7.666666666666667"
      ]
     },
     "execution_count": 71,
     "metadata": {},
     "output_type": "execute_result"
    }
   ],
   "source": [
    "#Moyenne de classe en maths\n",
    "\n",
    "df_note[\"Maths\"].mean(axis = 0)"
   ]
  },
  {
   "cell_type": "code",
   "execution_count": 72,
   "id": "5cf85685",
   "metadata": {
    "scrolled": true
   },
   "outputs": [
    {
     "data": {
      "text/plain": [
       "7.666666666666667"
      ]
     },
     "execution_count": 72,
     "metadata": {},
     "output_type": "execute_result"
    }
   ],
   "source": [
    "df_note[\"Maths\"].mean() #l'argument axis = 0 est un paramètre par défaut."
   ]
  }
 ],
 "metadata": {
  "kernelspec": {
   "display_name": "Python 3 (ipykernel)",
   "language": "python",
   "name": "python3"
  },
  "language_info": {
   "codemirror_mode": {
    "name": "ipython",
    "version": 3
   },
   "file_extension": ".py",
   "mimetype": "text/x-python",
   "name": "python",
   "nbconvert_exporter": "python",
   "pygments_lexer": "ipython3",
   "version": "3.10.10"
  }
 },
 "nbformat": 4,
 "nbformat_minor": 5
}

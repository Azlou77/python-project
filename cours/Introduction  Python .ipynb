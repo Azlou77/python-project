{
 "cells": [
  {
   "attachments": {},
   "cell_type": "markdown",
   "id": "731f5111",
   "metadata": {},
   "source": [
    "## Quelques éléments de programmation"
   ]
  },
  {
   "cell_type": "raw",
   "id": "19cf7fcc",
   "metadata": {},
   "source": [
    "Le cours suivant sert d'introduction au langage Python.\n",
    "\n",
    "Il contient les éléments pour avoir une prise en main du langage, quelques bonnes pratiques et aussi avoir en place des outils adéquats pour coder efficacement (le choix de l'usage d'un notebook par exemple, puis la création et l'usage de librairies pour faciliter la lecture d'un code)"
   ]
  },
  {
   "attachments": {},
   "cell_type": "markdown",
   "id": "9d7dbc25",
   "metadata": {},
   "source": [
    "### Objets et Opérations dans Python"
   ]
  },
  {
   "cell_type": "raw",
   "id": "f25e9a9a",
   "metadata": {},
   "source": [
    "Pour déclarer Et assigner une valeur à une variable: \n",
    "    \n",
    "    nom_de_la_variable = valeur_a_assigner"
   ]
  },
  {
   "cell_type": "code",
   "execution_count": 2,
   "id": "c065496d",
   "metadata": {},
   "outputs": [
    {
     "data": {
      "text/plain": [
       "5"
      ]
     },
     "execution_count": 2,
     "metadata": {},
     "output_type": "execute_result"
    }
   ],
   "source": [
    "3+2"
   ]
  },
  {
   "cell_type": "code",
   "execution_count": 11,
   "id": "336414ec",
   "metadata": {},
   "outputs": [],
   "source": [
    "calcul_effectué = 3+2"
   ]
  },
  {
   "cell_type": "code",
   "execution_count": 12,
   "id": "c9dfff99",
   "metadata": {},
   "outputs": [
    {
     "data": {
      "text/plain": [
       "5"
      ]
     },
     "execution_count": 12,
     "metadata": {},
     "output_type": "execute_result"
    }
   ],
   "source": [
    " calcul_effectué"
   ]
  },
  {
   "cell_type": "code",
   "execution_count": 13,
   "id": "eb9e6b2b",
   "metadata": {},
   "outputs": [],
   "source": [
    " calcul_effectué =  calcul_effectué + 2"
   ]
  },
  {
   "cell_type": "code",
   "execution_count": 14,
   "id": "3cb1dbb0",
   "metadata": {},
   "outputs": [
    {
     "data": {
      "text/plain": [
       "int"
      ]
     },
     "execution_count": 14,
     "metadata": {},
     "output_type": "execute_result"
    }
   ],
   "source": [
    "type(calcul_effectué)"
   ]
  },
  {
   "cell_type": "code",
   "execution_count": 270,
   "id": "9f8d0247",
   "metadata": {},
   "outputs": [
    {
     "data": {
      "text/plain": [
       "int"
      ]
     },
     "execution_count": 270,
     "metadata": {},
     "output_type": "execute_result"
    }
   ],
   "source": [
    "a = 2\n",
    "type(a)"
   ]
  },
  {
   "cell_type": "code",
   "execution_count": 271,
   "id": "cc9d0cbb",
   "metadata": {},
   "outputs": [
    {
     "name": "stdout",
     "output_type": "stream",
     "text": [
      "<class 'int'>\n",
      "<class 'int'>\n",
      "<class 'int'>\n",
      "<class 'int'>\n"
     ]
    }
   ],
   "source": [
    "L = [0,1,2,4]\n",
    "for i in L:\n",
    "    print(type(i))"
   ]
  },
  {
   "cell_type": "code",
   "execution_count": 15,
   "id": "293ba87d",
   "metadata": {},
   "outputs": [],
   "source": [
    "calcul_effectué = []"
   ]
  },
  {
   "cell_type": "code",
   "execution_count": 16,
   "id": "e693c3b6",
   "metadata": {},
   "outputs": [
    {
     "data": {
      "text/plain": [
       "list"
      ]
     },
     "execution_count": 16,
     "metadata": {},
     "output_type": "execute_result"
    }
   ],
   "source": [
    "type(calcul_effectué)"
   ]
  },
  {
   "cell_type": "raw",
   "id": "2971003d",
   "metadata": {},
   "source": [
    "Quand on assigne une valeur à une variable, python ne renvoie pas de warning ou de msg d'erreur quelque soit son type. \n",
    "On peut donc modifier le type d'une variable simplement en effectuant différentes traitements dessus."
   ]
  },
  {
   "cell_type": "raw",
   "id": "b9029670",
   "metadata": {},
   "source": [
    "Les variables sont case sensitive. "
   ]
  },
  {
   "cell_type": "code",
   "execution_count": 17,
   "id": "cadbc2ae",
   "metadata": {},
   "outputs": [
    {
     "ename": "NameError",
     "evalue": "name 'A' is not defined",
     "output_type": "error",
     "traceback": [
      "\u001b[1;31m---------------------------------------------------------------------------\u001b[0m",
      "\u001b[1;31mNameError\u001b[0m                                 Traceback (most recent call last)",
      "Cell \u001b[1;32mIn[17], line 2\u001b[0m\n\u001b[0;32m      1\u001b[0m a \u001b[38;5;241m=\u001b[39m \u001b[38;5;241m0\u001b[39m\n\u001b[1;32m----> 2\u001b[0m \u001b[38;5;28mprint\u001b[39m(\u001b[43mA\u001b[49m)\n",
      "\u001b[1;31mNameError\u001b[0m: name 'A' is not defined"
     ]
    }
   ],
   "source": [
    "a = 0\n",
    "print(A)"
   ]
  },
  {
   "cell_type": "code",
   "execution_count": 19,
   "id": "f5202ede",
   "metadata": {},
   "outputs": [
    {
     "name": "stdout",
     "output_type": "stream",
     "text": [
      "a : 0 A : 0\n"
     ]
    }
   ],
   "source": [
    "A = 0\n",
    "print(\"a :\",a,\"A :\", A)"
   ]
  },
  {
   "cell_type": "raw",
   "id": "cfa1de09",
   "metadata": {},
   "source": [
    "Les variables de base dans python que l'on va rencontrer majoritairement. "
   ]
  },
  {
   "cell_type": "code",
   "execution_count": 20,
   "id": "ca4e1e22",
   "metadata": {},
   "outputs": [
    {
     "name": "stdout",
     "output_type": "stream",
     "text": [
      "3 3.3 exemple None (1, 2) (2+3j)\n"
     ]
    }
   ],
   "source": [
    "i = 3         #entier \n",
    "r = 3.3       #réel\n",
    "s = \"exemple\" #string/ chaînes de caractère\n",
    "n = None     # Nonetype\n",
    "a = (1,2)     #tuple de taille 2\n",
    "\n",
    "Liste_test = [] #liste vide\n",
    "\n",
    "Liste = [1,2] #Liste ,non vide \n",
    "#dico vide \n",
    "\n",
    "dico = {} #dictionnaire\n",
    "\n",
    "#initialiser un dico non vide : \n",
    "valeur = 0\n",
    "dico = {\"clé\" : valeur}\n",
    "\n",
    "k = False     #booléen\n",
    "c = 2 + 3j    \n",
    "print(i,r,s,n,a,c)"
   ]
  },
  {
   "cell_type": "code",
   "execution_count": 21,
   "id": "0099022f",
   "metadata": {},
   "outputs": [],
   "source": [
    "Liste = [1,\"exemple\"]"
   ]
  },
  {
   "cell_type": "code",
   "execution_count": 22,
   "id": "48cce57e",
   "metadata": {},
   "outputs": [
    {
     "data": {
      "text/plain": [
       "1"
      ]
     },
     "execution_count": 22,
     "metadata": {},
     "output_type": "execute_result"
    }
   ],
   "source": [
    "Liste[0]"
   ]
  },
  {
   "cell_type": "code",
   "execution_count": 24,
   "id": "929aadeb",
   "metadata": {},
   "outputs": [
    {
     "data": {
      "text/plain": [
       "'exemple'"
      ]
     },
     "execution_count": 24,
     "metadata": {},
     "output_type": "execute_result"
    }
   ],
   "source": [
    "Liste[1]"
   ]
  },
  {
   "cell_type": "code",
   "execution_count": 2,
   "id": "535ff9ca",
   "metadata": {},
   "outputs": [
    {
     "data": {
      "text/plain": [
       "str"
      ]
     },
     "execution_count": 2,
     "metadata": {},
     "output_type": "execute_result"
    }
   ],
   "source": [
    "type(s)"
   ]
  },
  {
   "cell_type": "raw",
   "id": "dc1f3d3d",
   "metadata": {},
   "source": [
    "la fonction type permet de déterminer le type d'une variable"
   ]
  },
  {
   "cell_type": "code",
   "execution_count": 3,
   "id": "3f45800e",
   "metadata": {},
   "outputs": [
    {
     "data": {
      "text/plain": [
       "int"
      ]
     },
     "execution_count": 3,
     "metadata": {},
     "output_type": "execute_result"
    }
   ],
   "source": [
    "type(i)"
   ]
  },
  {
   "cell_type": "code",
   "execution_count": 4,
   "id": "b64a0a59",
   "metadata": {},
   "outputs": [
    {
     "data": {
      "text/plain": [
       "float"
      ]
     },
     "execution_count": 4,
     "metadata": {},
     "output_type": "execute_result"
    }
   ],
   "source": [
    "type(r)"
   ]
  },
  {
   "cell_type": "code",
   "execution_count": 2,
   "id": "4ce67c16",
   "metadata": {},
   "outputs": [
    {
     "data": {
      "text/plain": [
       "NoneType"
      ]
     },
     "execution_count": 2,
     "metadata": {},
     "output_type": "execute_result"
    }
   ],
   "source": [
    "type(n)"
   ]
  },
  {
   "cell_type": "raw",
   "id": "2daf4534",
   "metadata": {},
   "source": [
    "On peut à tout moment changer le type d'une variable simplement en l'assignant à un nouvel objet: "
   ]
  },
  {
   "cell_type": "code",
   "execution_count": 3,
   "id": "b150e958",
   "metadata": {},
   "outputs": [
    {
     "name": "stdout",
     "output_type": "stream",
     "text": [
      "<class 'int'>\n",
      "<class 'list'>\n"
     ]
    }
   ],
   "source": [
    "x = 5 \n",
    "print(type(x))\n",
    "x = []\n",
    "print(type(x))\n",
    "# x est passé d'entier à liste"
   ]
  },
  {
   "attachments": {},
   "cell_type": "markdown",
   "id": "3907c360",
   "metadata": {},
   "source": [
    "#### Entier et réel : "
   ]
  },
  {
   "cell_type": "raw",
   "id": "ed519e52",
   "metadata": {},
   "source": [
    "opérations de base : + - * / // et %"
   ]
  },
  {
   "cell_type": "code",
   "execution_count": 29,
   "id": "60edc6e7",
   "metadata": {},
   "outputs": [
    {
     "data": {
      "text/plain": [
       "(1, 0, 1)"
      ]
     },
     "execution_count": 29,
     "metadata": {},
     "output_type": "execute_result"
    }
   ],
   "source": [
    "5%2, 4%2,3%2"
   ]
  },
  {
   "cell_type": "raw",
   "id": "27ddecc4",
   "metadata": {},
   "source": [
    "Le code suivant : \n",
    "    on assigne à la variable x la valeur 5, x est un entier\n",
    "    on assigne à la variable y la valeur 10, y est un entier\n",
    "    on assigne à la variable z la valeur de x + y, donc comme somme de deux entiers z est un entier."
   ]
  },
  {
   "cell_type": "code",
   "execution_count": 4,
   "id": "1fb043f3",
   "metadata": {},
   "outputs": [
    {
     "name": "stdout",
     "output_type": "stream",
     "text": [
      "15\n"
     ]
    }
   ],
   "source": [
    "x = 5\n",
    "y = 10\n",
    "z = x + y\n",
    "print(z)"
   ]
  },
  {
   "cell_type": "raw",
   "id": "2c0ffc23",
   "metadata": {},
   "source": [
    "On peut condenser l'écriture compteur = compteur + 1, quand on veut effectuer des opérations sur une même variable, en écrivant compteur+=1"
   ]
  },
  {
   "cell_type": "code",
   "execution_count": 30,
   "id": "98467468",
   "metadata": {},
   "outputs": [
    {
     "data": {
      "text/plain": [
       "6"
      ]
     },
     "execution_count": 30,
     "metadata": {},
     "output_type": "execute_result"
    }
   ],
   "source": [
    "x = 5 \n",
    "x = x  + 1\n",
    "x"
   ]
  },
  {
   "cell_type": "raw",
   "id": "82ea1cac",
   "metadata": {},
   "source": [
    "C'est equivalent à écrire :"
   ]
  },
  {
   "cell_type": "code",
   "execution_count": 4,
   "id": "6284af25",
   "metadata": {},
   "outputs": [
    {
     "data": {
      "text/plain": [
       "6"
      ]
     },
     "execution_count": 4,
     "metadata": {},
     "output_type": "execute_result"
    }
   ],
   "source": [
    "x = 5 \n",
    "x += 1 # x= x  + 1\n",
    "x"
   ]
  },
  {
   "cell_type": "raw",
   "id": "916c3e89",
   "metadata": {},
   "source": [
    "De la même façon x = x - 1 peut s'écrire x-=1:"
   ]
  },
  {
   "cell_type": "code",
   "execution_count": 31,
   "id": "611fe7a2",
   "metadata": {},
   "outputs": [
    {
     "data": {
      "text/plain": [
       "4"
      ]
     },
     "execution_count": 31,
     "metadata": {},
     "output_type": "execute_result"
    }
   ],
   "source": [
    "x = 5 \n",
    "x -= 1 #x = x - 1\n",
    "x"
   ]
  },
  {
   "cell_type": "raw",
   "id": "a013ba04",
   "metadata": {},
   "source": [
    "et les autres opérateurs : "
   ]
  },
  {
   "cell_type": "code",
   "execution_count": 32,
   "id": "43f8d4c3",
   "metadata": {},
   "outputs": [
    {
     "data": {
      "text/plain": [
       "2"
      ]
     },
     "execution_count": 32,
     "metadata": {},
     "output_type": "execute_result"
    }
   ],
   "source": [
    "5 // 2"
   ]
  },
  {
   "cell_type": "code",
   "execution_count": 33,
   "id": "718ea5c7",
   "metadata": {},
   "outputs": [
    {
     "data": {
      "text/plain": [
       "2.5"
      ]
     },
     "execution_count": 33,
     "metadata": {},
     "output_type": "execute_result"
    }
   ],
   "source": [
    "5 / 2"
   ]
  },
  {
   "cell_type": "code",
   "execution_count": 34,
   "id": "3e32ac6f",
   "metadata": {},
   "outputs": [
    {
     "data": {
      "text/plain": [
       "2"
      ]
     },
     "execution_count": 34,
     "metadata": {},
     "output_type": "execute_result"
    }
   ],
   "source": [
    "x = 5\n",
    "x //= 2 # x = x // 2\n",
    "x"
   ]
  },
  {
   "cell_type": "code",
   "execution_count": 35,
   "id": "cac812ab",
   "metadata": {},
   "outputs": [
    {
     "name": "stdout",
     "output_type": "stream",
     "text": [
      "2.0\n",
      "type de la variable x:  <class 'float'>\n"
     ]
    }
   ],
   "source": [
    "x = 4\n",
    "x /= 2 # x = x / 2\n",
    "print(x)\n",
    "print('type de la variable x: ',type(x))  #ici le type de la variable a changé, même si le résultat est un entier"
   ]
  },
  {
   "cell_type": "code",
   "execution_count": 37,
   "id": "2415f912",
   "metadata": {},
   "outputs": [
    {
     "data": {
      "text/plain": [
       "2"
      ]
     },
     "execution_count": 37,
     "metadata": {},
     "output_type": "execute_result"
    }
   ],
   "source": [
    "int(x) #ICI C'est juste un affichage ! Si j'affiche le type de x ce sera toujours un réel ! "
   ]
  },
  {
   "cell_type": "code",
   "execution_count": 39,
   "id": "be39ff8e",
   "metadata": {},
   "outputs": [
    {
     "name": "stdout",
     "output_type": "stream",
     "text": [
      "<class 'float'> 2.0\n"
     ]
    }
   ],
   "source": [
    "print(type(x),x)"
   ]
  },
  {
   "cell_type": "code",
   "execution_count": 40,
   "id": "efd536af",
   "metadata": {},
   "outputs": [
    {
     "name": "stdout",
     "output_type": "stream",
     "text": [
      "<class 'int'> 2\n"
     ]
    }
   ],
   "source": [
    "x = int(x)\n",
    "print(type(x),x)"
   ]
  },
  {
   "cell_type": "code",
   "execution_count": 41,
   "id": "68d98849",
   "metadata": {},
   "outputs": [
    {
     "name": "stdout",
     "output_type": "stream",
     "text": [
      "8\n",
      "type de la variable x:  <class 'int'>\n"
     ]
    }
   ],
   "source": [
    "x = 4\n",
    "x *= 2 #x = x * 2\n",
    "print(x)\n",
    "print('type de la variable x: ',type(x)) "
   ]
  },
  {
   "cell_type": "raw",
   "id": "81016a19",
   "metadata": {},
   "source": [
    "// et %"
   ]
  },
  {
   "cell_type": "raw",
   "id": "bd2dff17",
   "metadata": {},
   "source": [
    "x//y effectue la division euclidienne de x par y, son résultat est donc toujours un entier. \n",
    "x%y se lit \"x modulo y\" et correspond au reste de la division euclidiene de x par y \n",
    "\n",
    "Par exemple : "
   ]
  },
  {
   "cell_type": "code",
   "execution_count": 42,
   "id": "03d96bbd",
   "metadata": {},
   "outputs": [
    {
     "data": {
      "text/plain": [
       "2"
      ]
     },
     "execution_count": 42,
     "metadata": {},
     "output_type": "execute_result"
    }
   ],
   "source": [
    "5 // 2"
   ]
  },
  {
   "cell_type": "code",
   "execution_count": 43,
   "id": "0cda89d9",
   "metadata": {},
   "outputs": [
    {
     "data": {
      "text/plain": [
       "1"
      ]
     },
     "execution_count": 43,
     "metadata": {},
     "output_type": "execute_result"
    }
   ],
   "source": [
    "5 % 2"
   ]
  },
  {
   "cell_type": "code",
   "execution_count": 13,
   "id": "4653fbb3",
   "metadata": {},
   "outputs": [
    {
     "data": {
      "text/plain": [
       "0"
      ]
     },
     "execution_count": 13,
     "metadata": {},
     "output_type": "execute_result"
    }
   ],
   "source": [
    "4 % 2"
   ]
  },
  {
   "cell_type": "code",
   "execution_count": 14,
   "id": "51b1bf9e",
   "metadata": {},
   "outputs": [
    {
     "data": {
      "text/plain": [
       "1"
      ]
     },
     "execution_count": 14,
     "metadata": {},
     "output_type": "execute_result"
    }
   ],
   "source": [
    "1 % 3"
   ]
  },
  {
   "cell_type": "code",
   "execution_count": 15,
   "id": "37ca4091",
   "metadata": {},
   "outputs": [
    {
     "data": {
      "text/plain": [
       "2"
      ]
     },
     "execution_count": 15,
     "metadata": {},
     "output_type": "execute_result"
    }
   ],
   "source": [
    "2 % 3"
   ]
  },
  {
   "cell_type": "code",
   "execution_count": 16,
   "id": "29fdfed3",
   "metadata": {},
   "outputs": [
    {
     "data": {
      "text/plain": [
       "0"
      ]
     },
     "execution_count": 16,
     "metadata": {},
     "output_type": "execute_result"
    }
   ],
   "source": [
    "3 % 3"
   ]
  },
  {
   "cell_type": "code",
   "execution_count": 17,
   "id": "2277d691",
   "metadata": {},
   "outputs": [
    {
     "data": {
      "text/plain": [
       "0"
      ]
     },
     "execution_count": 17,
     "metadata": {},
     "output_type": "execute_result"
    }
   ],
   "source": [
    "6 % 3"
   ]
  },
  {
   "cell_type": "raw",
   "id": "6a8ccb95",
   "metadata": {},
   "source": [
    "L'opérateur ** :\n",
    "\n",
    "(il s'agit de l'opérateur puissance)\n",
    "\n",
    "La racine carré d'un nombre étant le nombre élévé à la puissance 1/2, on a l'opérateur racine par cette même méthode"
   ]
  },
  {
   "cell_type": "code",
   "execution_count": 44,
   "id": "41a8c275",
   "metadata": {},
   "outputs": [
    {
     "data": {
      "text/plain": [
       "9"
      ]
     },
     "execution_count": 44,
     "metadata": {},
     "output_type": "execute_result"
    }
   ],
   "source": [
    "3**2"
   ]
  },
  {
   "cell_type": "code",
   "execution_count": 45,
   "id": "3893f4dd",
   "metadata": {},
   "outputs": [
    {
     "data": {
      "text/plain": [
       "3.0"
      ]
     },
     "execution_count": 45,
     "metadata": {},
     "output_type": "execute_result"
    }
   ],
   "source": [
    "9**(1/2)"
   ]
  },
  {
   "attachments": {},
   "cell_type": "markdown",
   "id": "1453ce99",
   "metadata": {},
   "source": [
    "#### Chaînes de caractère"
   ]
  },
  {
   "cell_type": "raw",
   "id": "5134f5d6",
   "metadata": {},
   "source": [
    "On a vu comment définir simplement une chaîne de caractères.\n",
    "\n",
    "Il est à noter que selon le contenu, on peut adapter les delimiter du texte. \n",
    "\n",
    "Par exemple:"
   ]
  },
  {
   "cell_type": "code",
   "execution_count": 48,
   "id": "84109877",
   "metadata": {},
   "outputs": [],
   "source": [
    "l =''\n",
    "\n",
    "l = \"\"\n",
    "\n",
    "l= \"\"\"\"\"\""
   ]
  },
  {
   "cell_type": "code",
   "execution_count": 49,
   "id": "2a1b1b9d",
   "metadata": {},
   "outputs": [
    {
     "data": {
      "text/plain": [
       "''"
      ]
     },
     "execution_count": 49,
     "metadata": {},
     "output_type": "execute_result"
    }
   ],
   "source": [
    "l"
   ]
  },
  {
   "cell_type": "code",
   "execution_count": 50,
   "id": "c5a15b4b",
   "metadata": {},
   "outputs": [
    {
     "ename": "SyntaxError",
     "evalue": "unterminated string literal (detected at line 1) (1641600106.py, line 1)",
     "output_type": "error",
     "traceback": [
      "\u001b[1;36m  Cell \u001b[1;32mIn[50], line 1\u001b[1;36m\u001b[0m\n\u001b[1;33m    i = 'l'eau'\u001b[0m\n\u001b[1;37m              ^\u001b[0m\n\u001b[1;31mSyntaxError\u001b[0m\u001b[1;31m:\u001b[0m unterminated string literal (detected at line 1)\n"
     ]
    }
   ],
   "source": [
    "i = 'l'eau'"
   ]
  },
  {
   "cell_type": "raw",
   "id": "026f25b6",
   "metadata": {},
   "source": [
    "La syntaxe est invalide car python considère qu'il y a une chaîne de caractères fermée mais l'élément eau' n'est pas défini.\n",
    "\n",
    "On va alors préférer une autre écriture de la chaîne de caractère.\n"
   ]
  },
  {
   "cell_type": "code",
   "execution_count": 51,
   "id": "0f4115de",
   "metadata": {},
   "outputs": [
    {
     "name": "stdout",
     "output_type": "stream",
     "text": [
      "l'eau\n"
     ]
    },
    {
     "data": {
      "text/plain": [
       "\"l'eau\""
      ]
     },
     "execution_count": 51,
     "metadata": {},
     "output_type": "execute_result"
    }
   ],
   "source": [
    "i = \"l'eau\"\n",
    "print(i)\n",
    "i"
   ]
  },
  {
   "cell_type": "code",
   "execution_count": 53,
   "id": "2b836595",
   "metadata": {},
   "outputs": [
    {
     "data": {
      "text/plain": [
       "'\\nPour des textes plus longs avec des \"citations\"\\n'"
      ]
     },
     "execution_count": 53,
     "metadata": {},
     "output_type": "execute_result"
    }
   ],
   "source": [
    "i = \"\"\"\n",
    "Pour des textes plus longs avec des \"citations\"\n",
    "\"\"\"\n",
    "i"
   ]
  },
  {
   "cell_type": "code",
   "execution_count": 54,
   "id": "cd3fed41",
   "metadata": {},
   "outputs": [
    {
     "name": "stdout",
     "output_type": "stream",
     "text": [
      "\n",
      "Pour des textes plus longs avec des \"citations\"\n",
      "\n"
     ]
    }
   ],
   "source": [
    "print(i)"
   ]
  },
  {
   "cell_type": "code",
   "execution_count": 25,
   "id": "e81f5e3a",
   "metadata": {},
   "outputs": [
    {
     "name": "stdout",
     "output_type": "stream",
     "text": [
      "\n",
      "Pour des textes plus longs\n",
      "\n"
     ]
    }
   ],
   "source": [
    "print(i)"
   ]
  },
  {
   "cell_type": "raw",
   "id": "8bcfc952",
   "metadata": {},
   "source": [
    "'\\n' et '\\t' sont des éléments qui indique les retours à la line et les alinéas\n",
    "\n",
    "L'affichage du notebook ne montre que la variable en soi, sans prendre en compte les indications de saut à la ligne. \n",
    "D'où l'usage du print()."
   ]
  },
  {
   "cell_type": "raw",
   "id": "9907b8da",
   "metadata": {},
   "source": [
    "Quelques opérations : "
   ]
  },
  {
   "cell_type": "raw",
   "id": "616bb67d",
   "metadata": {},
   "source": [
    "Le + est la concaténation de chaînes de caractère"
   ]
  },
  {
   "cell_type": "code",
   "execution_count": 56,
   "id": "1e029cf9",
   "metadata": {},
   "outputs": [
    {
     "data": {
      "text/plain": [
       "'Bonjour !Vous allez bien ?'"
      ]
     },
     "execution_count": 56,
     "metadata": {},
     "output_type": "execute_result"
    }
   ],
   "source": [
    "text = \"Bonjour !\"\n",
    "text_2 = \"Vous allez bien ?\"\n",
    "\n",
    "text + text_2 #N'est pas enregistré en tant que variable ! "
   ]
  },
  {
   "cell_type": "code",
   "execution_count": 57,
   "id": "038ca889",
   "metadata": {},
   "outputs": [
    {
     "data": {
      "text/plain": [
       "'Bonjour !Vous allez bien ?'"
      ]
     },
     "execution_count": 57,
     "metadata": {},
     "output_type": "execute_result"
    }
   ],
   "source": [
    "text_3 = text + text_2\n",
    "text_3"
   ]
  },
  {
   "cell_type": "code",
   "execution_count": 28,
   "id": "5da88d60",
   "metadata": {},
   "outputs": [
    {
     "data": {
      "text/plain": [
       "'Bonjour ! Vous allez bien ?'"
      ]
     },
     "execution_count": 28,
     "metadata": {},
     "output_type": "execute_result"
    }
   ],
   "source": [
    "text_3 = text + \" \" + text_2 \n",
    "#Pas d'espace dans la concaténation, il faut l'ajouter manuellement\n",
    "text_3"
   ]
  },
  {
   "attachments": {},
   "cell_type": "markdown",
   "id": "d8676c0f",
   "metadata": {},
   "source": [
    "#### Comparer des chaînes de caractères (ou string)"
   ]
  },
  {
   "cell_type": "code",
   "execution_count": 58,
   "id": "abc41ac6",
   "metadata": {},
   "outputs": [
    {
     "name": "stdout",
     "output_type": "stream",
     "text": [
      "False\n",
      "True\n",
      "False\n"
     ]
    }
   ],
   "source": [
    "print(\"A\" > \"Z\")\n",
    "print(\"a\" > \"Z\")\n",
    "print(\"a\".lower() > \"Z\".lower()) #ON va donc mettre chacun des éléments en minuscule pour pour pouvoir les comparer"
   ]
  },
  {
   "cell_type": "code",
   "execution_count": 32,
   "id": "33ba1d00",
   "metadata": {},
   "outputs": [
    {
     "name": "stdout",
     "output_type": "stream",
     "text": [
      "a\n",
      "Le Z est transformé en minuscule : z\n"
     ]
    }
   ],
   "source": [
    "print(\"a\".lower())\n",
    "print(\"Le Z est transformé en minuscule :\",\"Z\".lower())"
   ]
  },
  {
   "cell_type": "code",
   "execution_count": 33,
   "id": "9b681c6b",
   "metadata": {},
   "outputs": [
    {
     "data": {
      "text/plain": [
       "'Z'"
      ]
     },
     "execution_count": 33,
     "metadata": {},
     "output_type": "execute_result"
    }
   ],
   "source": [
    "\"z\".upper()"
   ]
  },
  {
   "cell_type": "raw",
   "id": "ad820def",
   "metadata": {},
   "source": [
    "len permet d'obtenir la longueur d'une chaîne de caractère :"
   ]
  },
  {
   "cell_type": "code",
   "execution_count": 60,
   "id": "251671dd",
   "metadata": {},
   "outputs": [
    {
     "name": "stdout",
     "output_type": "stream",
     "text": [
      "Hello\n"
     ]
    },
    {
     "data": {
      "text/plain": [
       "5"
      ]
     },
     "execution_count": 60,
     "metadata": {},
     "output_type": "execute_result"
    }
   ],
   "source": [
    "texte = \"Hello\"\n",
    "print(texte)\n",
    "len(texte)"
   ]
  },
  {
   "cell_type": "raw",
   "id": "90086bb2",
   "metadata": {},
   "source": [
    "On peut aussi vouloir avoir accès au premièr élément d'une chaîne de caractère ou son n-ième élément. "
   ]
  },
  {
   "cell_type": "code",
   "execution_count": 61,
   "id": "dc8b0a15",
   "metadata": {},
   "outputs": [
    {
     "data": {
      "text/plain": [
       "'H'"
      ]
     },
     "execution_count": 61,
     "metadata": {},
     "output_type": "execute_result"
    }
   ],
   "source": [
    "texte[0]"
   ]
  },
  {
   "cell_type": "code",
   "execution_count": 62,
   "id": "226398b4",
   "metadata": {},
   "outputs": [
    {
     "data": {
      "text/plain": [
       "'o'"
      ]
     },
     "execution_count": 62,
     "metadata": {},
     "output_type": "execute_result"
    }
   ],
   "source": [
    "texte[len(texte) - 1]"
   ]
  },
  {
   "cell_type": "code",
   "execution_count": 63,
   "id": "abe4aa2f",
   "metadata": {},
   "outputs": [
    {
     "ename": "IndexError",
     "evalue": "string index out of range",
     "output_type": "error",
     "traceback": [
      "\u001b[1;31m---------------------------------------------------------------------------\u001b[0m",
      "\u001b[1;31mIndexError\u001b[0m                                Traceback (most recent call last)",
      "Cell \u001b[1;32mIn[63], line 1\u001b[0m\n\u001b[1;32m----> 1\u001b[0m \u001b[43mtexte\u001b[49m\u001b[43m[\u001b[49m\u001b[38;5;241;43m9\u001b[39;49m\u001b[43m]\u001b[49m \u001b[38;5;66;03m#IndexError il n'y pas assez d'élément...\u001b[39;00m\n",
      "\u001b[1;31mIndexError\u001b[0m: string index out of range"
     ]
    }
   ],
   "source": [
    "texte[9] #IndexError il n'y pas assez d'élément..."
   ]
  },
  {
   "cell_type": "code",
   "execution_count": 64,
   "id": "74d29000",
   "metadata": {},
   "outputs": [
    {
     "data": {
      "text/plain": [
       "'H'"
      ]
     },
     "execution_count": 64,
     "metadata": {},
     "output_type": "execute_result"
    }
   ],
   "source": [
    "texte[0]"
   ]
  },
  {
   "cell_type": "code",
   "execution_count": 65,
   "id": "da823a0c",
   "metadata": {},
   "outputs": [
    {
     "data": {
      "text/plain": [
       "'l'"
      ]
     },
     "execution_count": 65,
     "metadata": {},
     "output_type": "execute_result"
    }
   ],
   "source": [
    "texte[3]"
   ]
  },
  {
   "cell_type": "code",
   "execution_count": 5,
   "id": "d7a64668",
   "metadata": {},
   "outputs": [
    {
     "data": {
      "text/plain": [
       "'o'"
      ]
     },
     "execution_count": 5,
     "metadata": {},
     "output_type": "execute_result"
    }
   ],
   "source": [
    "texte[len(texte) - 1]"
   ]
  },
  {
   "cell_type": "code",
   "execution_count": 66,
   "id": "fdd1f469",
   "metadata": {},
   "outputs": [
    {
     "ename": "IndexError",
     "evalue": "string index out of range",
     "output_type": "error",
     "traceback": [
      "\u001b[1;31m---------------------------------------------------------------------------\u001b[0m",
      "\u001b[1;31mIndexError\u001b[0m                                Traceback (most recent call last)",
      "Cell \u001b[1;32mIn[66], line 1\u001b[0m\n\u001b[1;32m----> 1\u001b[0m \u001b[43mtexte\u001b[49m\u001b[43m[\u001b[49m\u001b[38;5;28;43mlen\u001b[39;49m\u001b[43m(\u001b[49m\u001b[43mtexte\u001b[49m\u001b[43m)\u001b[49m\u001b[43m]\u001b[49m\n",
      "\u001b[1;31mIndexError\u001b[0m: string index out of range"
     ]
    }
   ],
   "source": [
    "texte[len(texte)]"
   ]
  },
  {
   "cell_type": "raw",
   "id": "54afae4b",
   "metadata": {},
   "source": [
    "texte[len(texte)] # Attention ! l'indexation commence à zéro"
   ]
  },
  {
   "cell_type": "raw",
   "id": "856dadf2",
   "metadata": {},
   "source": [
    "On peut aussi rechercher un élément à rebours : "
   ]
  },
  {
   "cell_type": "code",
   "execution_count": 67,
   "id": "c1c958c1",
   "metadata": {},
   "outputs": [
    {
     "data": {
      "text/plain": [
       "'Hello'"
      ]
     },
     "execution_count": 67,
     "metadata": {},
     "output_type": "execute_result"
    }
   ],
   "source": [
    "texte"
   ]
  },
  {
   "cell_type": "code",
   "execution_count": 68,
   "id": "bf74822c",
   "metadata": {},
   "outputs": [
    {
     "data": {
      "text/plain": [
       "'o'"
      ]
     },
     "execution_count": 68,
     "metadata": {},
     "output_type": "execute_result"
    }
   ],
   "source": [
    "texte[-1]"
   ]
  },
  {
   "cell_type": "code",
   "execution_count": 69,
   "id": "a5caef90",
   "metadata": {},
   "outputs": [
    {
     "data": {
      "text/plain": [
       "5"
      ]
     },
     "execution_count": 69,
     "metadata": {},
     "output_type": "execute_result"
    }
   ],
   "source": [
    "len(texte)"
   ]
  },
  {
   "cell_type": "code",
   "execution_count": 70,
   "id": "b4214636",
   "metadata": {},
   "outputs": [
    {
     "data": {
      "text/plain": [
       "'H'"
      ]
     },
     "execution_count": 70,
     "metadata": {},
     "output_type": "execute_result"
    }
   ],
   "source": [
    "texte[-len(texte)]"
   ]
  },
  {
   "cell_type": "raw",
   "id": "8943acbc",
   "metadata": {},
   "source": [
    "On peut aussi ne vouloir qu'une portion de texte : "
   ]
  },
  {
   "cell_type": "raw",
   "id": "86abb5df",
   "metadata": {},
   "source": [
    "On sélectionne les portions du texte de l'indice 0 à l'indice 2 (3 - 1)"
   ]
  },
  {
   "cell_type": "code",
   "execution_count": 73,
   "id": "1f928c51",
   "metadata": {},
   "outputs": [
    {
     "data": {
      "text/plain": [
       "'Hel'"
      ]
     },
     "execution_count": 73,
     "metadata": {},
     "output_type": "execute_result"
    }
   ],
   "source": [
    "texte[0:3] "
   ]
  },
  {
   "cell_type": "code",
   "execution_count": 74,
   "id": "aaf71580",
   "metadata": {},
   "outputs": [
    {
     "data": {
      "text/plain": [
       "'Hel'"
      ]
     },
     "execution_count": 74,
     "metadata": {},
     "output_type": "execute_result"
    }
   ],
   "source": [
    "texte[:3]"
   ]
  },
  {
   "cell_type": "code",
   "execution_count": 75,
   "id": "213684d9",
   "metadata": {},
   "outputs": [
    {
     "data": {
      "text/plain": [
       "'el'"
      ]
     },
     "execution_count": 75,
     "metadata": {},
     "output_type": "execute_result"
    }
   ],
   "source": [
    "texte[1:3]"
   ]
  },
  {
   "cell_type": "code",
   "execution_count": 21,
   "id": "c0e26f90",
   "metadata": {},
   "outputs": [
    {
     "data": {
      "text/plain": [
       "'ello'"
      ]
     },
     "execution_count": 21,
     "metadata": {},
     "output_type": "execute_result"
    }
   ],
   "source": [
    "texte[1:]"
   ]
  },
  {
   "cell_type": "raw",
   "id": "23676eeb",
   "metadata": {},
   "source": [
    "Affichage entre entier et string :"
   ]
  },
  {
   "cell_type": "raw",
   "id": "2f327538",
   "metadata": {},
   "source": [
    "Il faut faire attention quand on manipule à la fois des nombres (entiers et réels) et des chaînes de caractères : "
   ]
  },
  {
   "cell_type": "code",
   "execution_count": 71,
   "id": "879eaa58",
   "metadata": {},
   "outputs": [
    {
     "name": "stdout",
     "output_type": "stream",
     "text": [
      "5\n"
     ]
    }
   ],
   "source": [
    "x = 5\n",
    "y = 3\n",
    "print(x)"
   ]
  },
  {
   "cell_type": "raw",
   "id": "c42f3042",
   "metadata": {},
   "source": [
    "str() transforme un objet en chaîne de caractères : "
   ]
  },
  {
   "cell_type": "code",
   "execution_count": 72,
   "id": "200a8b8c",
   "metadata": {},
   "outputs": [
    {
     "name": "stdout",
     "output_type": "stream",
     "text": [
      "5\n"
     ]
    }
   ],
   "source": [
    "print(str(x)) #Le print renvoie une chaîne de caractère mais il parait être un entier..."
   ]
  },
  {
   "cell_type": "code",
   "execution_count": 73,
   "id": "d9666ff0",
   "metadata": {},
   "outputs": [
    {
     "name": "stdout",
     "output_type": "stream",
     "text": [
      "type de la variable x : <class 'int'>\n",
      "type de la variable x : <class 'str'>\n"
     ]
    }
   ],
   "source": [
    "print(\"type de la variable x :\" ,type(x))\n",
    "print(\"type de la variable x :\",type(str(x)))"
   ]
  },
  {
   "cell_type": "code",
   "execution_count": 74,
   "id": "d656951a",
   "metadata": {},
   "outputs": [
    {
     "data": {
      "text/plain": [
       "int"
      ]
     },
     "execution_count": 74,
     "metadata": {},
     "output_type": "execute_result"
    }
   ],
   "source": [
    "type(x)"
   ]
  },
  {
   "cell_type": "code",
   "execution_count": 81,
   "id": "449f6e0c",
   "metadata": {},
   "outputs": [
    {
     "name": "stdout",
     "output_type": "stream",
     "text": [
      "x\n"
     ]
    }
   ],
   "source": [
    "print(\"x\") # Ici on souhaite afficher la lettre x et non pas la variable x "
   ]
  },
  {
   "cell_type": "code",
   "execution_count": 75,
   "id": "4ee151d7",
   "metadata": {},
   "outputs": [
    {
     "name": "stdout",
     "output_type": "stream",
     "text": [
      "8\n"
     ]
    }
   ],
   "source": [
    "print(x + y)"
   ]
  },
  {
   "cell_type": "code",
   "execution_count": 27,
   "id": "c7a4d7a7",
   "metadata": {},
   "outputs": [
    {
     "name": "stdout",
     "output_type": "stream",
     "text": [
      "53\n"
     ]
    }
   ],
   "source": [
    "print(str(x)+str(y)) \n",
    "#!!! Concaténation de deux chaînes de caractères, ce n'est pas un + d'addition. "
   ]
  },
  {
   "cell_type": "raw",
   "id": "898448ce",
   "metadata": {},
   "source": [
    "Et inversement, on peut transformer une chaîne de caractère composé UNIQUEMENT d'un nombre en entier ou réel :  "
   ]
  },
  {
   "cell_type": "code",
   "execution_count": 76,
   "id": "bcfc5d2d",
   "metadata": {},
   "outputs": [
    {
     "data": {
      "text/plain": [
       "6"
      ]
     },
     "execution_count": 76,
     "metadata": {},
     "output_type": "execute_result"
    }
   ],
   "source": [
    "x = \"5\"\n",
    "x = int(x)\n",
    "x + 1"
   ]
  },
  {
   "cell_type": "code",
   "execution_count": 77,
   "id": "9db7da2f",
   "metadata": {},
   "outputs": [
    {
     "data": {
      "text/plain": [
       "6.0"
      ]
     },
     "execution_count": 77,
     "metadata": {},
     "output_type": "execute_result"
    }
   ],
   "source": [
    "x= \"5.0\"\n",
    "x = float(x)\n",
    "x + 1"
   ]
  },
  {
   "cell_type": "raw",
   "id": "74e6a531",
   "metadata": {},
   "source": [
    "Attention ! l'opérateur  + entre une chaîne de caractère et un entier renvoie une erreur !!! "
   ]
  },
  {
   "cell_type": "code",
   "execution_count": 78,
   "id": "c2ddee8a",
   "metadata": {},
   "outputs": [
    {
     "ename": "TypeError",
     "evalue": "can only concatenate str (not \"int\") to str",
     "output_type": "error",
     "traceback": [
      "\u001b[1;31m---------------------------------------------------------------------------\u001b[0m",
      "\u001b[1;31mTypeError\u001b[0m                                 Traceback (most recent call last)",
      "Cell \u001b[1;32mIn[78], line 7\u001b[0m\n\u001b[0;32m      3\u001b[0m a \u001b[38;5;241m=\u001b[39m \u001b[38;5;241m5\u001b[39m \n\u001b[0;32m      5\u001b[0m text \u001b[38;5;241m=\u001b[39m\u001b[38;5;124m'\u001b[39m\u001b[38;5;124mIls sont \u001b[39m\u001b[38;5;124m'\u001b[39m\n\u001b[1;32m----> 7\u001b[0m \u001b[43mtext\u001b[49m\u001b[43m \u001b[49m\u001b[38;5;241;43m+\u001b[39;49m\u001b[43m \u001b[49m\u001b[43ma\u001b[49m\n",
      "\u001b[1;31mTypeError\u001b[0m: can only concatenate str (not \"int\") to str"
     ]
    }
   ],
   "source": [
    "## Attention : \n",
    "\n",
    "a = 5 \n",
    "\n",
    "text ='Ils sont '\n",
    "\n",
    "text + a"
   ]
  },
  {
   "cell_type": "raw",
   "id": "ce5a1d77",
   "metadata": {},
   "source": [
    "En revanche : "
   ]
  },
  {
   "cell_type": "code",
   "execution_count": 79,
   "id": "6a850d3d",
   "metadata": {},
   "outputs": [
    {
     "data": {
      "text/plain": [
       "'Ils sont 5'"
      ]
     },
     "execution_count": 79,
     "metadata": {},
     "output_type": "execute_result"
    }
   ],
   "source": [
    "text + str(a)"
   ]
  },
  {
   "cell_type": "raw",
   "id": "04275786",
   "metadata": {},
   "source": [
    "Question d'affichage on préferera d'utiliser la méthode format "
   ]
  },
  {
   "cell_type": "code",
   "execution_count": 92,
   "id": "4de2e50e",
   "metadata": {},
   "outputs": [
    {
     "name": "stdout",
     "output_type": "stream",
     "text": [
      "Cela vous fera 15.80 €\n"
     ]
    }
   ],
   "source": [
    "text = \"Cela vous fera {prix:.2f} €\"\n",
    "print(text.format(prix = 15.8))"
   ]
  },
  {
   "cell_type": "code",
   "execution_count": 5,
   "id": "ce2b07f3",
   "metadata": {},
   "outputs": [
    {
     "data": {
      "text/plain": [
       "'Hello, Eric. You are 74.'"
      ]
     },
     "execution_count": 5,
     "metadata": {},
     "output_type": "execute_result"
    }
   ],
   "source": [
    "name = \"Eric\"\n",
    "age = 74\n",
    "f\"Hello, {name}. You are {age}.\""
   ]
  },
  {
   "attachments": {},
   "cell_type": "markdown",
   "id": "41075cfd",
   "metadata": {},
   "source": [
    "#### Opérateurs sur les expressions : "
   ]
  },
  {
   "cell_type": "raw",
   "id": "4bfc9696",
   "metadata": {},
   "source": [
    "Opérateurs relationnels (==,!=,>, < ,>= et <=)"
   ]
  },
  {
   "cell_type": "code",
   "execution_count": 83,
   "id": "bec376e2",
   "metadata": {},
   "outputs": [
    {
     "name": "stdout",
     "output_type": "stream",
     "text": [
      "True\n"
     ]
    }
   ],
   "source": [
    "x = 10 #On ASSIGNE à la variable x la valeur 10\n",
    "\n",
    "print(x == 10) #On vérifie si x vaut 10 ou non "
   ]
  },
  {
   "cell_type": "code",
   "execution_count": 84,
   "id": "ade96c38",
   "metadata": {},
   "outputs": [
    {
     "data": {
      "text/plain": [
       "False"
      ]
     },
     "execution_count": 84,
     "metadata": {},
     "output_type": "execute_result"
    }
   ],
   "source": [
    "x == 3 #Verification ! "
   ]
  },
  {
   "cell_type": "code",
   "execution_count": 85,
   "id": "af4bc402",
   "metadata": {},
   "outputs": [
    {
     "data": {
      "text/plain": [
       "10"
      ]
     },
     "execution_count": 85,
     "metadata": {},
     "output_type": "execute_result"
    }
   ],
   "source": [
    "x"
   ]
  },
  {
   "cell_type": "raw",
   "id": "30ba2900",
   "metadata": {},
   "source": [
    "!= est l'opérateur différent de : "
   ]
  },
  {
   "cell_type": "code",
   "execution_count": 86,
   "id": "70cc6956",
   "metadata": {},
   "outputs": [
    {
     "name": "stdout",
     "output_type": "stream",
     "text": [
      "True\n"
     ]
    }
   ],
   "source": [
    "print(x != 3)"
   ]
  },
  {
   "cell_type": "raw",
   "id": "2e7af06d",
   "metadata": {},
   "source": [
    " Opérateurs logiques (and, or et not)"
   ]
  },
  {
   "cell_type": "raw",
   "id": "6b1c7647",
   "metadata": {},
   "source": [
    "Ce sont des opérateurs qui permettent de lier des expressions pour en créer de nouvelles : "
   ]
  },
  {
   "cell_type": "code",
   "execution_count": 88,
   "id": "01667dfb",
   "metadata": {},
   "outputs": [
    {
     "name": "stdout",
     "output_type": "stream",
     "text": [
      "False\n"
     ]
    }
   ],
   "source": [
    "x = 10\n",
    "y = 5\n",
    "\n",
    "print(x == 10 and y == 6) #Il faut que les deux expressions soient vraies pour renvoyer un True "
   ]
  },
  {
   "cell_type": "code",
   "execution_count": 89,
   "id": "f7662879",
   "metadata": {},
   "outputs": [
    {
     "name": "stdout",
     "output_type": "stream",
     "text": [
      "True\n"
     ]
    }
   ],
   "source": [
    "print(( x == 10) or (y == 6)) #Il suffit d'une expression vraie pour renvoyer un True & |"
   ]
  },
  {
   "cell_type": "code",
   "execution_count": 90,
   "id": "607ad4cf",
   "metadata": {},
   "outputs": [
    {
     "name": "stdout",
     "output_type": "stream",
     "text": [
      "True\n"
     ]
    }
   ],
   "source": [
    "print((x==10) | (y ==6))"
   ]
  },
  {
   "cell_type": "raw",
   "id": "03ef13ec",
   "metadata": {},
   "source": [
    "A propos des booléens (True et False)"
   ]
  },
  {
   "cell_type": "code",
   "execution_count": 91,
   "id": "8d394c96",
   "metadata": {},
   "outputs": [
    {
     "name": "stdout",
     "output_type": "stream",
     "text": [
      "1\n",
      "0\n"
     ]
    }
   ],
   "source": [
    "print(int(True))\n",
    "print(int(False))"
   ]
  },
  {
   "cell_type": "code",
   "execution_count": 93,
   "id": "7817435c",
   "metadata": {},
   "outputs": [
    {
     "name": "stdout",
     "output_type": "stream",
     "text": [
      "ok\n",
      "ok\n"
     ]
    }
   ],
   "source": [
    "choice = 1\n",
    "\n",
    "if choice:\n",
    "    print(\"ok\")\n",
    "    \n",
    "# Equivalent à \n",
    "\n",
    "if choice == 1:\n",
    "    print(\"ok\")"
   ]
  },
  {
   "cell_type": "code",
   "execution_count": 94,
   "id": "725a63fc",
   "metadata": {},
   "outputs": [
    {
     "name": "stdout",
     "output_type": "stream",
     "text": [
      "not ok\n"
     ]
    }
   ],
   "source": [
    "choice = 0\n",
    "if choice:\n",
    "    print(\"ok\") #Il n'est pas affiché car choice n'est pas 'vrai' (il ne vaut pas un)\n",
    "    \n",
    "if not choice:\n",
    "    print(\"not ok\")\n",
    "    \n",
    "# Equivalent à \n",
    "\n",
    "choice = 0\n",
    "if choice == 1:\n",
    "    print(\"ok\")"
   ]
  },
  {
   "attachments": {},
   "cell_type": "markdown",
   "id": "8f639a7e",
   "metadata": {},
   "source": [
    "### Les listes (tableaux)"
   ]
  },
  {
   "cell_type": "raw",
   "id": "61a16ed8",
   "metadata": {},
   "source": [
    "On définit l'objet liste, qui nous sera très utile, comme suit :  nom_de_la_liste = []\n",
    "\n",
    "On évite de nommer sa liste \"list\" (et en fait n'importe quel autre nom de fonction du langage...) car c'est une fonction déjà en mémoire, qui permet de transformer n'importe quel itérable en liste\n",
    "\n",
    "Sinon, LOCALEMENT, la variable list sera associé à autre chose que la fonction de base qui permet de créer une liste. "
   ]
  },
  {
   "cell_type": "raw",
   "id": "a938eb8c",
   "metadata": {},
   "source": [
    "Si j'écris et exécute  help = 3, (ou list = 3 par exemple), la fonction help ne sera plus définie comme la fonction d'aide mais comme trois. Et il n'y a aucun warning !"
   ]
  },
  {
   "cell_type": "raw",
   "id": "6aff289f",
   "metadata": {},
   "source": [
    "Pour créer une liste (Initialisation d'une liste vide)"
   ]
  },
  {
   "cell_type": "code",
   "execution_count": 107,
   "id": "d3f2175b",
   "metadata": {},
   "outputs": [
    {
     "name": "stdout",
     "output_type": "stream",
     "text": [
      "[]\n",
      "[]\n"
     ]
    }
   ],
   "source": [
    "L = []\n",
    "print(L)\n",
    "\n",
    "L = list()\n",
    "print(L)"
   ]
  },
  {
   "cell_type": "raw",
   "id": "f6aa07b0",
   "metadata": {},
   "source": [
    "Mais on peut choisir d'initialiser une liste avec des éléments :"
   ]
  },
  {
   "cell_type": "code",
   "execution_count": 109,
   "id": "d15b5e95",
   "metadata": {},
   "outputs": [],
   "source": [
    "L = [4, 5] # création d’une liste composée de deux entiers\n",
    "L = [\"un\", 1, \"deux\", 2] # création d’une liste composée de 2 chaînes de caractères\n",
    "# et de deux entiers, l’ordre d’écriture est important\n",
    "L = [3] # création d’une liste d’un élément, sans la virgule,"
   ]
  },
  {
   "cell_type": "raw",
   "id": "f70f551c",
   "metadata": {},
   "source": [
    "Opérations sur les listes : "
   ]
  },
  {
   "cell_type": "raw",
   "id": "d7c38b8c",
   "metadata": {},
   "source": [
    "On peut vouloir avoir accès aux éléments de la liste ou créer une sous_liste à partir d'une liste :"
   ]
  },
  {
   "cell_type": "raw",
   "id": "9499adfb",
   "metadata": {},
   "source": [
    "La syntaxe est la même que celle des chaînes de caractères :"
   ]
  },
  {
   "cell_type": "code",
   "execution_count": 96,
   "id": "2072bd37",
   "metadata": {},
   "outputs": [
    {
     "name": "stdout",
     "output_type": "stream",
     "text": [
      "Taille de la liste 6\n",
      "Premier élément 1\n",
      "Dernier élément 5 5\n",
      "Quatrième élément 3\n",
      "Avant Dernier élément 4\n",
      "Du deuxième au quatrième élément [2, 'Hello', 3]\n"
     ]
    }
   ],
   "source": [
    "L = [1,2,\"Hello\",3,4,5]\n",
    "\n",
    "print(\"Taille de la liste\",len(L))\n",
    "print(\"Premier élément\",L[0])\n",
    "print(\"Dernier élément\",L[-1],L[len(L) - 1])\n",
    "print(\"Quatrième élément\",L[3])\n",
    "print(\"Avant Dernier élément\",L[-2]) #Comme vu avec les chaînes de caractères, on peut compter à rebours\n",
    "print(\"Du deuxième au quatrième élément\",L[1:4]) #L[k:n] va de k à (n-1)"
   ]
  },
  {
   "cell_type": "raw",
   "id": "c748ad43",
   "metadata": {},
   "source": [
    "Pour accéder au dernier élément : "
   ]
  },
  {
   "cell_type": "code",
   "execution_count": 65,
   "id": "bab63811",
   "metadata": {},
   "outputs": [
    {
     "data": {
      "text/plain": [
       "5"
      ]
     },
     "execution_count": 65,
     "metadata": {},
     "output_type": "execute_result"
    }
   ],
   "source": [
    "L[len(L)-1] #On demande l'élément d'indice len(L) - 1 car l'indexation commence par zéro"
   ]
  },
  {
   "cell_type": "raw",
   "id": "ee8cfb9f",
   "metadata": {},
   "source": [
    "On peut toujours consulter les méthodes utilisables pour chacun des éléments que l'on manipule via 'help'"
   ]
  },
  {
   "cell_type": "code",
   "execution_count": 34,
   "id": "cb007e6b",
   "metadata": {},
   "outputs": [
    {
     "name": "stdout",
     "output_type": "stream",
     "text": [
      "Help on class list in module builtins:\n",
      "\n",
      "class list(object)\n",
      " |  list(iterable=(), /)\n",
      " |  \n",
      " |  Built-in mutable sequence.\n",
      " |  \n",
      " |  If no argument is given, the constructor creates a new empty list.\n",
      " |  The argument must be an iterable if specified.\n",
      " |  \n",
      " |  Methods defined here:\n",
      " |  \n",
      " |  __add__(self, value, /)\n",
      " |      Return self+value.\n",
      " |  \n",
      " |  __contains__(self, key, /)\n",
      " |      Return key in self.\n",
      " |  \n",
      " |  __delitem__(self, key, /)\n",
      " |      Delete self[key].\n",
      " |  \n",
      " |  __eq__(self, value, /)\n",
      " |      Return self==value.\n",
      " |  \n",
      " |  __ge__(self, value, /)\n",
      " |      Return self>=value.\n",
      " |  \n",
      " |  __getattribute__(self, name, /)\n",
      " |      Return getattr(self, name).\n",
      " |  \n",
      " |  __getitem__(...)\n",
      " |      x.__getitem__(y) <==> x[y]\n",
      " |  \n",
      " |  __gt__(self, value, /)\n",
      " |      Return self>value.\n",
      " |  \n",
      " |  __iadd__(self, value, /)\n",
      " |      Implement self+=value.\n",
      " |  \n",
      " |  __imul__(self, value, /)\n",
      " |      Implement self*=value.\n",
      " |  \n",
      " |  __init__(self, /, *args, **kwargs)\n",
      " |      Initialize self.  See help(type(self)) for accurate signature.\n",
      " |  \n",
      " |  __iter__(self, /)\n",
      " |      Implement iter(self).\n",
      " |  \n",
      " |  __le__(self, value, /)\n",
      " |      Return self<=value.\n",
      " |  \n",
      " |  __len__(self, /)\n",
      " |      Return len(self).\n",
      " |  \n",
      " |  __lt__(self, value, /)\n",
      " |      Return self<value.\n",
      " |  \n",
      " |  __mul__(self, value, /)\n",
      " |      Return self*value.\n",
      " |  \n",
      " |  __ne__(self, value, /)\n",
      " |      Return self!=value.\n",
      " |  \n",
      " |  __repr__(self, /)\n",
      " |      Return repr(self).\n",
      " |  \n",
      " |  __reversed__(self, /)\n",
      " |      Return a reverse iterator over the list.\n",
      " |  \n",
      " |  __rmul__(self, value, /)\n",
      " |      Return value*self.\n",
      " |  \n",
      " |  __setitem__(self, key, value, /)\n",
      " |      Set self[key] to value.\n",
      " |  \n",
      " |  __sizeof__(self, /)\n",
      " |      Return the size of the list in memory, in bytes.\n",
      " |  \n",
      " |  append(self, object, /)\n",
      " |      Append object to the end of the list.\n",
      " |  \n",
      " |  clear(self, /)\n",
      " |      Remove all items from list.\n",
      " |  \n",
      " |  copy(self, /)\n",
      " |      Return a shallow copy of the list.\n",
      " |  \n",
      " |  count(self, value, /)\n",
      " |      Return number of occurrences of value.\n",
      " |  \n",
      " |  extend(self, iterable, /)\n",
      " |      Extend list by appending elements from the iterable.\n",
      " |  \n",
      " |  index(self, value, start=0, stop=9223372036854775807, /)\n",
      " |      Return first index of value.\n",
      " |      \n",
      " |      Raises ValueError if the value is not present.\n",
      " |  \n",
      " |  insert(self, index, object, /)\n",
      " |      Insert object before index.\n",
      " |  \n",
      " |  pop(self, index=-1, /)\n",
      " |      Remove and return item at index (default last).\n",
      " |      \n",
      " |      Raises IndexError if list is empty or index is out of range.\n",
      " |  \n",
      " |  remove(self, value, /)\n",
      " |      Remove first occurrence of value.\n",
      " |      \n",
      " |      Raises ValueError if the value is not present.\n",
      " |  \n",
      " |  reverse(self, /)\n",
      " |      Reverse *IN PLACE*.\n",
      " |  \n",
      " |  sort(self, /, *, key=None, reverse=False)\n",
      " |      Stable sort *IN PLACE*.\n",
      " |  \n",
      " |  ----------------------------------------------------------------------\n",
      " |  Static methods defined here:\n",
      " |  \n",
      " |  __new__(*args, **kwargs) from builtins.type\n",
      " |      Create and return a new object.  See help(type) for accurate signature.\n",
      " |  \n",
      " |  ----------------------------------------------------------------------\n",
      " |  Data and other attributes defined here:\n",
      " |  \n",
      " |  __hash__ = None\n",
      "\n"
     ]
    }
   ],
   "source": [
    "help(list)"
   ]
  },
  {
   "cell_type": "code",
   "execution_count": 97,
   "id": "b32a4808",
   "metadata": {},
   "outputs": [
    {
     "name": "stdout",
     "output_type": "stream",
     "text": [
      "None\n"
     ]
    }
   ],
   "source": [
    "L = [1,2,3]\n",
    "print(L.reverse())"
   ]
  },
  {
   "cell_type": "code",
   "execution_count": 98,
   "id": "74f58abb",
   "metadata": {},
   "outputs": [
    {
     "data": {
      "text/plain": [
       "[3, 2, 1]"
      ]
     },
     "execution_count": 98,
     "metadata": {},
     "output_type": "execute_result"
    }
   ],
   "source": [
    "L"
   ]
  },
  {
   "cell_type": "code",
   "execution_count": 99,
   "id": "9fa20b1d",
   "metadata": {},
   "outputs": [
    {
     "name": "stdout",
     "output_type": "stream",
     "text": [
      "None\n"
     ]
    }
   ],
   "source": [
    "# IN PLACE \n",
    "L = [1,2,\"Hello\",3,4,5]\n",
    "print(L.reverse())"
   ]
  },
  {
   "cell_type": "code",
   "execution_count": 100,
   "id": "b33f2719",
   "metadata": {},
   "outputs": [
    {
     "data": {
      "text/plain": [
       "[5, 4, 3, 'Hello', 2, 1]"
      ]
     },
     "execution_count": 100,
     "metadata": {},
     "output_type": "execute_result"
    }
   ],
   "source": [
    "L"
   ]
  },
  {
   "cell_type": "raw",
   "id": "fdd4fc73",
   "metadata": {},
   "source": [
    "*IN PLACE* en commentaire des fonctions, signifie que la méthode employée va modifier la variable en mémoire en même temps qu'effectuer l'opération demandée "
   ]
  },
  {
   "cell_type": "raw",
   "id": "f74bc1aa",
   "metadata": {},
   "source": [
    "Quelques exemples : "
   ]
  },
  {
   "cell_type": "raw",
   "id": "1f819701",
   "metadata": {},
   "source": [
    "Ajout d'éléments ou concaténation de listes : "
   ]
  },
  {
   "cell_type": "code",
   "execution_count": 101,
   "id": "793f4b40",
   "metadata": {},
   "outputs": [
    {
     "name": "stdout",
     "output_type": "stream",
     "text": [
      "['Nicolas', 'Michel', 'Bernard', 'Philippe']\n"
     ]
    }
   ],
   "source": [
    "ma_liste = [\"Nicolas\",\"Michel\",\"Bernard\"]\n",
    "\n",
    "ma_liste.append(\"Philippe\")  #A favoriser sauf si on veut concatener des listes\n",
    "\n",
    "print(ma_liste)"
   ]
  },
  {
   "cell_type": "code",
   "execution_count": 102,
   "id": "df0694c4",
   "metadata": {},
   "outputs": [
    {
     "data": {
      "text/plain": [
       "['Nicolas', 'Michel', 'Bernard', 'Philippe']"
      ]
     },
     "execution_count": 102,
     "metadata": {},
     "output_type": "execute_result"
    }
   ],
   "source": [
    "ma_liste = [\"Nicolas\",\"Michel\",\"Bernard\"]\n",
    "ma_liste2 = [\"Philippe\"]\n",
    "ma_liste+ma_liste2"
   ]
  },
  {
   "cell_type": "code",
   "execution_count": 105,
   "id": "e7841155",
   "metadata": {},
   "outputs": [
    {
     "data": {
      "text/plain": [
       "['Nicolas', 'Michel', 'Bernard', 'Philippe', 'Diane']"
      ]
     },
     "execution_count": 105,
     "metadata": {},
     "output_type": "execute_result"
    }
   ],
   "source": [
    "ma_liste = [\"Nicolas\",\"Michel\",\"Bernard\"]\n",
    "ma_liste2 = [\"Philippe\",\"Diane\"]\n",
    "ma_liste + ma_liste2 # Cette liste n'es pas assignée à une variable ! "
   ]
  },
  {
   "cell_type": "code",
   "execution_count": 106,
   "id": "3d536dcf",
   "metadata": {},
   "outputs": [
    {
     "data": {
      "text/plain": [
       "['Nicolas', 'Michel', 'Bernard', 'Patricia', 'Jeanne']"
      ]
     },
     "execution_count": 106,
     "metadata": {},
     "output_type": "execute_result"
    }
   ],
   "source": [
    "ma_liste = ma_liste + [\"Patricia\",\"Jeanne\"]\n",
    "ma_liste"
   ]
  },
  {
   "cell_type": "raw",
   "id": "78d957a0",
   "metadata": {},
   "source": [
    "Les raccourcis fonctionnent aussi : "
   ]
  },
  {
   "cell_type": "code",
   "execution_count": 15,
   "id": "649d652e",
   "metadata": {},
   "outputs": [
    {
     "data": {
      "text/plain": [
       "['Nicolas', 'Michel', 'Bernard', 'Patricia', 'Jeanne']"
      ]
     },
     "execution_count": 15,
     "metadata": {},
     "output_type": "execute_result"
    }
   ],
   "source": [
    "ma_liste = [\"Nicolas\",\"Michel\",\"Bernard\"]\n",
    "ma_liste += [\"Patricia\",\"Jeanne\"]\n",
    "ma_liste"
   ]
  },
  {
   "cell_type": "raw",
   "id": "3afb562b",
   "metadata": {},
   "source": [
    "ATTENTION à l'opérateur * !"
   ]
  },
  {
   "cell_type": "code",
   "execution_count": 128,
   "id": "a33bdcfd",
   "metadata": {},
   "outputs": [
    {
     "data": {
      "text/plain": [
       "['Nicolas',\n",
       " 'Michel',\n",
       " 'Bernard',\n",
       " 'Nicolas',\n",
       " 'Michel',\n",
       " 'Bernard',\n",
       " 'Nicolas',\n",
       " 'Michel',\n",
       " 'Bernard']"
      ]
     },
     "execution_count": 128,
     "metadata": {},
     "output_type": "execute_result"
    }
   ],
   "source": [
    "ma_liste = [\"Nicolas\",\"Michel\",\"Bernard\"]\n",
    "ma_liste*3 #On a concaténé trois fois la même liste ! "
   ]
  },
  {
   "cell_type": "raw",
   "id": "dcf803ef",
   "metadata": {},
   "source": [
    "Si l'on veut multiplier chaque élément de la liste par trois ! "
   ]
  },
  {
   "cell_type": "code",
   "execution_count": 107,
   "id": "90256b67",
   "metadata": {},
   "outputs": [],
   "source": [
    "import random #J'en profite pour importer une librairie native de Python, la libraire random "
   ]
  },
  {
   "cell_type": "code",
   "execution_count": 109,
   "id": "d1a38d98",
   "metadata": {},
   "outputs": [
    {
     "data": {
      "text/plain": [
       "[9, 7, 8, 3, 5, 2, 4, 6, 1]"
      ]
     },
     "execution_count": 109,
     "metadata": {},
     "output_type": "execute_result"
    }
   ],
   "source": [
    "ma_liste = random.sample(range(1, 10), 9)\n",
    "ma_liste"
   ]
  },
  {
   "cell_type": "raw",
   "id": "e133ea82",
   "metadata": {},
   "source": [
    "Maintenant pour multplier chacun des éléments par 3:"
   ]
  },
  {
   "cell_type": "code",
   "execution_count": 110,
   "id": "7c6bd4ac",
   "metadata": {},
   "outputs": [
    {
     "name": "stdout",
     "output_type": "stream",
     "text": [
      "[27, 21, 24, 9, 15, 6, 12, 18, 3]\n"
     ]
    }
   ],
   "source": [
    "ma_liste_3 = []\n",
    "for x in ma_liste:\n",
    "    ma_liste_3.append(x*3)\n",
    "\n",
    "print(ma_liste_3)"
   ]
  },
  {
   "cell_type": "code",
   "execution_count": 111,
   "id": "537297be",
   "metadata": {},
   "outputs": [
    {
     "data": {
      "text/plain": [
       "[27, 21, 24, 9, 15, 6, 12, 18, 3]"
      ]
     },
     "execution_count": 111,
     "metadata": {},
     "output_type": "execute_result"
    }
   ],
   "source": [
    "ma_liste_3 = [x*3 for x in ma_liste] #C'est une écriture condensée\n",
    "ma_liste_3"
   ]
  },
  {
   "cell_type": "raw",
   "id": "7a20e705",
   "metadata": {},
   "source": [
    "En plus des opérateurs logiques que l'on a vu auparavant on peut vérifier si un élément est contenu dans la liste : "
   ]
  },
  {
   "cell_type": "code",
   "execution_count": 112,
   "id": "f5dd124b",
   "metadata": {},
   "outputs": [
    {
     "name": "stdout",
     "output_type": "stream",
     "text": [
      "True\n"
     ]
    }
   ],
   "source": [
    "x = 12\n",
    "\n",
    "l = [1,2,3,6,12,24,17]\n",
    "\n",
    "print(x in l)"
   ]
  },
  {
   "cell_type": "code",
   "execution_count": 113,
   "id": "8513a634",
   "metadata": {},
   "outputs": [
    {
     "data": {
      "text/plain": [
       "False"
      ]
     },
     "execution_count": 113,
     "metadata": {},
     "output_type": "execute_result"
    }
   ],
   "source": [
    "100 in L"
   ]
  },
  {
   "attachments": {},
   "cell_type": "markdown",
   "id": "2a81935c",
   "metadata": {},
   "source": [
    "### Les Dictionnaires "
   ]
  },
  {
   "cell_type": "code",
   "execution_count": null,
   "id": "84917fb9",
   "metadata": {},
   "outputs": [],
   "source": [
    "Un dictionnaire est un tableau à deux élements clé, valeur."
   ]
  },
  {
   "cell_type": "raw",
   "id": "fccff159",
   "metadata": {},
   "source": [
    "Pour l'initialiser : "
   ]
  },
  {
   "cell_type": "code",
   "execution_count": 114,
   "id": "0fa36b1a",
   "metadata": {},
   "outputs": [
    {
     "name": "stdout",
     "output_type": "stream",
     "text": [
      "{}\n",
      "{}\n"
     ]
    }
   ],
   "source": [
    "dico = {}\n",
    "print(dico)\n",
    "\n",
    "dico = dict()\n",
    "print(dico)\n",
    "\n",
    "#Similaire à la création de listes"
   ]
  },
  {
   "cell_type": "raw",
   "id": "f723f2d8",
   "metadata": {},
   "source": [
    "On peut initialiser un dictionnaire en assignant des éléments initiaux : \n",
    "    \n",
    "    dico = {clé1 : valeur1, clé2 : valeur2, ..., clén : valeurn}"
   ]
  },
  {
   "cell_type": "code",
   "execution_count": 115,
   "id": "5acb4edc",
   "metadata": {},
   "outputs": [
    {
     "name": "stdout",
     "output_type": "stream",
     "text": [
      "{'Maths': 18, 'SVT': 15}\n"
     ]
    }
   ],
   "source": [
    "dico = { 'Maths' : 18 , 'SVT' : 15}\n",
    "print(dico)"
   ]
  },
  {
   "cell_type": "code",
   "execution_count": 116,
   "id": "ae70b7fe",
   "metadata": {},
   "outputs": [
    {
     "data": {
      "text/plain": [
       "18"
      ]
     },
     "execution_count": 116,
     "metadata": {},
     "output_type": "execute_result"
    }
   ],
   "source": [
    "dico[\"Maths\"]"
   ]
  },
  {
   "cell_type": "raw",
   "id": "3cc014c0",
   "metadata": {},
   "source": [
    "Un dictionnaire peut contenir n'importe quel objet en valeur :  "
   ]
  },
  {
   "cell_type": "code",
   "execution_count": 2,
   "id": "8277168b",
   "metadata": {},
   "outputs": [
    {
     "data": {
      "text/plain": [
       "{'Canidés': ['Loup', 'Dingo', {'Chien': ['Chihuahua', 'Fox Retriever']}],\n",
       " 'Chat': 'Persan'}"
      ]
     },
     "execution_count": 2,
     "metadata": {},
     "output_type": "execute_result"
    }
   ],
   "source": [
    "Dico_nature = {\"Canidés\" : [\"Loup\",\"Dingo\",{'Chien':[\"Chihuahua\",\"Fox Retriever\"]}],\n",
    "               \"Chat\": \"Persan\"}\n",
    "Dico_nature"
   ]
  },
  {
   "cell_type": "raw",
   "id": "ed737f92",
   "metadata": {},
   "source": [
    "Revenons sur le dictionnaire le plus simple : \n",
    "\n",
    "On accède à la valeur associée à une clé  via la syntaxe dico[clé]"
   ]
  },
  {
   "cell_type": "code",
   "execution_count": 131,
   "id": "e9f19b50",
   "metadata": {},
   "outputs": [],
   "source": [
    "dico = { 'Maths' : 18 , 'SVT' : 15}\n",
    "dico\n",
    "\n",
    "dictionnaire_eleve = {\"Jean\" : 12, \"Ivan\": 14, \"Fanny\": 14}"
   ]
  },
  {
   "cell_type": "code",
   "execution_count": 132,
   "id": "d20e1761",
   "metadata": {},
   "outputs": [
    {
     "data": {
      "text/plain": [
       "14"
      ]
     },
     "execution_count": 132,
     "metadata": {},
     "output_type": "execute_result"
    }
   ],
   "source": [
    "dictionnaire_eleve[\"Fanny\"]"
   ]
  },
  {
   "cell_type": "code",
   "execution_count": 167,
   "id": "1055e684",
   "metadata": {},
   "outputs": [
    {
     "data": {
      "text/plain": [
       "18"
      ]
     },
     "execution_count": 167,
     "metadata": {},
     "output_type": "execute_result"
    }
   ],
   "source": [
    "dico = { 'Maths' : 18 , 'SVT' : 15}\n",
    "\n",
    "dico['Maths']"
   ]
  },
  {
   "cell_type": "raw",
   "id": "f9063711",
   "metadata": {},
   "source": [
    "Sauf que cette méthode renvoie une erreur si la clé n'est pas présente dans le dictionnaire"
   ]
  },
  {
   "cell_type": "code",
   "execution_count": 168,
   "id": "4cd2bfc9",
   "metadata": {},
   "outputs": [
    {
     "ename": "KeyError",
     "evalue": "'Physique'",
     "output_type": "error",
     "traceback": [
      "\u001b[1;31m---------------------------------------------------------------------------\u001b[0m",
      "\u001b[1;31mKeyError\u001b[0m                                  Traceback (most recent call last)",
      "Cell \u001b[1;32mIn[168], line 1\u001b[0m\n\u001b[1;32m----> 1\u001b[0m \u001b[43mdico\u001b[49m\u001b[43m[\u001b[49m\u001b[38;5;124;43m'\u001b[39;49m\u001b[38;5;124;43mPhysique\u001b[39;49m\u001b[38;5;124;43m'\u001b[39;49m\u001b[43m]\u001b[49m\n",
      "\u001b[1;31mKeyError\u001b[0m: 'Physique'"
     ]
    }
   ],
   "source": [
    "dico['Physique']"
   ]
  },
  {
   "cell_type": "raw",
   "id": "67b0ded8",
   "metadata": {},
   "source": [
    "On ajoute un élément au dictionnaire en écrivant : dico[nouvelle_clé] = nouvelle_valeur\n",
    "\n",
    "Même méthode pour modifier la valeur d'une clé présente dans un dico dico[clé_presente] = nouvelle_valeur "
   ]
  },
  {
   "cell_type": "code",
   "execution_count": 172,
   "id": "e7e41b0e",
   "metadata": {},
   "outputs": [],
   "source": [
    "dico = {} # On a initialisé le dictionnaire"
   ]
  },
  {
   "cell_type": "code",
   "execution_count": 173,
   "id": "7665cf21",
   "metadata": {},
   "outputs": [
    {
     "data": {
      "text/plain": [
       "{'Physique': 1}"
      ]
     },
     "execution_count": 173,
     "metadata": {},
     "output_type": "execute_result"
    }
   ],
   "source": [
    "dico['Physique'] = 1\n",
    "dico"
   ]
  },
  {
   "cell_type": "code",
   "execution_count": 174,
   "id": "d66e16d9",
   "metadata": {},
   "outputs": [
    {
     "data": {
      "text/plain": [
       "{'Physique': 14}"
      ]
     },
     "execution_count": 174,
     "metadata": {},
     "output_type": "execute_result"
    }
   ],
   "source": [
    "dico['Physique'] = 14\n",
    "dico"
   ]
  },
  {
   "cell_type": "code",
   "execution_count": 175,
   "id": "91f3c6b1",
   "metadata": {},
   "outputs": [
    {
     "data": {
      "text/plain": [
       "{'Physique': 14, 'Maths': 12}"
      ]
     },
     "execution_count": 175,
     "metadata": {},
     "output_type": "execute_result"
    }
   ],
   "source": [
    "dico['Maths'] = 12\n",
    "dico"
   ]
  },
  {
   "cell_type": "raw",
   "id": "3628d32f",
   "metadata": {},
   "source": [
    "Pour éviter le message d'erreur plus haut, on peut utiliser la méthode .get(): \n",
    "\n",
    "dico.get(\"clé\",\"\") \n",
    "\n",
    "si la clé n'est pas présente, la valeur affichée est le deuxième élément renseigné dans la méthode"
   ]
  },
  {
   "cell_type": "code",
   "execution_count": 176,
   "id": "2ef8242b",
   "metadata": {},
   "outputs": [
    {
     "data": {
      "text/plain": [
       "12"
      ]
     },
     "execution_count": 176,
     "metadata": {},
     "output_type": "execute_result"
    }
   ],
   "source": [
    "dico.get(\"Maths\",\"\")"
   ]
  },
  {
   "cell_type": "code",
   "execution_count": 177,
   "id": "f71b32e5",
   "metadata": {},
   "outputs": [
    {
     "data": {
      "text/plain": [
       "''"
      ]
     },
     "execution_count": 177,
     "metadata": {},
     "output_type": "execute_result"
    }
   ],
   "source": [
    "dico.get(\"Français\",\"\")"
   ]
  },
  {
   "cell_type": "code",
   "execution_count": 84,
   "id": "034f25e7",
   "metadata": {
    "scrolled": true
   },
   "outputs": [
    {
     "name": "stdout",
     "output_type": "stream",
     "text": [
      "Help on class dict in module builtins:\n",
      "\n",
      "class dict(object)\n",
      " |  dict() -> new empty dictionary\n",
      " |  dict(mapping) -> new dictionary initialized from a mapping object's\n",
      " |      (key, value) pairs\n",
      " |  dict(iterable) -> new dictionary initialized as if via:\n",
      " |      d = {}\n",
      " |      for k, v in iterable:\n",
      " |          d[k] = v\n",
      " |  dict(**kwargs) -> new dictionary initialized with the name=value pairs\n",
      " |      in the keyword argument list.  For example:  dict(one=1, two=2)\n",
      " |  \n",
      " |  Methods defined here:\n",
      " |  \n",
      " |  __contains__(self, key, /)\n",
      " |      True if the dictionary has the specified key, else False.\n",
      " |  \n",
      " |  __delitem__(self, key, /)\n",
      " |      Delete self[key].\n",
      " |  \n",
      " |  __eq__(self, value, /)\n",
      " |      Return self==value.\n",
      " |  \n",
      " |  __ge__(self, value, /)\n",
      " |      Return self>=value.\n",
      " |  \n",
      " |  __getattribute__(self, name, /)\n",
      " |      Return getattr(self, name).\n",
      " |  \n",
      " |  __getitem__(...)\n",
      " |      x.__getitem__(y) <==> x[y]\n",
      " |  \n",
      " |  __gt__(self, value, /)\n",
      " |      Return self>value.\n",
      " |  \n",
      " |  __init__(self, /, *args, **kwargs)\n",
      " |      Initialize self.  See help(type(self)) for accurate signature.\n",
      " |  \n",
      " |  __iter__(self, /)\n",
      " |      Implement iter(self).\n",
      " |  \n",
      " |  __le__(self, value, /)\n",
      " |      Return self<=value.\n",
      " |  \n",
      " |  __len__(self, /)\n",
      " |      Return len(self).\n",
      " |  \n",
      " |  __lt__(self, value, /)\n",
      " |      Return self<value.\n",
      " |  \n",
      " |  __ne__(self, value, /)\n",
      " |      Return self!=value.\n",
      " |  \n",
      " |  __repr__(self, /)\n",
      " |      Return repr(self).\n",
      " |  \n",
      " |  __setitem__(self, key, value, /)\n",
      " |      Set self[key] to value.\n",
      " |  \n",
      " |  __sizeof__(...)\n",
      " |      D.__sizeof__() -> size of D in memory, in bytes\n",
      " |  \n",
      " |  clear(...)\n",
      " |      D.clear() -> None.  Remove all items from D.\n",
      " |  \n",
      " |  copy(...)\n",
      " |      D.copy() -> a shallow copy of D\n",
      " |  \n",
      " |  get(self, key, default=None, /)\n",
      " |      Return the value for key if key is in the dictionary, else default.\n",
      " |  \n",
      " |  items(...)\n",
      " |      D.items() -> a set-like object providing a view on D's items\n",
      " |  \n",
      " |  keys(...)\n",
      " |      D.keys() -> a set-like object providing a view on D's keys\n",
      " |  \n",
      " |  pop(...)\n",
      " |      D.pop(k[,d]) -> v, remove specified key and return the corresponding value.\n",
      " |      If key is not found, d is returned if given, otherwise KeyError is raised\n",
      " |  \n",
      " |  popitem(...)\n",
      " |      D.popitem() -> (k, v), remove and return some (key, value) pair as a\n",
      " |      2-tuple; but raise KeyError if D is empty.\n",
      " |  \n",
      " |  setdefault(self, key, default=None, /)\n",
      " |      Insert key with a value of default if key is not in the dictionary.\n",
      " |      \n",
      " |      Return the value for key if key is in the dictionary, else default.\n",
      " |  \n",
      " |  update(...)\n",
      " |      D.update([E, ]**F) -> None.  Update D from dict/iterable E and F.\n",
      " |      If E is present and has a .keys() method, then does:  for k in E: D[k] = E[k]\n",
      " |      If E is present and lacks a .keys() method, then does:  for k, v in E: D[k] = v\n",
      " |      In either case, this is followed by: for k in F:  D[k] = F[k]\n",
      " |  \n",
      " |  values(...)\n",
      " |      D.values() -> an object providing a view on D's values\n",
      " |  \n",
      " |  ----------------------------------------------------------------------\n",
      " |  Class methods defined here:\n",
      " |  \n",
      " |  fromkeys(iterable, value=None, /) from builtins.type\n",
      " |      Create a new dictionary with keys from iterable and values set to value.\n",
      " |  \n",
      " |  ----------------------------------------------------------------------\n",
      " |  Static methods defined here:\n",
      " |  \n",
      " |  __new__(*args, **kwargs) from builtins.type\n",
      " |      Create and return a new object.  See help(type) for accurate signature.\n",
      " |  \n",
      " |  ----------------------------------------------------------------------\n",
      " |  Data and other attributes defined here:\n",
      " |  \n",
      " |  __hash__ = None\n",
      "\n"
     ]
    }
   ],
   "source": [
    "help(dict)"
   ]
  },
  {
   "cell_type": "code",
   "execution_count": 178,
   "id": "bb0df49e",
   "metadata": {},
   "outputs": [
    {
     "name": "stdout",
     "output_type": "stream",
     "text": [
      "{'Canidés': ['Loup', 'Dingo', {'Chien': ['Chihuahua', 'Fox Retriever']}], 'Chat': ['Persan', 'Siamois']}\n"
     ]
    }
   ],
   "source": [
    "Dico_nature = {\"Canidés\" : [\"Loup\",\"Dingo\",{'Chien':[\"Chihuahua\",\"Fox Retriever\"]}],\n",
    "               \"Chat\": [\"Persan\",\"Siamois\"]}\n",
    "print(Dico_nature)"
   ]
  },
  {
   "cell_type": "raw",
   "id": "3b7ff7df",
   "metadata": {},
   "source": [
    "Supposons que l'on veuille accéder à l'ensemble des chiens inscrits dans le dictionnaire : \n",
    "\n",
    "(Ici on va décomposer le raisonnement) "
   ]
  },
  {
   "cell_type": "code",
   "execution_count": 114,
   "id": "a1e0fcab",
   "metadata": {},
   "outputs": [
    {
     "name": "stdout",
     "output_type": "stream",
     "text": [
      "['Loup', 'Dingo', {'Chien': ['Chihuahua', 'Fox Retriever']}]\n",
      "{'Chien': ['Chihuahua', 'Fox Retriever']}\n",
      "['Chihuahua', 'Fox Retriever']\n"
     ]
    }
   ],
   "source": [
    "L = Dico_nature['Canidés']\n",
    "print(L)\n",
    "Dico_chien = L[-1]\n",
    "print(Dico_chien)\n",
    "Chiens_inscrits = Dico_chien[\"Chien\"] \n",
    "print(Chiens_inscrits)"
   ]
  },
  {
   "cell_type": "code",
   "execution_count": 115,
   "id": "372c7547",
   "metadata": {},
   "outputs": [
    {
     "name": "stdout",
     "output_type": "stream",
     "text": [
      "['Loup', 'Dingo', {'Chien': ['Chihuahua', 'Fox Retriever']}]\n",
      "{'Chien': ['Chihuahua', 'Fox Retriever']}\n",
      "['Chihuahua', 'Fox Retriever']\n"
     ]
    }
   ],
   "source": [
    "L = Dico_nature['Canidés']\n",
    "print(L)\n",
    "\n",
    "for i in L:\n",
    "    if type(i) is dict:\n",
    "        if \"Chien\" in i.keys():\n",
    "            Dico_chien = i\n",
    "            \n",
    "#Dico_chien = L[-1]\n",
    "print(Dico_chien)\n",
    "Chiens_inscrits = Dico_chien[\"Chien\"] \n",
    "print(Chiens_inscrits)"
   ]
  },
  {
   "cell_type": "raw",
   "id": "49103417",
   "metadata": {},
   "source": [
    "Et en une ligne d'instruction : "
   ]
  },
  {
   "cell_type": "code",
   "execution_count": 116,
   "id": "2a43e39e",
   "metadata": {},
   "outputs": [
    {
     "name": "stdout",
     "output_type": "stream",
     "text": [
      "['Chihuahua', 'Fox Retriever']\n"
     ]
    }
   ],
   "source": [
    "Chiens_inscrits = Dico_nature['Canidés'][-1][\"Chien\"]\n",
    "print(Chiens_inscrits)"
   ]
  },
  {
   "cell_type": "raw",
   "id": "f3729f4c",
   "metadata": {},
   "source": [
    "Pour avoir accès à l'ensemble des clés dans un dictionnaire : "
   ]
  },
  {
   "cell_type": "code",
   "execution_count": 179,
   "id": "a3b08668",
   "metadata": {},
   "outputs": [
    {
     "data": {
      "text/plain": [
       "{'Physique': 14, 'Maths': 12}"
      ]
     },
     "execution_count": 179,
     "metadata": {},
     "output_type": "execute_result"
    }
   ],
   "source": [
    "dico"
   ]
  },
  {
   "cell_type": "code",
   "execution_count": 180,
   "id": "79330c27",
   "metadata": {},
   "outputs": [
    {
     "data": {
      "text/plain": [
       "dict_keys(['Physique', 'Maths'])"
      ]
     },
     "execution_count": 180,
     "metadata": {},
     "output_type": "execute_result"
    }
   ],
   "source": [
    "dico.keys()"
   ]
  },
  {
   "cell_type": "code",
   "execution_count": 181,
   "id": "55a4ac38",
   "metadata": {},
   "outputs": [
    {
     "data": {
      "text/plain": [
       "['Physique', 'Maths']"
      ]
     },
     "execution_count": 181,
     "metadata": {},
     "output_type": "execute_result"
    }
   ],
   "source": [
    "list(dico.keys()) #Pour avoir l'objet sous forme de liste"
   ]
  },
  {
   "cell_type": "raw",
   "id": "23caa9e3",
   "metadata": {},
   "source": [
    "Et l'ensemble des valeurs : "
   ]
  },
  {
   "cell_type": "code",
   "execution_count": 182,
   "id": "4beb6060",
   "metadata": {},
   "outputs": [
    {
     "data": {
      "text/plain": [
       "[14, 12]"
      ]
     },
     "execution_count": 182,
     "metadata": {},
     "output_type": "execute_result"
    }
   ],
   "source": [
    "list(dico.values())"
   ]
  },
  {
   "cell_type": "raw",
   "id": "f91574cc",
   "metadata": {},
   "source": [
    "L'ensemble des éléments : "
   ]
  },
  {
   "cell_type": "code",
   "execution_count": 122,
   "id": "99cc6e06",
   "metadata": {},
   "outputs": [
    {
     "data": {
      "text/plain": [
       "[('Maths', 12), ('SVT', 15), ('Physique', 8)]"
      ]
     },
     "execution_count": 122,
     "metadata": {},
     "output_type": "execute_result"
    }
   ],
   "source": [
    "list(dico.items())"
   ]
  },
  {
   "cell_type": "raw",
   "id": "27d1bcfb",
   "metadata": {},
   "source": [
    "Attention à l'assignation en mémoire des dictionnaires, il faut utiliser la méthode .copy pour assigner une copie d'un dictionnaire "
   ]
  },
  {
   "cell_type": "raw",
   "id": "cd6bf073",
   "metadata": {},
   "source": [
    "Par exemple : "
   ]
  },
  {
   "cell_type": "code",
   "execution_count": 183,
   "id": "2ab2e8f4",
   "metadata": {},
   "outputs": [
    {
     "data": {
      "text/plain": [
       "{'clé1': 2, 'clé2': 10}"
      ]
     },
     "execution_count": 183,
     "metadata": {},
     "output_type": "execute_result"
    }
   ],
   "source": [
    "dico = {\"clé1\" : 1,\"clé2\":10}\n",
    "dico2 = dico \n",
    "\n",
    "dico[\"clé1\"] = 2\n",
    "dico"
   ]
  },
  {
   "cell_type": "code",
   "execution_count": 184,
   "id": "11fb80e3",
   "metadata": {},
   "outputs": [
    {
     "name": "stdout",
     "output_type": "stream",
     "text": [
      "La valeur associée à la clé2 a aussi été modifiée !  {'clé1': 2, 'clé2': 10}\n"
     ]
    }
   ],
   "source": [
    "print(\"La valeur associée à la clé2 a aussi été modifiée ! \", dico2)"
   ]
  },
  {
   "cell_type": "raw",
   "id": "a8d0ca01",
   "metadata": {},
   "source": [
    "On utilise alors la méthode .copy()"
   ]
  },
  {
   "cell_type": "code",
   "execution_count": 186,
   "id": "834a6ef3",
   "metadata": {},
   "outputs": [
    {
     "data": {
      "text/plain": [
       "{'clé1': 2, 'clé2': 10}"
      ]
     },
     "execution_count": 186,
     "metadata": {},
     "output_type": "execute_result"
    }
   ],
   "source": [
    "dico = {\"clé1\" : 1,\"clé2\":10}\n",
    "dico2 = dico.copy() \n",
    "\n",
    "dico[\"clé1\"] = 2\n",
    "dico"
   ]
  },
  {
   "cell_type": "code",
   "execution_count": 187,
   "id": "a1340f5d",
   "metadata": {},
   "outputs": [
    {
     "data": {
      "text/plain": [
       "{'clé1': 1, 'clé2': 10}"
      ]
     },
     "execution_count": 187,
     "metadata": {},
     "output_type": "execute_result"
    }
   ],
   "source": [
    "dico2"
   ]
  },
  {
   "cell_type": "code",
   "execution_count": 22,
   "id": "b0585f72",
   "metadata": {},
   "outputs": [
    {
     "name": "stdout",
     "output_type": "stream",
     "text": [
      "Help on class dict in module builtins:\n",
      "\n",
      "class dict(object)\n",
      " |  dict() -> new empty dictionary\n",
      " |  dict(mapping) -> new dictionary initialized from a mapping object's\n",
      " |      (key, value) pairs\n",
      " |  dict(iterable) -> new dictionary initialized as if via:\n",
      " |      d = {}\n",
      " |      for k, v in iterable:\n",
      " |          d[k] = v\n",
      " |  dict(**kwargs) -> new dictionary initialized with the name=value pairs\n",
      " |      in the keyword argument list.  For example:  dict(one=1, two=2)\n",
      " |  \n",
      " |  Methods defined here:\n",
      " |  \n",
      " |  __contains__(self, key, /)\n",
      " |      True if the dictionary has the specified key, else False.\n",
      " |  \n",
      " |  __delitem__(self, key, /)\n",
      " |      Delete self[key].\n",
      " |  \n",
      " |  __eq__(self, value, /)\n",
      " |      Return self==value.\n",
      " |  \n",
      " |  __ge__(self, value, /)\n",
      " |      Return self>=value.\n",
      " |  \n",
      " |  __getattribute__(self, name, /)\n",
      " |      Return getattr(self, name).\n",
      " |  \n",
      " |  __getitem__(...)\n",
      " |      x.__getitem__(y) <==> x[y]\n",
      " |  \n",
      " |  __gt__(self, value, /)\n",
      " |      Return self>value.\n",
      " |  \n",
      " |  __init__(self, /, *args, **kwargs)\n",
      " |      Initialize self.  See help(type(self)) for accurate signature.\n",
      " |  \n",
      " |  __iter__(self, /)\n",
      " |      Implement iter(self).\n",
      " |  \n",
      " |  __le__(self, value, /)\n",
      " |      Return self<=value.\n",
      " |  \n",
      " |  __len__(self, /)\n",
      " |      Return len(self).\n",
      " |  \n",
      " |  __lt__(self, value, /)\n",
      " |      Return self<value.\n",
      " |  \n",
      " |  __ne__(self, value, /)\n",
      " |      Return self!=value.\n",
      " |  \n",
      " |  __repr__(self, /)\n",
      " |      Return repr(self).\n",
      " |  \n",
      " |  __setitem__(self, key, value, /)\n",
      " |      Set self[key] to value.\n",
      " |  \n",
      " |  __sizeof__(...)\n",
      " |      D.__sizeof__() -> size of D in memory, in bytes\n",
      " |  \n",
      " |  clear(...)\n",
      " |      D.clear() -> None.  Remove all items from D.\n",
      " |  \n",
      " |  copy(...)\n",
      " |      D.copy() -> a shallow copy of D\n",
      " |  \n",
      " |  get(self, key, default=None, /)\n",
      " |      Return the value for key if key is in the dictionary, else default.\n",
      " |  \n",
      " |  items(...)\n",
      " |      D.items() -> a set-like object providing a view on D's items\n",
      " |  \n",
      " |  keys(...)\n",
      " |      D.keys() -> a set-like object providing a view on D's keys\n",
      " |  \n",
      " |  pop(...)\n",
      " |      D.pop(k[,d]) -> v, remove specified key and return the corresponding value.\n",
      " |      If key is not found, d is returned if given, otherwise KeyError is raised\n",
      " |  \n",
      " |  popitem(...)\n",
      " |      D.popitem() -> (k, v), remove and return some (key, value) pair as a\n",
      " |      2-tuple; but raise KeyError if D is empty.\n",
      " |  \n",
      " |  setdefault(self, key, default=None, /)\n",
      " |      Insert key with a value of default if key is not in the dictionary.\n",
      " |      \n",
      " |      Return the value for key if key is in the dictionary, else default.\n",
      " |  \n",
      " |  update(...)\n",
      " |      D.update([E, ]**F) -> None.  Update D from dict/iterable E and F.\n",
      " |      If E is present and has a .keys() method, then does:  for k in E: D[k] = E[k]\n",
      " |      If E is present and lacks a .keys() method, then does:  for k, v in E: D[k] = v\n",
      " |      In either case, this is followed by: for k in F:  D[k] = F[k]\n",
      " |  \n",
      " |  values(...)\n",
      " |      D.values() -> an object providing a view on D's values\n",
      " |  \n",
      " |  ----------------------------------------------------------------------\n",
      " |  Class methods defined here:\n",
      " |  \n",
      " |  fromkeys(iterable, value=None, /) from builtins.type\n",
      " |      Create a new dictionary with keys from iterable and values set to value.\n",
      " |  \n",
      " |  ----------------------------------------------------------------------\n",
      " |  Static methods defined here:\n",
      " |  \n",
      " |  __new__(*args, **kwargs) from builtins.type\n",
      " |      Create and return a new object.  See help(type) for accurate signature.\n",
      " |  \n",
      " |  ----------------------------------------------------------------------\n",
      " |  Data and other attributes defined here:\n",
      " |  \n",
      " |  __hash__ = None\n",
      "\n"
     ]
    }
   ],
   "source": [
    "help(dict)"
   ]
  },
  {
   "attachments": {},
   "cell_type": "markdown",
   "id": "334952bf",
   "metadata": {},
   "source": [
    "## Instructions Conditionnelles et boucles : "
   ]
  },
  {
   "cell_type": "raw",
   "id": "c48804ae",
   "metadata": {},
   "source": [
    "if...else\n",
    "if...elif...elif...(etc...)...else"
   ]
  },
  {
   "cell_type": "code",
   "execution_count": 188,
   "id": "44040e51",
   "metadata": {},
   "outputs": [
    {
     "data": {
      "text/plain": [
       "55"
      ]
     },
     "execution_count": 188,
     "metadata": {},
     "output_type": "execute_result"
    }
   ],
   "source": [
    "x = random.randint(0,100)\n",
    "x"
   ]
  },
  {
   "cell_type": "raw",
   "id": "305df309",
   "metadata": {},
   "source": [
    "La syntaxe : \n",
    "    if (expression de la condition) :   !!!Ne pas oublier les deux points\n",
    "        (Opérations à effectuer)\n",
    "    else:\n",
    "        (Opérations à effectuer le cas échéant)"
   ]
  },
  {
   "cell_type": "code",
   "execution_count": 189,
   "id": "51fcd814",
   "metadata": {},
   "outputs": [
    {
     "name": "stdout",
     "output_type": "stream",
     "text": [
      "Supérieur à 30\n"
     ]
    }
   ],
   "source": [
    "if 0 < x < 30:\n",
    "    print(\"Inférieur à 30\")\n",
    "else:\n",
    "    print(\"Supérieur à 30\")"
   ]
  },
  {
   "cell_type": "code",
   "execution_count": 191,
   "id": "8257dc4b",
   "metadata": {},
   "outputs": [
    {
     "data": {
      "text/plain": [
       "5"
      ]
     },
     "execution_count": 191,
     "metadata": {},
     "output_type": "execute_result"
    }
   ],
   "source": [
    "x = random.randint(0,100)\n",
    "x"
   ]
  },
  {
   "cell_type": "code",
   "execution_count": 192,
   "id": "c9272e08",
   "metadata": {},
   "outputs": [
    {
     "name": "stdout",
     "output_type": "stream",
     "text": [
      "Inférieur à 30\n"
     ]
    }
   ],
   "source": [
    "if 0 < x < 30:\n",
    "    print(\"Inférieur à 30\")\n",
    "elif 30 <= x < 50:\n",
    "    print(\"Entre 30 et 50\")\n",
    "else: \n",
    "    print(\"Supérieur à 50\")"
   ]
  },
  {
   "cell_type": "raw",
   "id": "b2abf2e2",
   "metadata": {},
   "source": [
    "Mettre un else: sans if: à la même indentation renvoie un message d'erreur. "
   ]
  },
  {
   "cell_type": "raw",
   "id": "231b86c6",
   "metadata": {},
   "source": [
    "Supposons que l'on veuille écrire une fonction qui renvoie True si le nombre est pair, False sinon "
   ]
  },
  {
   "cell_type": "code",
   "execution_count": 193,
   "id": "4aff2b4c",
   "metadata": {},
   "outputs": [],
   "source": [
    "def parite(n):\n",
    "    if type(n) != int:\n",
    "        print(\"CE N'EST PAS UN ENTIER!\")\n",
    "        return False\n",
    "    else:\n",
    "        if n%2 == 0:\n",
    "            return True\n",
    "        else: \n",
    "            return False"
   ]
  },
  {
   "cell_type": "raw",
   "id": "35ae7e3c",
   "metadata": {},
   "source": [
    "On y reviendra mais ici la fonction a juste été définie"
   ]
  },
  {
   "cell_type": "code",
   "execution_count": 194,
   "id": "a5829570",
   "metadata": {},
   "outputs": [
    {
     "name": "stdout",
     "output_type": "stream",
     "text": [
      "CE N'EST PAS UN ENTIER!\n",
      "False\n",
      "CE N'EST PAS UN ENTIER!\n",
      "False\n"
     ]
    }
   ],
   "source": [
    "#On teste pour des éléments qui ne sont pas des entiers\n",
    "print(parite([1,2,3]))\n",
    "print(parite(23.4))"
   ]
  },
  {
   "cell_type": "code",
   "execution_count": 195,
   "id": "f039715b",
   "metadata": {},
   "outputs": [
    {
     "data": {
      "text/plain": [
       "True"
      ]
     },
     "execution_count": 195,
     "metadata": {},
     "output_type": "execute_result"
    }
   ],
   "source": [
    "parite(8)"
   ]
  },
  {
   "cell_type": "code",
   "execution_count": 196,
   "id": "10c2cf2e",
   "metadata": {},
   "outputs": [
    {
     "data": {
      "text/plain": [
       "False"
      ]
     },
     "execution_count": 196,
     "metadata": {},
     "output_type": "execute_result"
    }
   ],
   "source": [
    "parite(9)"
   ]
  },
  {
   "cell_type": "raw",
   "id": "2c3a318a",
   "metadata": {},
   "source": [
    "Supposons que l'on veuille écrire une fonction qui renvoie à un prenom un Groupe : \n",
    "    - le groupe A si la première lettre du prénom est avant la lettre E\n",
    "    - le groupe B si la première lettre du prénom est comprise en la lettre E et la lettre P\n",
    "    - le groupe C si la première lettre du prénom est après la lettre P  "
   ]
  },
  {
   "cell_type": "code",
   "execution_count": 134,
   "id": "6f5aa41a",
   "metadata": {},
   "outputs": [
    {
     "data": {
      "text/plain": [
       "False"
      ]
     },
     "execution_count": 134,
     "metadata": {},
     "output_type": "execute_result"
    }
   ],
   "source": [
    "\"A\" > \"Z\""
   ]
  },
  {
   "cell_type": "code",
   "execution_count": 135,
   "id": "43b1f28f",
   "metadata": {},
   "outputs": [
    {
     "data": {
      "text/plain": [
       "True"
      ]
     },
     "execution_count": 135,
     "metadata": {},
     "output_type": "execute_result"
    }
   ],
   "source": [
    "\"a\" > \"Z\""
   ]
  },
  {
   "attachments": {},
   "cell_type": "markdown",
   "id": "3d92b67b",
   "metadata": {},
   "source": [
    "##### Un mauvais exemple : "
   ]
  },
  {
   "cell_type": "code",
   "execution_count": 141,
   "id": "6f10644a",
   "metadata": {},
   "outputs": [],
   "source": [
    "def groupe_classe_mauvais(prenom):\n",
    "    prenom = prenom \n",
    "    if prenom[0] < \"E\":\n",
    "        return \"Groupe A\"\n",
    "    elif \"E\" <= prenom[0] < \"P\":\n",
    "        return \"Groupe B\"\n",
    "    else:\n",
    "        return \"Groupe C\""
   ]
  },
  {
   "cell_type": "code",
   "execution_count": 145,
   "id": "3a00a16b",
   "metadata": {},
   "outputs": [
    {
     "name": "stdout",
     "output_type": "stream",
     "text": [
      "Groupe C\n",
      "Groupe C\n"
     ]
    }
   ],
   "source": [
    "print(groupe_classe_mauvais(\"wassila\"))\n",
    "print(groupe_classe_mauvais('amelie'))"
   ]
  },
  {
   "cell_type": "code",
   "execution_count": 197,
   "id": "2a8a0d35",
   "metadata": {},
   "outputs": [],
   "source": [
    "def groupe_classe(prenom):\n",
    "    prenom = prenom.upper() #On met le prénom en majuscule pour que la comparaison ne soit pas faussée.\n",
    "    if prenom[0] < \"E\":\n",
    "        return \"Groupe A\"\n",
    "    elif \"E\" <= prenom[0] < \"P\":\n",
    "        return \"Groupe B\"\n",
    "    else:\n",
    "        return \"Groupe C\""
   ]
  },
  {
   "cell_type": "code",
   "execution_count": 201,
   "id": "9ff27242",
   "metadata": {},
   "outputs": [
    {
     "data": {
      "text/plain": [
       "'Groupe A'"
      ]
     },
     "execution_count": 201,
     "metadata": {},
     "output_type": "execute_result"
    }
   ],
   "source": [
    "groupe_classe('amelie')"
   ]
  },
  {
   "cell_type": "code",
   "execution_count": 202,
   "id": "4815f507",
   "metadata": {},
   "outputs": [
    {
     "data": {
      "text/plain": [
       "'Groupe B'"
      ]
     },
     "execution_count": 202,
     "metadata": {},
     "output_type": "execute_result"
    }
   ],
   "source": [
    "groupe_classe('Kevin')"
   ]
  },
  {
   "cell_type": "code",
   "execution_count": 203,
   "id": "e3268575",
   "metadata": {},
   "outputs": [
    {
     "data": {
      "text/plain": [
       "'Groupe C'"
      ]
     },
     "execution_count": 203,
     "metadata": {},
     "output_type": "execute_result"
    }
   ],
   "source": [
    "groupe_classe(\"wassila\")"
   ]
  },
  {
   "attachments": {},
   "cell_type": "markdown",
   "id": "0473c7da",
   "metadata": {},
   "source": [
    "#### La boucle for"
   ]
  },
  {
   "cell_type": "raw",
   "id": "2d9196f9",
   "metadata": {},
   "source": [
    "Très frequemment, on voudra itérer un ensemble d'instructions dans une boucle.\n",
    "Deux types de boucles sont disponibles sur Python : la boucle for et la boule while.\n",
    "\n",
    "\n",
    "La boucle for a pour syntaxe: \n",
    "\n",
    "for variable_d_iteration in iterable :   NE PAS OUBLIER LES DEUX POINTS !\n",
    "\n",
    "l'avantage de la boucle for : tant que l'on ne modifie pas l'itérable (liste, range, tuple etc...) dans la boucle, la boucle termine."
   ]
  },
  {
   "cell_type": "raw",
   "id": "36392565",
   "metadata": {},
   "source": [
    "l'objet range est un iterable qui permet de naviguer d'entiers en entiers avec un pas délimité"
   ]
  },
  {
   "cell_type": "code",
   "execution_count": 246,
   "id": "b69c4309",
   "metadata": {},
   "outputs": [
    {
     "name": "stdout",
     "output_type": "stream",
     "text": [
      "0\n",
      "1\n",
      "2\n",
      "3\n",
      "4\n"
     ]
    }
   ],
   "source": [
    "for i in range(0,5,1):\n",
    "    print(i)"
   ]
  },
  {
   "cell_type": "code",
   "execution_count": 204,
   "id": "2ada8d76",
   "metadata": {},
   "outputs": [
    {
     "name": "stdout",
     "output_type": "stream",
     "text": [
      "0\n",
      "1\n",
      "2\n",
      "3\n",
      "4\n",
      "5\n",
      "6\n",
      "7\n",
      "8\n",
      "9\n"
     ]
    }
   ],
   "source": [
    "for i in range(0,10,1):\n",
    "    print(i)"
   ]
  },
  {
   "cell_type": "code",
   "execution_count": 206,
   "id": "77f547ff",
   "metadata": {},
   "outputs": [
    {
     "name": "stdout",
     "output_type": "stream",
     "text": [
      "0\n",
      "2\n",
      "4\n",
      "6\n",
      "8\n"
     ]
    }
   ],
   "source": [
    "for i in range(0,10,2):\n",
    "    print(i)"
   ]
  },
  {
   "cell_type": "raw",
   "id": "7300cbd4",
   "metadata": {},
   "source": [
    "for i in range(0,n):             # parcourt tous les entiers de 0 à n-1 inclus\n",
    "for i in range(n,0,-1):          # parcourt tous les entiers de n à 1 inclus\n",
    "                                  #                  dans le sens décroissant\n",
    "for i in range(2,1000,3):        # parcourt tous les entiers de 2 à 1000 de 3 en 3\n",
    "                                  #                                     (2,5,8,...)\n",
    "for e in li:                     # parcourt tous les éléments de la liste li\n",
    "for cle,valeur in di.items():    # parcourt tous les éléments du dictionnaire di"
   ]
  },
  {
   "cell_type": "code",
   "execution_count": 209,
   "id": "dca39867",
   "metadata": {},
   "outputs": [
    {
     "name": "stdout",
     "output_type": "stream",
     "text": [
      "a\n",
      "b\n",
      "c\n",
      "d\n"
     ]
    }
   ],
   "source": [
    "Liste = [\"a\",\"b\",\"c\",\"d\"]\n",
    "\n",
    "for e in Liste:\n",
    "    print(e)"
   ]
  },
  {
   "cell_type": "raw",
   "id": "c383f66a",
   "metadata": {},
   "source": [
    "Un exemple : on souhaite à partir d'une liste d'entier, créer une nouvelle liste dans laquelle chacun des éléments de la première liste est additionné à 1"
   ]
  },
  {
   "cell_type": "code",
   "execution_count": 210,
   "id": "0096d398",
   "metadata": {},
   "outputs": [
    {
     "data": {
      "text/plain": [
       "[1, 2, 5, 8]"
      ]
     },
     "execution_count": 210,
     "metadata": {},
     "output_type": "execute_result"
    }
   ],
   "source": [
    "L = [0,1,4,7]\n",
    "Liste_calcul = []\n",
    "for i in L:\n",
    "    Liste_calcul.append(i+1)\n",
    "        \n",
    "Liste_calcul "
   ]
  },
  {
   "cell_type": "raw",
   "id": "083a5636",
   "metadata": {},
   "source": [
    "Si l'on souhaite afficher chaque élément et son indice dans une liste: (Deux manières de faire)"
   ]
  },
  {
   "cell_type": "raw",
   "id": "cfb070ee",
   "metadata": {},
   "source": [
    "En initialisant un compteur (incrémenté à chaque étape de la boucle \"compteur += 1\") et en traversant les élements de la liste: "
   ]
  },
  {
   "cell_type": "code",
   "execution_count": 23,
   "id": "28fd60e6",
   "metadata": {},
   "outputs": [
    {
     "name": "stdout",
     "output_type": "stream",
     "text": [
      "element 0 valeur 0\n",
      "element 1 valeur 1\n",
      "element 2 valeur 2\n",
      "element 3 valeur 3\n",
      "element 4 valeur 4\n",
      "element 5 valeur F\n"
     ]
    }
   ],
   "source": [
    "compteur = 0 \n",
    "L = [0,1,2,3,4,\"F\"]\n",
    "for i in L: \n",
    "    print(\"element\",compteur,\"valeur\",i)\n",
    "    compteur +=1 # compteur = compteur + 1"
   ]
  },
  {
   "cell_type": "raw",
   "id": "4df4510f",
   "metadata": {},
   "source": [
    "Ou en créant une boucle qui itère sur des entiers de 0 à la taille de la liste - 1 et en affichant le i-ème élément de la liste"
   ]
  },
  {
   "cell_type": "code",
   "execution_count": 211,
   "id": "a993579c",
   "metadata": {},
   "outputs": [
    {
     "name": "stdout",
     "output_type": "stream",
     "text": [
      "element 0 valeur 0\n",
      "element 1 valeur 1\n",
      "element 2 valeur 2\n",
      "element 3 valeur 3\n",
      "element 4 valeur 4\n",
      "element 5 valeur F\n"
     ]
    }
   ],
   "source": [
    "L = [0,1,2,3,4,\"F\"]\n",
    "for i in range(0,len(L)): \n",
    "    print(\"element\",i,\"valeur\",L[i])"
   ]
  },
  {
   "cell_type": "raw",
   "id": "6150881f",
   "metadata": {},
   "source": [
    "Pour la position, on peut utiliser la fonction enumerate :"
   ]
  },
  {
   "cell_type": "code",
   "execution_count": 212,
   "id": "6b786fd4",
   "metadata": {},
   "outputs": [
    {
     "name": "stdout",
     "output_type": "stream",
     "text": [
      "[(0, 5), (1, 3), (2, 5), (3, 7), (4, 'F')]\n"
     ]
    }
   ],
   "source": [
    "l = [ 5, 3, 5, 7,\"F\"]\n",
    "print(list(enumerate(l)))"
   ]
  },
  {
   "cell_type": "code",
   "execution_count": 151,
   "id": "cee19c4e",
   "metadata": {},
   "outputs": [
    {
     "name": "stdout",
     "output_type": "stream",
     "text": [
      "L'élément à la position 0 est 5\n",
      "L'élément à la position 1 est 3\n",
      "L'élément à la position 2 est 5\n",
      "L'élément à la position 3 est 7\n",
      "L'élément à la position 4 est F\n"
     ]
    }
   ],
   "source": [
    "for i,v in enumerate(l) :\n",
    "    text = \"L'élément à la position {position:n} est {element}\" \n",
    "    print (text.format(position =i,element = v))"
   ]
  },
  {
   "cell_type": "raw",
   "id": "fb82bbcf",
   "metadata": {},
   "source": [
    "#Si l'on modifie l'iterable dans la boucle, on peut avoir une boucle for sans fin.\n",
    "\n",
    "L = [0]\n",
    "for i in L: \n",
    "    L.append(0)"
   ]
  },
  {
   "cell_type": "raw",
   "id": "5bcbbc39",
   "metadata": {},
   "source": [
    "On peut utiliser la boucle for à l'intérieur d'une liste pour la définir (Pour condenser l'écriture et permettre une meilleure lecture du code par exemple)"
   ]
  },
  {
   "cell_type": "raw",
   "id": "47a8edee",
   "metadata": {},
   "source": [
    "Si l'on veut par exemple renvoyer une liste dont tous les éléments correspondent aux carrés d'une liste d'entiers : "
   ]
  },
  {
   "cell_type": "code",
   "execution_count": 155,
   "id": "d923b7ba",
   "metadata": {},
   "outputs": [
    {
     "data": {
      "text/plain": [
       "[0, 1, 4, 9, 16]"
      ]
     },
     "execution_count": 155,
     "metadata": {},
     "output_type": "execute_result"
    }
   ],
   "source": [
    "L = [0,1,2,3,4]\n",
    "Carre = [x**2 for x in L]\n",
    "Carre"
   ]
  },
  {
   "cell_type": "code",
   "execution_count": 213,
   "id": "5caef93d",
   "metadata": {},
   "outputs": [
    {
     "data": {
      "text/plain": [
       "[0, 1, 4, 9, 16]"
      ]
     },
     "execution_count": 213,
     "metadata": {},
     "output_type": "execute_result"
    }
   ],
   "source": [
    "L = [0,1,2,3,4]\n",
    "\n",
    "Carre = []\n",
    "for x in L:\n",
    "    Carre.append(x**2)\n",
    "    \n",
    "Carre"
   ]
  },
  {
   "cell_type": "code",
   "execution_count": 214,
   "id": "b68695aa",
   "metadata": {},
   "outputs": [
    {
     "data": {
      "text/plain": [
       "[0, 4, 16]"
      ]
     },
     "execution_count": 214,
     "metadata": {},
     "output_type": "execute_result"
    }
   ],
   "source": [
    "Carre_pair = [x**2 for x in L if x%2 == 0] #on peut rajouter des conditions\n",
    "Carre_pair"
   ]
  },
  {
   "cell_type": "code",
   "execution_count": 215,
   "id": "43163956",
   "metadata": {},
   "outputs": [
    {
     "data": {
      "text/plain": [
       "[0, 4, 16]"
      ]
     },
     "execution_count": 215,
     "metadata": {},
     "output_type": "execute_result"
    }
   ],
   "source": [
    "L = [0,1,2,3,4]\n",
    "\n",
    "Carre_pair = []\n",
    "for x in L:\n",
    "    if x%2 == 0:\n",
    "        Carre_pair.append(x**2)\n",
    "    \n",
    "Carre_pair"
   ]
  },
  {
   "attachments": {},
   "cell_type": "markdown",
   "id": "966adcaf",
   "metadata": {},
   "source": [
    "#### La boucle while:"
   ]
  },
  {
   "cell_type": "raw",
   "id": "36c46bf7",
   "metadata": {},
   "source": [
    "La boucle while est une boucle qui itère tant qu'une condition est atteinte. \n",
    "\n",
    "Sa syntaxe : \n",
    "    \n",
    "    while (condition_de_maintient_dans_la_boucle):\n",
    "        (traitement en question)"
   ]
  },
  {
   "cell_type": "raw",
   "id": "441a8bc3",
   "metadata": {},
   "source": [
    "Il faut faire attention ici à ce que la boucle puisse terminer. \n",
    "Dans un code qui enchaine les boucles while (à ne pas faire en pratique), un code qui ne finit pas peut-être dû à une erreur de boucle ! "
   ]
  },
  {
   "cell_type": "code",
   "execution_count": 216,
   "id": "a128caa1",
   "metadata": {},
   "outputs": [
    {
     "name": "stdout",
     "output_type": "stream",
     "text": [
      "1\n",
      "2\n",
      "3\n",
      "4\n",
      "5\n",
      "6\n",
      "7\n",
      "8\n",
      "9\n",
      "10\n"
     ]
    }
   ],
   "source": [
    "i = 0\n",
    "while i < 10: \n",
    "    i = i + 1\n",
    "    print(i)"
   ]
  },
  {
   "cell_type": "raw",
   "id": "275b0b7b",
   "metadata": {},
   "source": [
    "Les conditions d'arrêt :"
   ]
  },
  {
   "cell_type": "code",
   "execution_count": 217,
   "id": "326a17e0",
   "metadata": {},
   "outputs": [
    {
     "name": "stdout",
     "output_type": "stream",
     "text": [
      "0\n",
      "1\n",
      "3\n",
      "4\n",
      "5\n",
      "6\n",
      "7\n",
      "8\n",
      "9\n"
     ]
    }
   ],
   "source": [
    "for i in range (0, 10) :\n",
    "    if i == 2 :\n",
    "        continue           # on passe directement au suivant\n",
    "    print (i)"
   ]
  },
  {
   "cell_type": "code",
   "execution_count": 218,
   "id": "72834a64",
   "metadata": {},
   "outputs": [
    {
     "name": "stdout",
     "output_type": "stream",
     "text": [
      "0\n",
      "1\n",
      "3\n",
      "4\n",
      "5\n"
     ]
    }
   ],
   "source": [
    "for i in range (0, 10) :\n",
    "    if i == 2 :\n",
    "        continue           # on passe directement au suivant\n",
    "    if i > 5 :\n",
    "        break # interruption définitive\n",
    "    print (i)"
   ]
  },
  {
   "attachments": {},
   "cell_type": "markdown",
   "id": "8c3843d1",
   "metadata": {},
   "source": [
    "## Les Fonctions"
   ]
  },
  {
   "cell_type": "raw",
   "id": "23f12b39",
   "metadata": {},
   "source": [
    "De manière simple : \n",
    "    \n",
    "    def nom_de_la_fonction(var1,var2,...):  !Ne pas oublier les deux points\n",
    "        Instructions\n",
    "        return resultats                       (Une fonction n'as pas forcément besoin de return pour fonctionner.)"
   ]
  },
  {
   "cell_type": "code",
   "execution_count": 219,
   "id": "66f24c34",
   "metadata": {},
   "outputs": [],
   "source": [
    "def fonction_particulière(x,y):\n",
    "    c = random.randint(1,11)      #c est une VARIABLE LOCALE ! C'est à dire qu'elle n'est définie que pour cette fonction\n",
    "    if c%2 == 0:\n",
    "        return 10*x+y\n",
    "    else: \n",
    "        return y-x"
   ]
  },
  {
   "cell_type": "code",
   "execution_count": 221,
   "id": "724d2f96",
   "metadata": {},
   "outputs": [
    {
     "data": {
      "text/plain": [
       "129"
      ]
     },
     "execution_count": 221,
     "metadata": {},
     "output_type": "execute_result"
    }
   ],
   "source": [
    "fonction_particulière(12,9)"
   ]
  },
  {
   "cell_type": "raw",
   "id": "c6d5bf5c",
   "metadata": {},
   "source": [
    "On peut assigner des valeurs de variables par défaut : "
   ]
  },
  {
   "cell_type": "code",
   "execution_count": 224,
   "id": "b893f9ac",
   "metadata": {},
   "outputs": [],
   "source": [
    "def exemple_fonction (p1, p2 = 4, p3 = 7) :\n",
    "    r1,r2,r3 = p1,p2*10,p3*100\n",
    "    return r1, r2,r3"
   ]
  },
  {
   "cell_type": "code",
   "execution_count": 225,
   "id": "cf6ed9be",
   "metadata": {},
   "outputs": [
    {
     "data": {
      "text/plain": [
       "(12, 40, 700)"
      ]
     },
     "execution_count": 225,
     "metadata": {},
     "output_type": "execute_result"
    }
   ],
   "source": [
    "exemple_fonction(12)"
   ]
  },
  {
   "cell_type": "code",
   "execution_count": 226,
   "id": "d70299ff",
   "metadata": {},
   "outputs": [
    {
     "data": {
      "text/plain": [
       "(12, 70, 700)"
      ]
     },
     "execution_count": 226,
     "metadata": {},
     "output_type": "execute_result"
    }
   ],
   "source": [
    "exemple_fonction(12,7)"
   ]
  },
  {
   "cell_type": "code",
   "execution_count": 227,
   "id": "41935cb6",
   "metadata": {},
   "outputs": [
    {
     "data": {
      "text/plain": [
       "(12, 70, 1.0)"
      ]
     },
     "execution_count": 227,
     "metadata": {},
     "output_type": "execute_result"
    }
   ],
   "source": [
    "exemple_fonction(12,7,0.01)"
   ]
  },
  {
   "cell_type": "raw",
   "id": "d83b8fea",
   "metadata": {},
   "source": [
    "Qui doivent être placés à la fin de la définition de la fonction : "
   ]
  },
  {
   "cell_type": "code",
   "execution_count": 185,
   "id": "3e3cda7f",
   "metadata": {},
   "outputs": [
    {
     "ename": "SyntaxError",
     "evalue": "non-default argument follows default argument (1107168976.py, line 1)",
     "output_type": "error",
     "traceback": [
      "\u001b[1;36m  File \u001b[1;32m\"C:\\Users\\bouss\\AppData\\Local\\Temp\\ipykernel_41564\\1107168976.py\"\u001b[1;36m, line \u001b[1;32m1\u001b[0m\n\u001b[1;33m    def exemple_fonction (p1, p2 = 4, p3 ) : #ERREUR CAR Les paramètres par défaut doivent tous être mis en fin de déclaration!\u001b[0m\n\u001b[1;37m                         ^\u001b[0m\n\u001b[1;31mSyntaxError\u001b[0m\u001b[1;31m:\u001b[0m non-default argument follows default argument\n"
     ]
    }
   ],
   "source": [
    "def exemple_fonction (p1, p2 = 4, p3 ) : #ERREUR CAR Les paramètres par défaut doivent tous être mis en fin de déclaration!\n",
    "    r1,r2 = p1+p2+p3,p1*p2*p3\n",
    "    return r1, r2"
   ]
  },
  {
   "cell_type": "code",
   "execution_count": 228,
   "id": "f32abbf5",
   "metadata": {},
   "outputs": [],
   "source": [
    "def exemple_fonction (p1, p2 = 4, p3 = 7) : #ERREUR CAR Les paramètres par défaut doivent tous être mis en fin de déclaration!\n",
    "    r1,r2 = p1+p2+p3,p1*p2*p3\n",
    "    return r1, r2"
   ]
  },
  {
   "cell_type": "code",
   "execution_count": 230,
   "id": "3075e479",
   "metadata": {},
   "outputs": [
    {
     "data": {
      "text/plain": [
       "(14, 84)"
      ]
     },
     "execution_count": 230,
     "metadata": {},
     "output_type": "execute_result"
    }
   ],
   "source": [
    "exemple_fonction(3) # Sous-entendu p1 = 3, p2 = 4, p3=7"
   ]
  },
  {
   "cell_type": "code",
   "execution_count": 231,
   "id": "db0352a3",
   "metadata": {},
   "outputs": [
    {
     "data": {
      "text/plain": [
       "(15, 105)"
      ]
     },
     "execution_count": 231,
     "metadata": {},
     "output_type": "execute_result"
    }
   ],
   "source": [
    "exemple_fonction(3,5,7) # Sous-entendu p1 = 3, p2 = 5, p3=7"
   ]
  },
  {
   "cell_type": "raw",
   "id": "19dd3499",
   "metadata": {},
   "source": [
    "La récursivité dans les fonctions : "
   ]
  },
  {
   "cell_type": "raw",
   "id": "42205422",
   "metadata": {},
   "source": [
    "On peut à l'intérieur d'une fonction faire appel à la même fonction pour itérer le résultat, par exemple : "
   ]
  },
  {
   "cell_type": "raw",
   "id": "d4af3f63",
   "metadata": {},
   "source": [
    "On définit une suite ainsi:"
   ]
  },
  {
   "attachments": {},
   "cell_type": "markdown",
   "id": "a01fdb33",
   "metadata": {},
   "source": [
    "Soit $u_{n} = f(u_{n-1}) - 2$ avec $u_o = 0$ et $f(x) = 2*x^2$"
   ]
  },
  {
   "cell_type": "raw",
   "id": "7ec9f1f0",
   "metadata": {},
   "source": [
    "Pour calculer un élément n, on a donc besoin de calculer chacun des éléments précédents, on va donc définir une fonction par récursivité : "
   ]
  },
  {
   "cell_type": "code",
   "execution_count": 216,
   "id": "b59c9c87",
   "metadata": {},
   "outputs": [],
   "source": [
    "def f(x):\n",
    "    return 2*(x**2)\n",
    "\n",
    "def u(n : int) -> int:\n",
    "    n = int(n)\n",
    "    if n < 0:\n",
    "        print(\"Entier naturel svp...\")\n",
    "        return 0 #C'est un choix d'output 0\n",
    "    if n == 0:\n",
    "        return 0\n",
    "    else: \n",
    "        return f(u(n-1)) - 2 #la récursivité se fait ici \n",
    "    "
   ]
  },
  {
   "cell_type": "raw",
   "id": "32235efb",
   "metadata": {},
   "source": [
    "En détail : le programme veut return une valeur mais celle-ci lui demande toujours de recalculer une autre valeur intermédiaire avant de return."
   ]
  },
  {
   "cell_type": "raw",
   "id": "9a734669",
   "metadata": {},
   "source": [
    "Attention cependant, si l'on définit une fonction par récursivité, il faut bien vérifier que la récursivité s'arrête. \n",
    "\n",
    "ici, puisque l'on appelle u(n-1), on sait que l'entier va atteindre à un moment donné 0 et donc que la fonction va atteindre 0 dont on connait la valeur. "
   ]
  },
  {
   "cell_type": "code",
   "execution_count": 217,
   "id": "bc7d8c3b",
   "metadata": {},
   "outputs": [
    {
     "data": {
      "text/plain": [
       "-2"
      ]
     },
     "execution_count": 217,
     "metadata": {},
     "output_type": "execute_result"
    }
   ],
   "source": [
    "u(1) #On peut vérifier par le calcul que u_2 vaut bien 6"
   ]
  },
  {
   "attachments": {},
   "cell_type": "markdown",
   "id": "0e9d79f9",
   "metadata": {},
   "source": [
    "## L'utilisation des librairies"
   ]
  },
  {
   "attachments": {},
   "cell_type": "markdown",
   "id": "6a775d01",
   "metadata": {},
   "source": [
    "Les librairies officiels : https://docs.python.org/3.10/library/index.html"
   ]
  },
  {
   "attachments": {},
   "cell_type": "markdown",
   "id": "cd9cb749",
   "metadata": {},
   "source": [
    "### Installer une libriairie :"
   ]
  },
  {
   "attachments": {},
   "cell_type": "markdown",
   "id": "9d640bc1",
   "metadata": {},
   "source": [
    "Depuis le terminal : \"pip install nom_de_la_librairie\" \n",
    "\n",
    "**Mais il faut toujours regarder la documentation pour s'assurer de la commande à effectuer !**\n",
    "   \n",
    "   Exemple pour pouvoir éxécuter la commande 'import cv2' il faut lancer **Depuis le terminal** \"pip install opencv-python\"\n",
    "   \n",
    "   \n",
    "Depuis le notebook : \"!pip install nom_de_la_librairie\"\n",
    "\n",
    "Avec les mêmes précautions qu'au dessus "
   ]
  },
  {
   "cell_type": "raw",
   "id": "3c676a19",
   "metadata": {},
   "source": [
    "Syntaxe : \n",
    "    \n",
    "    si l'on souhaite importer toute la librairie : import nom_de_la_librairie\n",
    "    si l'on souhaite importer uniquement certaines méthodes d'une librairie : \n",
    "        from nom_de_la_librairie import nom_de_la_methode1, nom_de_la_methode2\n",
    "    Pour tout importer: \n",
    "        from nom_de_la_librairie import *\n",
    "        \n",
    "       (Il faut les avoir installée au préalable, via pip install par exemple)"
   ]
  },
  {
   "cell_type": "code",
   "execution_count": 232,
   "id": "c7a92879",
   "metadata": {},
   "outputs": [],
   "source": [
    "import random"
   ]
  },
  {
   "cell_type": "code",
   "execution_count": 233,
   "id": "cfa57685",
   "metadata": {},
   "outputs": [
    {
     "data": {
      "text/plain": [
       "10"
      ]
     },
     "execution_count": 233,
     "metadata": {},
     "output_type": "execute_result"
    }
   ],
   "source": [
    "random.randint(0,10) #on doit faire appel au nom de la librairie pour utiliser une des méthodes"
   ]
  },
  {
   "cell_type": "code",
   "execution_count": 234,
   "id": "863ba552",
   "metadata": {},
   "outputs": [],
   "source": [
    "from random import randint "
   ]
  },
  {
   "cell_type": "code",
   "execution_count": 235,
   "id": "39ebb999",
   "metadata": {},
   "outputs": [
    {
     "data": {
      "text/plain": [
       "1"
      ]
     },
     "execution_count": 235,
     "metadata": {},
     "output_type": "execute_result"
    }
   ],
   "source": [
    "randint(0,10) #Ce n'est plus nécessaire"
   ]
  },
  {
   "attachments": {},
   "cell_type": "markdown",
   "id": "0bd4cdd2",
   "metadata": {},
   "source": [
    "## Lecture de fichiers "
   ]
  },
  {
   "cell_type": "code",
   "execution_count": 236,
   "id": "69ceb804",
   "metadata": {},
   "outputs": [],
   "source": [
    "file = open('file_path.txt', 'w') #mode write, écris de 0\n",
    "file.write('hello world !')\n",
    "file.close()"
   ]
  },
  {
   "cell_type": "code",
   "execution_count": 237,
   "id": "3c864845",
   "metadata": {},
   "outputs": [
    {
     "data": {
      "text/plain": [
       "'hello world !'"
      ]
     },
     "execution_count": 237,
     "metadata": {},
     "output_type": "execute_result"
    }
   ],
   "source": [
    "with open('file_path.txt', 'r') as file:\n",
    "    data = file.read()\n",
    "    \n",
    "data"
   ]
  },
  {
   "cell_type": "code",
   "execution_count": 238,
   "id": "8a6ba137",
   "metadata": {},
   "outputs": [],
   "source": [
    "file = open('file_path.txt', 'w') #mode write, écris de 0\n",
    "file.write('Comment ça va?')\n",
    "file.close()"
   ]
  },
  {
   "cell_type": "code",
   "execution_count": 239,
   "id": "1e4025e9",
   "metadata": {},
   "outputs": [
    {
     "data": {
      "text/plain": [
       "'Comment ça va?'"
      ]
     },
     "execution_count": 239,
     "metadata": {},
     "output_type": "execute_result"
    }
   ],
   "source": [
    "with open('file_path.txt', 'r') as file:\n",
    "    data = file.read()\n",
    "    \n",
    "data"
   ]
  },
  {
   "cell_type": "code",
   "execution_count": 240,
   "id": "f524cff5",
   "metadata": {},
   "outputs": [],
   "source": [
    "file = open('file_path.txt', 'a')  #mode append \n",
    "try:\n",
    "    file.write('\\n')\n",
    "    file.write('\\t')\n",
    "    file.write('Je vais bien et toi?')\n",
    "finally:\n",
    "    file.close()"
   ]
  },
  {
   "cell_type": "raw",
   "id": "b197c6ea",
   "metadata": {},
   "source": [
    "Quand on ouvre un fichier il faut penser à le fermer en utilisant la méthode close()"
   ]
  },
  {
   "cell_type": "code",
   "execution_count": 241,
   "id": "4983e7af",
   "metadata": {},
   "outputs": [
    {
     "name": "stdout",
     "output_type": "stream",
     "text": [
      "Comment ça va?\n",
      "\tJe vais bien et toi?\n"
     ]
    }
   ],
   "source": [
    "with open('file_path.txt', 'r') as file:\n",
    "    data = file.read()\n",
    "    \n",
    "print(data)"
   ]
  },
  {
   "cell_type": "raw",
   "id": "8584f326",
   "metadata": {},
   "source": [
    "with open contient l'instruction close"
   ]
  },
  {
   "attachments": {},
   "cell_type": "markdown",
   "id": "7afc2cb7",
   "metadata": {},
   "source": [
    "# Exercices : "
   ]
  },
  {
   "attachments": {},
   "cell_type": "markdown",
   "id": "6a1e2703",
   "metadata": {},
   "source": [
    "Programme qui calcule la somme des éléments d'une liste"
   ]
  },
  {
   "attachments": {},
   "cell_type": "markdown",
   "id": "13beb2e8",
   "metadata": {},
   "source": [
    "Ecrire un programme qui calcule la somme des 10 premiers entiers au carré."
   ]
  },
  {
   "attachments": {},
   "cell_type": "markdown",
   "id": "73268b18",
   "metadata": {},
   "source": [
    "Ecrire une fonction qui calcule la somme des (n premiers entiers impairs au carré)."
   ]
  },
  {
   "attachments": {},
   "cell_type": "markdown",
   "id": "6dfc84d3",
   "metadata": {},
   "source": [
    "Définir une liste avec les entiers de 1 à 10 aléatoirement placés dans la liste, puis effectuez les actions suivantes :\n",
    "(l'usage de la librairie, random (random.sample) est la meilleure solution )\n",
    "\n",
    "– triez et affichez la liste  (help pour voir)\n",
    "\n",
    "\n",
    "– ajoutez l’élément 11 à la liste et affichez la liste\n",
    "\n",
    "\n",
    "– renversez et affichez la liste\n",
    "\n",
    "\n",
    "– affichez l’indice de l’élément 7 ( mettre des conditions en place s'il n'y est pas)\n",
    "\n",
    "\n",
    "– enlevez l’élément 9 et affichez la liste ( mettre des conditions en place s'il n'y est pas)\n",
    "\n",
    "\n",
    "– affichez la sous-liste du 2e au 3e élément\n",
    "\n",
    "\n",
    "– affichez la sous-liste du début au 2e élément\n",
    "\n",
    "\n",
    "– affichez la sous-liste du 3e élément à la fin de la liste "
   ]
  },
  {
   "cell_type": "code",
   "execution_count": 144,
   "id": "8c8ee127",
   "metadata": {},
   "outputs": [
    {
     "name": "stdout",
     "output_type": "stream",
     "text": [
      "Help on class list in module builtins:\n",
      "\n",
      "class list(object)\n",
      " |  list(iterable=(), /)\n",
      " |  \n",
      " |  Built-in mutable sequence.\n",
      " |  \n",
      " |  If no argument is given, the constructor creates a new empty list.\n",
      " |  The argument must be an iterable if specified.\n",
      " |  \n",
      " |  Methods defined here:\n",
      " |  \n",
      " |  __add__(self, value, /)\n",
      " |      Return self+value.\n",
      " |  \n",
      " |  __contains__(self, key, /)\n",
      " |      Return key in self.\n",
      " |  \n",
      " |  __delitem__(self, key, /)\n",
      " |      Delete self[key].\n",
      " |  \n",
      " |  __eq__(self, value, /)\n",
      " |      Return self==value.\n",
      " |  \n",
      " |  __ge__(self, value, /)\n",
      " |      Return self>=value.\n",
      " |  \n",
      " |  __getattribute__(self, name, /)\n",
      " |      Return getattr(self, name).\n",
      " |  \n",
      " |  __getitem__(...)\n",
      " |      x.__getitem__(y) <==> x[y]\n",
      " |  \n",
      " |  __gt__(self, value, /)\n",
      " |      Return self>value.\n",
      " |  \n",
      " |  __iadd__(self, value, /)\n",
      " |      Implement self+=value.\n",
      " |  \n",
      " |  __imul__(self, value, /)\n",
      " |      Implement self*=value.\n",
      " |  \n",
      " |  __init__(self, /, *args, **kwargs)\n",
      " |      Initialize self.  See help(type(self)) for accurate signature.\n",
      " |  \n",
      " |  __iter__(self, /)\n",
      " |      Implement iter(self).\n",
      " |  \n",
      " |  __le__(self, value, /)\n",
      " |      Return self<=value.\n",
      " |  \n",
      " |  __len__(self, /)\n",
      " |      Return len(self).\n",
      " |  \n",
      " |  __lt__(self, value, /)\n",
      " |      Return self<value.\n",
      " |  \n",
      " |  __mul__(self, value, /)\n",
      " |      Return self*value.\n",
      " |  \n",
      " |  __ne__(self, value, /)\n",
      " |      Return self!=value.\n",
      " |  \n",
      " |  __repr__(self, /)\n",
      " |      Return repr(self).\n",
      " |  \n",
      " |  __reversed__(self, /)\n",
      " |      Return a reverse iterator over the list.\n",
      " |  \n",
      " |  __rmul__(self, value, /)\n",
      " |      Return value*self.\n",
      " |  \n",
      " |  __setitem__(self, key, value, /)\n",
      " |      Set self[key] to value.\n",
      " |  \n",
      " |  __sizeof__(self, /)\n",
      " |      Return the size of the list in memory, in bytes.\n",
      " |  \n",
      " |  append(self, object, /)\n",
      " |      Append object to the end of the list.\n",
      " |  \n",
      " |  clear(self, /)\n",
      " |      Remove all items from list.\n",
      " |  \n",
      " |  copy(self, /)\n",
      " |      Return a shallow copy of the list.\n",
      " |  \n",
      " |  count(self, value, /)\n",
      " |      Return number of occurrences of value.\n",
      " |  \n",
      " |  extend(self, iterable, /)\n",
      " |      Extend list by appending elements from the iterable.\n",
      " |  \n",
      " |  index(self, value, start=0, stop=9223372036854775807, /)\n",
      " |      Return first index of value.\n",
      " |      \n",
      " |      Raises ValueError if the value is not present.\n",
      " |  \n",
      " |  insert(self, index, object, /)\n",
      " |      Insert object before index.\n",
      " |  \n",
      " |  pop(self, index=-1, /)\n",
      " |      Remove and return item at index (default last).\n",
      " |      \n",
      " |      Raises IndexError if list is empty or index is out of range.\n",
      " |  \n",
      " |  remove(self, value, /)\n",
      " |      Remove first occurrence of value.\n",
      " |      \n",
      " |      Raises ValueError if the value is not present.\n",
      " |  \n",
      " |  reverse(self, /)\n",
      " |      Reverse *IN PLACE*.\n",
      " |  \n",
      " |  sort(self, /, *, key=None, reverse=False)\n",
      " |      Sort the list in ascending order and return None.\n",
      " |      \n",
      " |      The sort is in-place (i.e. the list itself is modified) and stable (i.e. the\n",
      " |      order of two equal elements is maintained).\n",
      " |      \n",
      " |      If a key function is given, apply it once to each list item and sort them,\n",
      " |      ascending or descending, according to their function values.\n",
      " |      \n",
      " |      The reverse flag can be set to sort in descending order.\n",
      " |  \n",
      " |  ----------------------------------------------------------------------\n",
      " |  Class methods defined here:\n",
      " |  \n",
      " |  __class_getitem__(...) from builtins.type\n",
      " |      See PEP 585\n",
      " |  \n",
      " |  ----------------------------------------------------------------------\n",
      " |  Static methods defined here:\n",
      " |  \n",
      " |  __new__(*args, **kwargs) from builtins.type\n",
      " |      Create and return a new object.  See help(type) for accurate signature.\n",
      " |  \n",
      " |  ----------------------------------------------------------------------\n",
      " |  Data and other attributes defined here:\n",
      " |  \n",
      " |  __hash__ = None\n",
      "\n"
     ]
    }
   ],
   "source": [
    "help(list)"
   ]
  },
  {
   "attachments": {},
   "cell_type": "markdown",
   "id": "954c38bb",
   "metadata": {},
   "source": [
    "##### Exercices dictionnaire\n",
    "\n",
    "Construire le dictionnaire des 6 premiers mois de l’année avec comme valeurs le nombre de jours respectif.\n",
    "\n",
    " - Renvoyer la liste des mois.\n",
    " \n",
    " \n",
    "- Renvoyer la liste des jours.\n",
    "\n",
    "\n",
    "- Ajoutez la clé du mois de Juillet ?"
   ]
  },
  {
   "attachments": {},
   "cell_type": "markdown",
   "id": "57812a38",
   "metadata": {},
   "source": [
    "### Exercice Lecture de Fichiers\n",
    "\n",
    "On prend un texte. \n",
    "\n",
    "\n",
    "Lire le fichier et afficher le dictionnaire qui à chaque lettre associe la proportion de mots commenant par cette première lettre dans le texte."
   ]
  },
  {
   "attachments": {},
   "cell_type": "markdown",
   "id": "d784c921",
   "metadata": {},
   "source": [
    "Ecrire un programme qui à partir d'un corpus de trois textes renvoie les deux textes qui ont le plus de mots en communs. \n",
    "\n"
   ]
  },
  {
   "cell_type": "raw",
   "id": "e5e1c1d1",
   "metadata": {},
   "source": [
    "(Pour aller encore plus loin on peut chercher les deux textes les plus similaires en regardant la distance de Lehvenstein, mais c'est juste à titre indicatif ce n'est pas un exercice.)"
   ]
  },
  {
   "attachments": {},
   "cell_type": "markdown",
   "id": "3db73a01",
   "metadata": {},
   "source": [
    "### Autres Exercices"
   ]
  },
  {
   "attachments": {},
   "cell_type": "markdown",
   "id": "20869f86",
   "metadata": {},
   "source": [
    "Recherche dichotomique."
   ]
  },
  {
   "attachments": {},
   "cell_type": "markdown",
   "id": "a5ef8042",
   "metadata": {},
   "source": [
    "On définit un jeu dans lequel un participant peut gravir des escaliers ou bien marche par marche\n",
    "ou alors par 2 marches.\n",
    "\n",
    "Définir un programme qui pour une marche donnée renvoie le nombre de chemins possibles qu'un participants a emprunté."
   ]
  }
 ],
 "metadata": {
  "kernelspec": {
   "display_name": "Python 3 (ipykernel)",
   "language": "python",
   "name": "python3"
  },
  "language_info": {
   "codemirror_mode": {
    "name": "ipython",
    "version": 3
   },
   "file_extension": ".py",
   "mimetype": "text/x-python",
   "name": "python",
   "nbconvert_exporter": "python",
   "pygments_lexer": "ipython3",
   "version": "3.10.11"
  }
 },
 "nbformat": 4,
 "nbformat_minor": 5
}

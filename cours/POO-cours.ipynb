{
 "cells": [
  {
   "attachments": {},
   "cell_type": "markdown",
   "id": "0a63dd02",
   "metadata": {},
   "source": [
    "# Programmation orientée objet : \n",
    "\n",
    "#### (et autres éléments...)"
   ]
  },
  {
   "cell_type": "code",
   "execution_count": 1,
   "id": "384dceca",
   "metadata": {},
   "outputs": [],
   "source": [
    "import random"
   ]
  },
  {
   "attachments": {},
   "cell_type": "markdown",
   "id": "bdc88b1f",
   "metadata": {},
   "source": [
    "#### Généralisation avec des variables optionnelles : "
   ]
  },
  {
   "cell_type": "raw",
   "id": "9ab26289",
   "metadata": {},
   "source": [
    "Avant de parler de la programmation orientée objet :  \n",
    "On peut améliorer, la rédaction de ses fonctions en élargissant ses entrées possibles"
   ]
  },
  {
   "cell_type": "raw",
   "id": "dc983265",
   "metadata": {},
   "source": [
    "On a vu dans le premier cours comment définir une fonction et l'appeler par la suite."
   ]
  },
  {
   "cell_type": "code",
   "execution_count": 2,
   "id": "abeccf3c",
   "metadata": {},
   "outputs": [],
   "source": [
    "def conversion_capteur(a):\n",
    "    pass #on aura rien en retour mais la fonction est définie.\n",
    "\n",
    "#Une fonction qui ne fait rien mais qui existe."
   ]
  },
  {
   "cell_type": "code",
   "execution_count": 3,
   "id": "515d8b80",
   "metadata": {},
   "outputs": [],
   "source": [
    "def fonction1(a):\n",
    "    return a\n",
    "\n",
    "# Une fonction qui ne fait que return son seul argument. "
   ]
  },
  {
   "cell_type": "code",
   "execution_count": 4,
   "id": "da4837a3",
   "metadata": {},
   "outputs": [
    {
     "data": {
      "text/plain": [
       "10"
      ]
     },
     "execution_count": 4,
     "metadata": {},
     "output_type": "execute_result"
    }
   ],
   "source": [
    "fonction1(10)"
   ]
  },
  {
   "cell_type": "raw",
   "id": "11f44921",
   "metadata": {},
   "source": [
    "L'une des contraintes liées à cette fonction est d'avoir un nombre restreint d'arguments."
   ]
  },
  {
   "cell_type": "code",
   "execution_count": 7,
   "id": "69589204",
   "metadata": {},
   "outputs": [],
   "source": [
    "def fonction1(a,b):\n",
    "    c = a+b\n",
    "    return c\n",
    "\n",
    "#ou alors\n",
    "\n",
    "def fonction1(a,b):\n",
    "    return a+b"
   ]
  },
  {
   "cell_type": "code",
   "execution_count": 8,
   "id": "aee878df",
   "metadata": {},
   "outputs": [
    {
     "data": {
      "text/plain": [
       "3"
      ]
     },
     "execution_count": 8,
     "metadata": {},
     "output_type": "execute_result"
    }
   ],
   "source": [
    "fonction1(1,2)"
   ]
  },
  {
   "cell_type": "code",
   "execution_count": 9,
   "id": "2251fd2b",
   "metadata": {},
   "outputs": [
    {
     "ename": "TypeError",
     "evalue": "fonction1() missing 1 required positional argument: 'b'",
     "output_type": "error",
     "traceback": [
      "\u001b[1;31m---------------------------------------------------------------------------\u001b[0m",
      "\u001b[1;31mTypeError\u001b[0m                                 Traceback (most recent call last)",
      "Cell \u001b[1;32mIn[9], line 1\u001b[0m\n\u001b[1;32m----> 1\u001b[0m \u001b[43mfonction1\u001b[49m\u001b[43m(\u001b[49m\u001b[38;5;241;43m1\u001b[39;49m\u001b[43m)\u001b[49m\n",
      "\u001b[1;31mTypeError\u001b[0m: fonction1() missing 1 required positional argument: 'b'"
     ]
    }
   ],
   "source": [
    "fonction1(1)"
   ]
  },
  {
   "cell_type": "code",
   "execution_count": 10,
   "id": "644688ea",
   "metadata": {},
   "outputs": [
    {
     "ename": "TypeError",
     "evalue": "fonction1() takes 2 positional arguments but 3 were given",
     "output_type": "error",
     "traceback": [
      "\u001b[1;31m---------------------------------------------------------------------------\u001b[0m",
      "\u001b[1;31mTypeError\u001b[0m                                 Traceback (most recent call last)",
      "Cell \u001b[1;32mIn[10], line 1\u001b[0m\n\u001b[1;32m----> 1\u001b[0m \u001b[43mfonction1\u001b[49m\u001b[43m(\u001b[49m\u001b[38;5;241;43m1\u001b[39;49m\u001b[43m,\u001b[49m\u001b[38;5;241;43m2\u001b[39;49m\u001b[43m,\u001b[49m\u001b[38;5;241;43m2\u001b[39;49m\u001b[43m)\u001b[49m\n",
      "\u001b[1;31mTypeError\u001b[0m: fonction1() takes 2 positional arguments but 3 were given"
     ]
    }
   ],
   "source": [
    "fonction1(1,2,2)"
   ]
  },
  {
   "cell_type": "raw",
   "id": "81cc4b16",
   "metadata": {},
   "source": [
    "Une erreur s'affichera donc si l'on en entre plus, ou moins (à moins de préciser des variables par défauts)"
   ]
  },
  {
   "cell_type": "code",
   "execution_count": 22,
   "id": "0e58bcc0",
   "metadata": {},
   "outputs": [],
   "source": [
    "# fonction1(3) Erreur ! "
   ]
  },
  {
   "cell_type": "code",
   "execution_count": 12,
   "id": "abcde13e",
   "metadata": {},
   "outputs": [],
   "source": [
    "def fonction1(a,b=0):\n",
    "    c = a+b\n",
    "    return c"
   ]
  },
  {
   "cell_type": "code",
   "execution_count": 13,
   "id": "538290ac",
   "metadata": {},
   "outputs": [
    {
     "data": {
      "text/plain": [
       "3"
      ]
     },
     "execution_count": 13,
     "metadata": {},
     "output_type": "execute_result"
    }
   ],
   "source": [
    "fonction1(3)"
   ]
  },
  {
   "cell_type": "code",
   "execution_count": 14,
   "id": "2949fd2f",
   "metadata": {},
   "outputs": [
    {
     "data": {
      "text/plain": [
       "4"
      ]
     },
     "execution_count": 14,
     "metadata": {},
     "output_type": "execute_result"
    }
   ],
   "source": [
    "fonction1(3,1)"
   ]
  },
  {
   "cell_type": "raw",
   "id": "fae76763",
   "metadata": {},
   "source": [
    "Maintenant, il se peut que l'on veuille généraliser les variables de nos fonctions. \n",
    "Python, permet de le faire de deux façons, que l'on a, en fait, déjà rencontrés.  "
   ]
  },
  {
   "cell_type": "raw",
   "id": "3df207b0",
   "metadata": {},
   "source": [
    "Syntaxe :\n",
    "\n",
    "    def nom_fonction(a,b,c,d,e=1,f=10,*args,**kwargs):\n",
    "        pass"
   ]
  },
  {
   "cell_type": "code",
   "execution_count": 77,
   "id": "d1cebdca",
   "metadata": {},
   "outputs": [],
   "source": [
    "def fonction1(*a):\n",
    "    return a"
   ]
  },
  {
   "cell_type": "code",
   "execution_count": 78,
   "id": "8adde3d4",
   "metadata": {},
   "outputs": [
    {
     "data": {
      "text/plain": [
       "('le chat', 'le tigre', 'bonjour', 'bonsoir', 'Bonne année !')"
      ]
     },
     "execution_count": 78,
     "metadata": {},
     "output_type": "execute_result"
    }
   ],
   "source": [
    "fonction1(\"le chat\",\"le tigre\",'bonjour',\"bonsoir\",\"Bonne année !\")"
   ]
  },
  {
   "cell_type": "code",
   "execution_count": 75,
   "id": "f38d17ab",
   "metadata": {},
   "outputs": [
    {
     "data": {
      "text/plain": [
       "(1,)"
      ]
     },
     "execution_count": 75,
     "metadata": {},
     "output_type": "execute_result"
    }
   ],
   "source": [
    "fonction1(1)"
   ]
  },
  {
   "cell_type": "code",
   "execution_count": 76,
   "id": "844b81ea",
   "metadata": {},
   "outputs": [
    {
     "data": {
      "text/plain": [
       "()"
      ]
     },
     "execution_count": 76,
     "metadata": {},
     "output_type": "execute_result"
    }
   ],
   "source": [
    "fonction1()"
   ]
  },
  {
   "attachments": {},
   "cell_type": "markdown",
   "id": "a80417f0",
   "metadata": {},
   "source": [
    "On n'est donc plus limité mais il faut adapter les fonctions en prenant en compte ces paramètres.\n",
    "On peut aussi avoir l'équivalent des variables nommées, sous formes de dictionnaires, en utilisant **.\n",
    "\n",
    "En revanche, * se place avant **. "
   ]
  },
  {
   "cell_type": "code",
   "execution_count": 20,
   "id": "4f4d8af0",
   "metadata": {},
   "outputs": [],
   "source": [
    "def fonction3(**a):\n",
    "    return a            "
   ]
  },
  {
   "cell_type": "code",
   "execution_count": 21,
   "id": "9a783a54",
   "metadata": {},
   "outputs": [
    {
     "data": {
      "text/plain": [
       "{'var_1': 10, 'var_2': 15, 'var_3': 13, 'var_4': 4}"
      ]
     },
     "execution_count": 21,
     "metadata": {},
     "output_type": "execute_result"
    }
   ],
   "source": [
    "fonction3(var_1 = 10,var_2 = 15,var_3 = 13,var_4 = 4)"
   ]
  },
  {
   "cell_type": "code",
   "execution_count": 22,
   "id": "4d634f09",
   "metadata": {},
   "outputs": [],
   "source": [
    "def fonction3(msg,*args,**kwargs):\n",
    "    print(msg)\n",
    "    print(args)\n",
    "    print(kwargs)\n",
    "    \n",
    "#Attention, cette fonction ne retourne rien ! "
   ]
  },
  {
   "cell_type": "code",
   "execution_count": 23,
   "id": "1ed6602f",
   "metadata": {},
   "outputs": [
    {
     "name": "stdout",
     "output_type": "stream",
     "text": [
      "bonjour\n",
      "(1, 2, 3)\n",
      "{'one': 1, 'two': 2, 'three': 3, 'four': 4}\n"
     ]
    }
   ],
   "source": [
    "fonction3(\"bonjour\",1,2,3,one = 1,two = 2,three = 3,four = 4)"
   ]
  },
  {
   "cell_type": "raw",
   "id": "b0d338d0",
   "metadata": {},
   "source": [
    "Il faut par contre adapter l'ecriture de la fonction pour avoir le résultat voulu"
   ]
  },
  {
   "cell_type": "code",
   "execution_count": 1,
   "id": "e8521b25",
   "metadata": {},
   "outputs": [],
   "source": [
    "def somme_fonction_list(liste): \n",
    "    somme = sum(liste)\n",
    "    return somme\n",
    " \n",
    "def somme_fonction_list_2(*a):\n",
    "    somme = sum(a)\n",
    "    return somme"
   ]
  },
  {
   "cell_type": "code",
   "execution_count": 31,
   "id": "0389a53a",
   "metadata": {},
   "outputs": [
    {
     "data": {
      "text/plain": [
       "10"
      ]
     },
     "execution_count": 31,
     "metadata": {},
     "output_type": "execute_result"
    }
   ],
   "source": [
    "somme_fonction_list([1,2,3,4])"
   ]
  },
  {
   "cell_type": "code",
   "execution_count": 30,
   "id": "103a26f8",
   "metadata": {},
   "outputs": [
    {
     "data": {
      "text/plain": [
       "10"
      ]
     },
     "execution_count": 30,
     "metadata": {},
     "output_type": "execute_result"
    }
   ],
   "source": [
    "somme_fonction_list_2(1,2,3,4)"
   ]
  },
  {
   "cell_type": "code",
   "execution_count": 32,
   "id": "ed7228a7",
   "metadata": {},
   "outputs": [],
   "source": [
    "def somme_fonction_list(liste,*liste_bonus): \n",
    "    liste +=liste_bonus\n",
    "    print(liste)\n",
    "    somme = sum(liste)\n",
    "    return somme"
   ]
  },
  {
   "cell_type": "code",
   "execution_count": 33,
   "id": "beb68e94",
   "metadata": {},
   "outputs": [
    {
     "name": "stdout",
     "output_type": "stream",
     "text": [
      "[1, 2, 3, 4]\n"
     ]
    },
    {
     "data": {
      "text/plain": [
       "10"
      ]
     },
     "execution_count": 33,
     "metadata": {},
     "output_type": "execute_result"
    }
   ],
   "source": [
    "somme_fonction_list([1,2],3,4)"
   ]
  },
  {
   "cell_type": "code",
   "execution_count": 35,
   "id": "563fa0d9",
   "metadata": {},
   "outputs": [
    {
     "data": {
      "text/plain": [
       "0"
      ]
     },
     "execution_count": 35,
     "metadata": {},
     "output_type": "execute_result"
    }
   ],
   "source": [
    "somme_fonction_list_2()"
   ]
  },
  {
   "cell_type": "code",
   "execution_count": 46,
   "id": "de941dad",
   "metadata": {},
   "outputs": [],
   "source": [
    "def somme_fonction_list(*a):\n",
    "    somme = sum(a)\n",
    "    return somme\n",
    "\n",
    "def somme_fonction_dict(**a):\n",
    "    somme = sum(a.values())\n",
    "    return somme"
   ]
  },
  {
   "cell_type": "code",
   "execution_count": 47,
   "id": "92d14837",
   "metadata": {},
   "outputs": [
    {
     "data": {
      "text/plain": [
       "10"
      ]
     },
     "execution_count": 47,
     "metadata": {},
     "output_type": "execute_result"
    }
   ],
   "source": [
    "somme_fonction_list(1,2,3,4)"
   ]
  },
  {
   "cell_type": "code",
   "execution_count": 45,
   "id": "8b59e3ff",
   "metadata": {},
   "outputs": [
    {
     "name": "stdout",
     "output_type": "stream",
     "text": [
      "ok\n"
     ]
    },
    {
     "data": {
      "text/plain": [
       "10"
      ]
     },
     "execution_count": 45,
     "metadata": {},
     "output_type": "execute_result"
    }
   ],
   "source": [
    "somme_fonction_dict(a = 1,b = 2,c = 3,d = 4)"
   ]
  },
  {
   "cell_type": "code",
   "execution_count": 50,
   "id": "bd201488",
   "metadata": {},
   "outputs": [],
   "source": [
    "#On peut se servir des noms des arguments pour ajouter des conditions:\n",
    "\n",
    "def somme_fonction_dict(**dico_somme):\n",
    "    if \"a\" in dico_somme.keys():\n",
    "        somme = sum(dico_somme.values())\n",
    "        return somme\n",
    "    else:\n",
    "        return 0"
   ]
  },
  {
   "cell_type": "code",
   "execution_count": 51,
   "id": "93c199f8",
   "metadata": {},
   "outputs": [
    {
     "data": {
      "text/plain": [
       "10"
      ]
     },
     "execution_count": 51,
     "metadata": {},
     "output_type": "execute_result"
    }
   ],
   "source": [
    "somme_fonction_dict(a = 1,b = 2,c = 3,d = 4)"
   ]
  },
  {
   "cell_type": "code",
   "execution_count": 52,
   "id": "415038a4",
   "metadata": {},
   "outputs": [
    {
     "data": {
      "text/plain": [
       "0"
      ]
     },
     "execution_count": 52,
     "metadata": {},
     "output_type": "execute_result"
    }
   ],
   "source": [
    "somme_fonction_dict(a1 = 1,b = 2,c = 3,d = 4) #ici il n'y a plus de a mais a1 à la place donc la fonction renvoie 0"
   ]
  },
  {
   "cell_type": "raw",
   "id": "98dc3f29",
   "metadata": {},
   "source": [
    "Et on peut donc généraliser l'écriture d'une fonction f(a,b,c,d,*args,name = 12, **kwargs)"
   ]
  },
  {
   "cell_type": "raw",
   "id": "dbdb0bff",
   "metadata": {},
   "source": [
    "Exercices : \n",
    "    \n",
    "    On part du code de comparaison de corpus. (Entre trois textes)\n",
    "    Généralisez le code pour un nombre indéterminé de variables, donc de textes.\n",
    "    \n",
    "    La fonction doit renvoyer les deux textes (parmi les n entrées) qui sont le plus similaires."
   ]
  },
  {
   "cell_type": "code",
   "execution_count": 56,
   "id": "ab788e8d",
   "metadata": {},
   "outputs": [],
   "source": [
    "#Solution"
   ]
  },
  {
   "cell_type": "code",
   "execution_count": 1,
   "id": "0aa9eb64",
   "metadata": {},
   "outputs": [],
   "source": [
    "# l'objet set()"
   ]
  },
  {
   "attachments": {},
   "cell_type": "markdown",
   "id": "a90469b5",
   "metadata": {},
   "source": [
    "### Aparté sur la programmation dynamique:"
   ]
  },
  {
   "attachments": {},
   "cell_type": "markdown",
   "id": "a962bdc7",
   "metadata": {},
   "source": [
    "Pour parler de Programmation orienté objet sur Python, on va parler des classes:\n",
    "    \n",
    "La syntaxe: \n",
    "\n",
    "class Nom_de_la_classe:\n",
    "    #contenu ou corps de la classe"
   ]
  },
  {
   "cell_type": "code",
   "execution_count": 88,
   "id": "e39e5a48",
   "metadata": {},
   "outputs": [],
   "source": [
    "class Voiture:\n",
    "    pass"
   ]
  },
  {
   "cell_type": "code",
   "execution_count": 89,
   "id": "0c0bcf9c",
   "metadata": {},
   "outputs": [],
   "source": [
    "clio = Voiture()"
   ]
  },
  {
   "cell_type": "code",
   "execution_count": 90,
   "id": "4f02f4fb",
   "metadata": {},
   "outputs": [
    {
     "data": {
      "text/plain": [
       "True"
      ]
     },
     "execution_count": 90,
     "metadata": {},
     "output_type": "execute_result"
    }
   ],
   "source": [
    "isinstance(clio,Voiture)"
   ]
  },
  {
   "attachments": {},
   "cell_type": "markdown",
   "id": "fbeed96c",
   "metadata": {},
   "source": [
    "### __  __ en Python  ou Dunder Method\n"
   ]
  },
  {
   "cell_type": "code",
   "execution_count": 95,
   "id": "1ec438fe",
   "metadata": {},
   "outputs": [],
   "source": [
    "class Voiture:\n",
    "    def __init__(self,portes = 5,places = 5): #initialisation de notre classe.\n",
    "        print(\"initialisation...\")\n",
    "        self.portes = portes\n",
    "        self.places =  places"
   ]
  },
  {
   "cell_type": "code",
   "execution_count": 97,
   "id": "562e5daf",
   "metadata": {},
   "outputs": [
    {
     "name": "stdout",
     "output_type": "stream",
     "text": [
      "initialisation...\n"
     ]
    }
   ],
   "source": [
    "clio = Voiture()"
   ]
  },
  {
   "cell_type": "code",
   "execution_count": 98,
   "id": "46d5371f",
   "metadata": {},
   "outputs": [
    {
     "data": {
      "text/plain": [
       "5"
      ]
     },
     "execution_count": 98,
     "metadata": {},
     "output_type": "execute_result"
    }
   ],
   "source": [
    "clio.portes #ici self vaut clio "
   ]
  },
  {
   "cell_type": "code",
   "execution_count": 99,
   "id": "99c8dc87",
   "metadata": {},
   "outputs": [
    {
     "name": "stdout",
     "output_type": "stream",
     "text": [
      "initialisation...\n"
     ]
    }
   ],
   "source": [
    "porsche = Voiture(3,2)"
   ]
  },
  {
   "cell_type": "code",
   "execution_count": 100,
   "id": "d940c595",
   "metadata": {},
   "outputs": [
    {
     "data": {
      "text/plain": [
       "(3, 2)"
      ]
     },
     "execution_count": 100,
     "metadata": {},
     "output_type": "execute_result"
    }
   ],
   "source": [
    "porsche.portes,porsche.places"
   ]
  },
  {
   "cell_type": "raw",
   "id": "707d466b",
   "metadata": {},
   "source": [
    "On définira toute nos méthodes de classes comme des fonctions, à l'exception près du \"self\" qui indique que l'on se réfère à l'instance de l'objet en lui-même"
   ]
  },
  {
   "cell_type": "raw",
   "id": "ac29604e",
   "metadata": {},
   "source": [
    "La classe est définie ! Mais pour l'instant son rôle est restreint...On a défini un objet Voiture."
   ]
  },
  {
   "cell_type": "code",
   "execution_count": 101,
   "id": "f22e94ae",
   "metadata": {},
   "outputs": [
    {
     "name": "stdout",
     "output_type": "stream",
     "text": [
      "initialisation...\n"
     ]
    }
   ],
   "source": [
    "Smart = Voiture(3,2)"
   ]
  },
  {
   "cell_type": "raw",
   "id": "e2e3597a",
   "metadata": {},
   "source": [
    "On a pour l'instant deux instances d'une même classe. Cette classe a deux ATTRIBUTS, nombre_portes et nombre_places"
   ]
  },
  {
   "cell_type": "raw",
   "id": "f646dcf2",
   "metadata": {},
   "source": [
    "Un des avantages : "
   ]
  },
  {
   "cell_type": "code",
   "execution_count": 102,
   "id": "8d123f48",
   "metadata": {},
   "outputs": [
    {
     "data": {
      "text/plain": [
       "3"
      ]
     },
     "execution_count": 102,
     "metadata": {},
     "output_type": "execute_result"
    }
   ],
   "source": [
    "Smart.portes"
   ]
  },
  {
   "cell_type": "code",
   "execution_count": 103,
   "id": "31366b0b",
   "metadata": {},
   "outputs": [
    {
     "data": {
      "text/plain": [
       "{'portes': 3, 'places': 2}"
      ]
     },
     "execution_count": 103,
     "metadata": {},
     "output_type": "execute_result"
    }
   ],
   "source": [
    "Smart.__dict__"
   ]
  },
  {
   "cell_type": "raw",
   "id": "b7682a34",
   "metadata": {},
   "source": [
    "Pleins d'opérateurs sont d'emblée dispo sur Python, ici on a vu __init__, mais pour une liste plus complète : "
   ]
  },
  {
   "attachments": {},
   "cell_type": "markdown",
   "id": "d4fcfed4",
   "metadata": {},
   "source": [
    "https://docs.python.org/3.4/reference/datamodel.html#emulating-numeric-types"
   ]
  },
  {
   "attachments": {},
   "cell_type": "markdown",
   "id": "cb62b539",
   "metadata": {},
   "source": [
    "https://docs.python.org/3.4/reference/datamodel.html#emulating-container-types"
   ]
  },
  {
   "cell_type": "code",
   "execution_count": 275,
   "id": "fdf8f5da",
   "metadata": {},
   "outputs": [],
   "source": [
    "class Vecteur():\n",
    "    def __init__(self,x,y):\n",
    "        self.x = x\n",
    "        self.y = y\n",
    "        \n",
    "    def __str__(self):\n",
    "        return \"{x} i + {y} j\".format(x= self.x,y = self.y)\n",
    "        \n",
    "    def __repr__(self):\n",
    "        #return str(self) #si on veut que l'afficahe brut et le print soit le même\n",
    "        return \"Vecteur : {x}, {y}\".format(x = self.x, y = self.y)\n",
    "    \n",
    "    def __add__(self,vecteurs2):\n",
    "        return Vecteur(self.x + vecteurs2.x ,self.y + vecteurs2.y)\n",
    "    \n",
    "    def __sub__(self,vecteurs2):\n",
    "        return Vecteur(self.x - vecteurs2.x ,self.y - vecteurs2.y)\n",
    "    def __eq__(self,vecteurs2):\n",
    "        return (self.x == vecteurs2.x and self.y == vecteurs2.y)\n",
    "    \n",
    "    def affichage(self):\n",
    "        print(self.x,self.y)\n",
    "        "
   ]
  },
  {
   "cell_type": "code",
   "execution_count": 277,
   "id": "3c2db88d",
   "metadata": {},
   "outputs": [
    {
     "data": {
      "text/plain": [
       "'Bonjour je suis Mohamed'"
      ]
     },
     "execution_count": 277,
     "metadata": {},
     "output_type": "execute_result"
    }
   ],
   "source": [
    "\"Bonjour je suis {prenom}\".format(prenom = \"Mohamed\")"
   ]
  },
  {
   "cell_type": "code",
   "execution_count": 278,
   "id": "1845c5e5",
   "metadata": {},
   "outputs": [
    {
     "name": "stdout",
     "output_type": "stream",
     "text": [
      "Bonjour je suis Mohamed\n"
     ]
    }
   ],
   "source": [
    "prenom = \"Mohamed\"\n",
    "print(f\"Bonjour je suis {prenom}\")"
   ]
  },
  {
   "cell_type": "code",
   "execution_count": 279,
   "id": "1798b42d",
   "metadata": {},
   "outputs": [],
   "source": [
    "V1 = Vecteur(1,2) \n",
    "V2 = Vecteur(4,1)"
   ]
  },
  {
   "cell_type": "code",
   "execution_count": 280,
   "id": "858a8b27",
   "metadata": {},
   "outputs": [
    {
     "name": "stdout",
     "output_type": "stream",
     "text": [
      "1 2\n"
     ]
    }
   ],
   "source": [
    "V1.affichage() # au même titre qu'on fait \"bonjour\".lower() ou df.fillna()"
   ]
  },
  {
   "cell_type": "code",
   "execution_count": 273,
   "id": "227c7b63",
   "metadata": {},
   "outputs": [
    {
     "data": {
      "text/plain": [
       "1 i + 2 j"
      ]
     },
     "execution_count": 273,
     "metadata": {},
     "output_type": "execute_result"
    }
   ],
   "source": [
    "V1 #on fait appel à __repr__"
   ]
  },
  {
   "cell_type": "code",
   "execution_count": 274,
   "id": "0b9abcd7",
   "metadata": {},
   "outputs": [
    {
     "name": "stdout",
     "output_type": "stream",
     "text": [
      "1 i + 2 j\n"
     ]
    }
   ],
   "source": [
    "print(V1) #la méthode str est appelé ici."
   ]
  },
  {
   "cell_type": "code",
   "execution_count": 170,
   "id": "e35edaf2",
   "metadata": {},
   "outputs": [
    {
     "name": "stdout",
     "output_type": "stream",
     "text": [
      "5 i + 3 j\n",
      "-3 i + 1 j\n"
     ]
    },
    {
     "data": {
      "text/plain": [
       "False"
      ]
     },
     "execution_count": 170,
     "metadata": {},
     "output_type": "execute_result"
    }
   ],
   "source": [
    "V3 = V1 + V2 #on appelle __add__\n",
    "print(V3)\n",
    "V3 = V1 - V2 #on appelle __sub__\n",
    "print(V3)\n",
    "V3 == V1 #on appelle __eq__"
   ]
  },
  {
   "cell_type": "code",
   "execution_count": 171,
   "id": "f84b8907",
   "metadata": {},
   "outputs": [
    {
     "data": {
      "text/plain": [
       "{'x': -3, 'y': 1}"
      ]
     },
     "execution_count": 171,
     "metadata": {},
     "output_type": "execute_result"
    }
   ],
   "source": [
    "V3.__dict__"
   ]
  },
  {
   "cell_type": "raw",
   "id": "bc1928c7",
   "metadata": {},
   "source": [
    "Avec la méthode __add__ nous avons pu définir l'opérateur + pour notre objet Vecteur."
   ]
  },
  {
   "cell_type": "code",
   "execution_count": 172,
   "id": "c5c20891",
   "metadata": {},
   "outputs": [
    {
     "name": "stdout",
     "output_type": "stream",
     "text": [
      "-3 i + 1 j\n"
     ]
    }
   ],
   "source": [
    "print(V3)"
   ]
  },
  {
   "cell_type": "raw",
   "id": "d5db2f44",
   "metadata": {},
   "source": [
    "Et __str__ nous a permis de définir l'affichage en utilisant print"
   ]
  },
  {
   "cell_type": "raw",
   "id": "76aa17a5",
   "metadata": {},
   "source": [
    "Ici on définit une classe plus complexe qui prend cette fois en argument, un nombre itérable de variables. \n",
    "\n",
    "La classe sera ainsi plus flexible MAIS plus dure à définir..."
   ]
  },
  {
   "cell_type": "code",
   "execution_count": 173,
   "id": "c1012cf4",
   "metadata": {},
   "outputs": [],
   "source": [
    "# A travailler.\n",
    "class Polynomes():\n",
    "    def __init__(self,*x):\n",
    "        self.x = list(x)\n",
    "        \n",
    "    def __repr__(self):\n",
    "        return \"Polynôme : {!r}\".format(self.x)\n",
    "    def __len__(self):\n",
    "        return(len(self.x))\n",
    "    \n",
    "    def __add__(self,poly2): #Il existe aussi __iadd__\n",
    "        diff = len(self) - len(poly2)\n",
    "        if diff < 0 :\n",
    "            self.x += abs(diff)*[0]\n",
    "        elif diff > 0 :\n",
    "            poly2.x += diff*[0]\n",
    "        return Polynomes(*(x + y for x,y in zip(self.x,poly2.x)))\n",
    "    \n",
    "    def __str__(self):\n",
    "        exposants = (0x2070, 0x00B9, 0x00B2, 0x00B3, 0x2074, 0x2075, 0x2076, 0x2077, 0x2078, 0x2079)\n",
    "        string = \"\"\n",
    "        for c,i in enumerate(self.x):\n",
    "            if c != 0:\n",
    "                if c < 10:\n",
    "                    string = str(i) + \"x\" + chr(exposants[c]) + \" + \" + string \n",
    "                else : \n",
    "                    expo = \"\"\n",
    "                    for k in str(c):\n",
    "                        expo += chr(exposants[int(k)])\n",
    "                    string = str(i) + \"x\" + str(expo) + \" + \" + string \n",
    "            else : \n",
    "                string = str(i)  + string\n",
    "                \n",
    "        return string\n",
    "        "
   ]
  },
  {
   "cell_type": "raw",
   "id": "4fe69584",
   "metadata": {},
   "source": [
    "En ne demandant qu'un affichage de l'objet sans la fonction print() on fait appel à ce qui a été défini dans la méthode __repr__"
   ]
  },
  {
   "cell_type": "code",
   "execution_count": 174,
   "id": "26bda598",
   "metadata": {},
   "outputs": [
    {
     "data": {
      "text/plain": [
       "<zip at 0x24533e107c0>"
      ]
     },
     "execution_count": 174,
     "metadata": {},
     "output_type": "execute_result"
    }
   ],
   "source": [
    "a= [1,2,3]\n",
    "b= [\"one\",\"two\",\"three\"]\n",
    "\n",
    "zip(a,b)"
   ]
  },
  {
   "cell_type": "code",
   "execution_count": 175,
   "id": "b6ad8cb6",
   "metadata": {},
   "outputs": [
    {
     "name": "stdout",
     "output_type": "stream",
     "text": [
      "(1, 'one')\n",
      "(2, 'two')\n",
      "(3, 'three')\n"
     ]
    }
   ],
   "source": [
    "for i in zip(a,b):\n",
    "    print(i)"
   ]
  },
  {
   "cell_type": "code",
   "execution_count": 192,
   "id": "38260dca",
   "metadata": {},
   "outputs": [
    {
     "data": {
      "text/plain": [
       "Polynôme : [2, 2, 2, 2, 2, 2, 2, 2, 2, 2, 2, 2, 2, 2]"
      ]
     },
     "execution_count": 192,
     "metadata": {},
     "output_type": "execute_result"
    }
   ],
   "source": [
    "P1 = Polynomes(2,2,2,2,2,2,2,2,2,2,2,2,2,2)\n",
    "P1"
   ]
  },
  {
   "cell_type": "raw",
   "id": "190be889",
   "metadata": {},
   "source": [
    "Et la méthode __str__ permet d'utiliser la fonction print()"
   ]
  },
  {
   "cell_type": "code",
   "execution_count": 177,
   "id": "b7a6055b",
   "metadata": {},
   "outputs": [
    {
     "name": "stdout",
     "output_type": "stream",
     "text": [
      "2x¹³ + 2x¹² + 2x¹¹ + 2x¹⁰ + 2x⁹ + 2x⁸ + 2x⁷ + 2x⁶ + 2x⁵ + 2x⁴ + 2x³ + 2x² + 2x¹ + 2\n"
     ]
    }
   ],
   "source": [
    "print(P1)"
   ]
  },
  {
   "cell_type": "code",
   "execution_count": 178,
   "id": "29835c11",
   "metadata": {},
   "outputs": [
    {
     "data": {
      "text/plain": [
       "{'x': [2, 2, 2, 2, 2, 2, 2, 2, 2, 2, 2, 2, 2, 2]}"
      ]
     },
     "execution_count": 178,
     "metadata": {},
     "output_type": "execute_result"
    }
   ],
   "source": [
    "P1.__dict__"
   ]
  },
  {
   "cell_type": "code",
   "execution_count": 183,
   "id": "a7ad523c",
   "metadata": {},
   "outputs": [
    {
     "data": {
      "text/plain": [
       "(14, 14)"
      ]
     },
     "execution_count": 183,
     "metadata": {},
     "output_type": "execute_result"
    }
   ],
   "source": [
    "P2 = Polynomes(2,3,2)\n",
    "len(P1 + P2),len(P1)"
   ]
  },
  {
   "cell_type": "code",
   "execution_count": 215,
   "id": "c428a8f5",
   "metadata": {},
   "outputs": [],
   "source": [
    "P2 = Polynomes(3,3,10)\n",
    "P3 = P1 + P2"
   ]
  },
  {
   "cell_type": "code",
   "execution_count": 216,
   "id": "975f8ae8",
   "metadata": {},
   "outputs": [
    {
     "name": "stdout",
     "output_type": "stream",
     "text": [
      "2x¹³ + 2x¹² + 2x¹¹ + 2x¹⁰ + 2x⁹ + 2x⁸ + 2x⁷ + 2x⁶ + 2x⁵ + 2x⁴ + 2x³ + 12x² + 5x¹ + 5\n"
     ]
    }
   ],
   "source": [
    "print(P3)"
   ]
  },
  {
   "cell_type": "code",
   "execution_count": 217,
   "id": "95bd233b",
   "metadata": {},
   "outputs": [
    {
     "data": {
      "text/plain": [
       "Polynôme : [5, 5, 12, 2, 2, 2, 2, 2, 2, 2, 2, 2, 2, 2]"
      ]
     },
     "execution_count": 217,
     "metadata": {},
     "output_type": "execute_result"
    }
   ],
   "source": [
    "P3"
   ]
  },
  {
   "cell_type": "code",
   "execution_count": 218,
   "id": "9e50beae",
   "metadata": {},
   "outputs": [
    {
     "name": "stdout",
     "output_type": "stream",
     "text": [
      "2x¹³ + 2x¹² + 2x¹¹ + 2x¹⁰ + 2x⁹ + 2x⁸ + 2x⁷ + 2x⁶ + 2x⁵ + 2x⁴ + 2x³ + 2x² + 2x¹ + 2\n"
     ]
    }
   ],
   "source": [
    "print(P1)"
   ]
  },
  {
   "attachments": {},
   "cell_type": "markdown",
   "id": "682295e0",
   "metadata": {},
   "source": [
    "## Les méthodes "
   ]
  },
  {
   "cell_type": "raw",
   "id": "4e6beb52",
   "metadata": {},
   "source": [
    "Pour l'instant on a vu uniquement comment définir des opérateurs, on va maintenant se concentrer sur les méthodes : "
   ]
  },
  {
   "cell_type": "raw",
   "id": "c90f1ee1",
   "metadata": {},
   "source": [
    "Une méthode est une fonction que l'on définit au sein d'une classe pour y modifier son contenu. "
   ]
  },
  {
   "cell_type": "code",
   "execution_count": 222,
   "id": "12bcd636",
   "metadata": {},
   "outputs": [],
   "source": [
    "class Polynomes():\n",
    "    def __init__(self,*x):\n",
    "        self.x = x\n",
    "        \n",
    "    def __repr__(self):\n",
    "        return \"Polynôme : {!r}\".format(self.x)\n",
    "    \n",
    "    def __len__(self):\n",
    "        return(len(self.x))\n",
    "    \n",
    "    def __add__(self,poly2): #Il existe aussi __iadd__\n",
    "        diff = len(self) - len(poly2)\n",
    "        if diff < 0 :\n",
    "            self.x += abs(diff)*[0]\n",
    "        elif diff > 0 :\n",
    "            poly2.x += diff*[0]\n",
    "        return Polynomes(*(x + y for x,y in zip(self.x,poly2.x)))\n",
    "    \n",
    "    def __str__(self):\n",
    "        exposants = (0x2070, 0x00B9, 0x00B2, 0x00B3, 0x2074, 0x2075, 0x2076, 0x2077, 0x2078, 0x2079)\n",
    "        string = \"\"\n",
    "        for c,i in enumerate(self.x):\n",
    "            if c != 0:\n",
    "                if c < 10:\n",
    "                    string = str(i) + \"x\" + chr(exposants[c]) + \" + \" + string \n",
    "                else : \n",
    "                    expo = \"\"\n",
    "                    for k in str(c):\n",
    "                        expo += chr(exposants[int(k)])\n",
    "                    string = str(i) + \"x\" + str(expo) + \" + \" + string \n",
    "            else : \n",
    "                string = str(i)  + string\n",
    "                \n",
    "        return string\n",
    "    \n",
    "    def degre_polynome(self):\n",
    "        for i in range(len(self.x)-1,0,-1):\n",
    "            if self.x[i] != 0:\n",
    "                return i\n",
    "        else:\n",
    "            return 0\n",
    "            "
   ]
  },
  {
   "cell_type": "code",
   "execution_count": 226,
   "id": "b69b63b6",
   "metadata": {},
   "outputs": [],
   "source": [
    "P1 = Polynomes(0,1,2,1,0)"
   ]
  },
  {
   "cell_type": "code",
   "execution_count": 229,
   "id": "5d92f1c8",
   "metadata": {},
   "outputs": [
    {
     "name": "stdout",
     "output_type": "stream",
     "text": [
      "0x⁴ + 1x³ + 2x² + 1x¹ + 0\n"
     ]
    }
   ],
   "source": [
    "print(P1)"
   ]
  },
  {
   "cell_type": "code",
   "execution_count": 230,
   "id": "9e8c8313",
   "metadata": {},
   "outputs": [
    {
     "data": {
      "text/plain": [
       "5"
      ]
     },
     "execution_count": 230,
     "metadata": {},
     "output_type": "execute_result"
    }
   ],
   "source": [
    "len(P1) #Et là on se dit que l'opérateur est utile mais qu'il \n",
    "        # peut induire en erreur sur des calculs."
   ]
  },
  {
   "cell_type": "code",
   "execution_count": 231,
   "id": "fb4148d7",
   "metadata": {},
   "outputs": [
    {
     "data": {
      "text/plain": [
       "3"
      ]
     },
     "execution_count": 231,
     "metadata": {},
     "output_type": "execute_result"
    }
   ],
   "source": [
    "P1.degre_polynome()"
   ]
  },
  {
   "attachments": {},
   "cell_type": "markdown",
   "id": "5cf11c95",
   "metadata": {},
   "source": [
    "## Héritage"
   ]
  },
  {
   "cell_type": "raw",
   "id": "fe0f2886",
   "metadata": {},
   "source": [
    "On peut être amené à créer une classe et vouloir en définir une nouvelle qui possède beaucoup de points communs avec la classe initiale. "
   ]
  },
  {
   "cell_type": "code",
   "execution_count": 232,
   "id": "f7482a99",
   "metadata": {},
   "outputs": [],
   "source": [
    "class PNJ:\n",
    "    def __init__(self,role,name = \"pnj\"):\n",
    "        self.name = name\n",
    "        self.role  = role\n",
    "        \n",
    "    def dialogue(self):\n",
    "        choix = random.randint(0,1)\n",
    "        if choix : \n",
    "            s = \"Bonjour ! Content de te revoir\"\n",
    "        else :\n",
    "            s = \"Ces temps-ci je vois beaucoup d'aventuriers comme toi...il se passe quelque chose...\"\n",
    "        return s\n",
    "    \n",
    "    def interaction(self):\n",
    "        liste_interaction = \"\"\"\n",
    "        0 : Je te donne mon prénom\n",
    "        1 : Je te parle\n",
    "        \"\"\"\n",
    "        return liste_interaction\n",
    "    \n",
    "    def interagir(self,choix):\n",
    "        if choix:\n",
    "            return self.dialogue()\n",
    "        else:\n",
    "            return \"Je m'appelle {pnj}\".format(pnj = self.name)\n",
    "        \n",
    "    def afficher_role(self):\n",
    "        return \"Je suis un {role}\".format(role= self.role)\n",
    "        \n",
    "        \n",
    "        \n",
    "class Commercant(PNJ):\n",
    "    def __init__(self,name):\n",
    "        self.role  = \"Commerçant\"\n",
    "        self.name = name\n",
    "        \n",
    "    def dialogue(self):\n",
    "        choix = random.randint(0,1)\n",
    "        if choix : \n",
    "            s = \"Bonjour ! Content de te revoir, Entre dans ma boutique\"\n",
    "        else :\n",
    "            choix = random.randint(0,1)\n",
    "            if choix: \n",
    "                s = \"Ces temps-ci je vois beaucoup d'aventuriers comme toi...les affaires vont être bonnes...\"\n",
    "            else:\n",
    "                s = \"Tu n'as pas d'or. Reviens quand tu en auras\"\n",
    "        return s\n",
    "    \n",
    "    \n",
    "        "
   ]
  },
  {
   "cell_type": "code",
   "execution_count": 249,
   "id": "fc64e40d",
   "metadata": {},
   "outputs": [
    {
     "data": {
      "text/plain": [
       "\"Ces temps-ci je vois beaucoup d'aventuriers comme toi...il se passe quelque chose...\""
      ]
     },
     "execution_count": 249,
     "metadata": {},
     "output_type": "execute_result"
    }
   ],
   "source": [
    "Hugo = PNJ(\"Villageois\",name =\"Hugo\")\n",
    "Hugo.interagir(1)"
   ]
  },
  {
   "cell_type": "raw",
   "id": "b344a54b",
   "metadata": {},
   "source": [
    "Ici, on a donc que notre classe Commerçant hérite de la classe PNJ. \n",
    "Toutes les méthodes sont donc possibles et l'on a modifié l'initialisation de la class (__init__)\n",
    "Et la methode dialogue "
   ]
  },
  {
   "cell_type": "code",
   "execution_count": 239,
   "id": "09782233",
   "metadata": {},
   "outputs": [],
   "source": [
    "Buggy = PNJ(\"Villageois\",name =\"Hugo\")\n",
    "Bert = Commercant(\"BERT\")"
   ]
  },
  {
   "cell_type": "code",
   "execution_count": 240,
   "id": "59c0898b",
   "metadata": {
    "scrolled": true
   },
   "outputs": [
    {
     "name": "stdout",
     "output_type": "stream",
     "text": [
      "\n",
      "        0 : Je te donne mon prénom\n",
      "        1 : Je te parle\n",
      "        \n"
     ]
    }
   ],
   "source": [
    "print(Bert.interaction())"
   ]
  },
  {
   "cell_type": "code",
   "execution_count": 252,
   "id": "9548456e",
   "metadata": {},
   "outputs": [
    {
     "data": {
      "text/plain": [
       "'Bonjour ! Content de te revoir, Entre dans ma boutique'"
      ]
     },
     "execution_count": 252,
     "metadata": {},
     "output_type": "execute_result"
    }
   ],
   "source": [
    "Bert.interagir(1)"
   ]
  },
  {
   "cell_type": "code",
   "execution_count": 253,
   "id": "28d84fe6",
   "metadata": {},
   "outputs": [
    {
     "data": {
      "text/plain": [
       "'Je suis un Commerçant'"
      ]
     },
     "execution_count": 253,
     "metadata": {},
     "output_type": "execute_result"
    }
   ],
   "source": [
    "Bert.afficher_role()"
   ]
  },
  {
   "cell_type": "code",
   "execution_count": 129,
   "id": "32bbf6ef",
   "metadata": {},
   "outputs": [
    {
     "data": {
      "text/plain": [
       "\"Ces temps-ci je vois beaucoup d'aventuriers comme toi...il se passe quelque chose...\""
      ]
     },
     "execution_count": 129,
     "metadata": {},
     "output_type": "execute_result"
    }
   ],
   "source": [
    "Buggy.interagir(1)"
   ]
  },
  {
   "cell_type": "code",
   "execution_count": 130,
   "id": "f43d25a2",
   "metadata": {},
   "outputs": [
    {
     "data": {
      "text/plain": [
       "'Je suis un Commerçant'"
      ]
     },
     "execution_count": 130,
     "metadata": {},
     "output_type": "execute_result"
    }
   ],
   "source": [
    "Bert.afficher_role()"
   ]
  },
  {
   "cell_type": "raw",
   "id": "3b566e8f",
   "metadata": {},
   "source": [
    "Le Commerçant a hérité des méthode du PNJ, il n'a fallu définir que des nouveaux dialogues.\n",
    "\n",
    "Et on pourrait définir une classe Héros avec de l'or et des point de vie. Donner la possibilités au Commerçant d'évaluer si l'or est à 0.\n",
    "\n",
    "etc...\n",
    "\n",
    "On a aussi dû redéfinir l'initialisation de zéro...pas pratique...\n",
    "\n",
    "On peut procéder différemment."
   ]
  },
  {
   "cell_type": "code",
   "execution_count": 131,
   "id": "18fc0c6c",
   "metadata": {},
   "outputs": [],
   "source": [
    "class Commercant(PNJ):\n",
    "    def __init__(self,name):\n",
    "        PNJ.__init__(self,\"Commerçant\",name)\n",
    "    def dialogue(self):\n",
    "        choix = random.randint(0,1)\n",
    "        if choix : \n",
    "            s = \"Bonjour ! Content de te revoir, Entre dans ma boutique\"\n",
    "        else :\n",
    "            choix = random.randint(0,1)\n",
    "            if choix: \n",
    "                s = \"Ces temps-ci je vois beaucoup d'aventuriers comme toi...les affaires vont être bonnes...\"\n",
    "            else:\n",
    "                s = \"Tu n'as pas d'or. Reviens quand tu en auras\"\n",
    "        return s"
   ]
  },
  {
   "cell_type": "code",
   "execution_count": 254,
   "id": "8b44e30e",
   "metadata": {},
   "outputs": [],
   "source": [
    "Bert = Commercant(\"BERT\")"
   ]
  },
  {
   "cell_type": "code",
   "execution_count": 255,
   "id": "ac9b2696",
   "metadata": {},
   "outputs": [
    {
     "data": {
      "text/plain": [
       "'Je suis un Commerçant'"
      ]
     },
     "execution_count": 255,
     "metadata": {},
     "output_type": "execute_result"
    }
   ],
   "source": [
    "Bert.afficher_role()"
   ]
  },
  {
   "cell_type": "code",
   "execution_count": 130,
   "id": "8d0b102e",
   "metadata": {},
   "outputs": [],
   "source": [
    "class Commercant(PNJ):\n",
    "    def __init__(self,name):\n",
    "        super().__init__(\"Commerçant\",name)\n",
    "    def dialogue(self):\n",
    "        choix = random.randint(0,1)\n",
    "        if choix : \n",
    "            s = \"Bonjour ! Content de te revoir, Entre dans ma boutique\"\n",
    "        else :\n",
    "            choix = random.randint(0,1)\n",
    "            if choix: \n",
    "                s = \"Ces temps-ci je vois beaucoup d'aventuriers comme toi...les affaires vont être bonnes...\"\n",
    "            else:\n",
    "                s = \"Tu n'as pas d'or. Reviens quand tu en auras\"\n",
    "        return s"
   ]
  },
  {
   "cell_type": "code",
   "execution_count": 256,
   "id": "249db61c",
   "metadata": {},
   "outputs": [],
   "source": [
    "Bert = Commercant(\"BERT\")"
   ]
  },
  {
   "cell_type": "code",
   "execution_count": 257,
   "id": "c25a064e",
   "metadata": {},
   "outputs": [
    {
     "data": {
      "text/plain": [
       "'Je suis un Commerçant'"
      ]
     },
     "execution_count": 257,
     "metadata": {},
     "output_type": "execute_result"
    }
   ],
   "source": [
    "Bert.afficher_role()"
   ]
  },
  {
   "cell_type": "raw",
   "id": "532dd202",
   "metadata": {},
   "source": [
    "Maintenant vous pourrez comprendre encore mieux les méthodes définies dans help ! "
   ]
  },
  {
   "cell_type": "code",
   "execution_count": 261,
   "id": "a5bf8dfa",
   "metadata": {
    "collapsed": true
   },
   "outputs": [
    {
     "name": "stdout",
     "output_type": "stream",
     "text": [
      "Help on class list in module builtins:\n",
      "\n",
      "class list(object)\n",
      " |  list(iterable=(), /)\n",
      " |  \n",
      " |  Built-in mutable sequence.\n",
      " |  \n",
      " |  If no argument is given, the constructor creates a new empty list.\n",
      " |  The argument must be an iterable if specified.\n",
      " |  \n",
      " |  Methods defined here:\n",
      " |  \n",
      " |  __add__(self, value, /)\n",
      " |      Return self+value.\n",
      " |  \n",
      " |  __contains__(self, key, /)\n",
      " |      Return key in self.\n",
      " |  \n",
      " |  __delitem__(self, key, /)\n",
      " |      Delete self[key].\n",
      " |  \n",
      " |  __eq__(self, value, /)\n",
      " |      Return self==value.\n",
      " |  \n",
      " |  __ge__(self, value, /)\n",
      " |      Return self>=value.\n",
      " |  \n",
      " |  __getattribute__(self, name, /)\n",
      " |      Return getattr(self, name).\n",
      " |  \n",
      " |  __getitem__(...)\n",
      " |      x.__getitem__(y) <==> x[y]\n",
      " |  \n",
      " |  __gt__(self, value, /)\n",
      " |      Return self>value.\n",
      " |  \n",
      " |  __iadd__(self, value, /)\n",
      " |      Implement self+=value.\n",
      " |  \n",
      " |  __imul__(self, value, /)\n",
      " |      Implement self*=value.\n",
      " |  \n",
      " |  __init__(self, /, *args, **kwargs)\n",
      " |      Initialize self.  See help(type(self)) for accurate signature.\n",
      " |  \n",
      " |  __iter__(self, /)\n",
      " |      Implement iter(self).\n",
      " |  \n",
      " |  __le__(self, value, /)\n",
      " |      Return self<=value.\n",
      " |  \n",
      " |  __len__(self, /)\n",
      " |      Return len(self).\n",
      " |  \n",
      " |  __lt__(self, value, /)\n",
      " |      Return self<value.\n",
      " |  \n",
      " |  __mul__(self, value, /)\n",
      " |      Return self*value.\n",
      " |  \n",
      " |  __ne__(self, value, /)\n",
      " |      Return self!=value.\n",
      " |  \n",
      " |  __repr__(self, /)\n",
      " |      Return repr(self).\n",
      " |  \n",
      " |  __reversed__(self, /)\n",
      " |      Return a reverse iterator over the list.\n",
      " |  \n",
      " |  __rmul__(self, value, /)\n",
      " |      Return value*self.\n",
      " |  \n",
      " |  __setitem__(self, key, value, /)\n",
      " |      Set self[key] to value.\n",
      " |  \n",
      " |  __sizeof__(self, /)\n",
      " |      Return the size of the list in memory, in bytes.\n",
      " |  \n",
      " |  append(self, object, /)\n",
      " |      Append object to the end of the list.\n",
      " |  \n",
      " |  clear(self, /)\n",
      " |      Remove all items from list.\n",
      " |  \n",
      " |  copy(self, /)\n",
      " |      Return a shallow copy of the list.\n",
      " |  \n",
      " |  count(self, value, /)\n",
      " |      Return number of occurrences of value.\n",
      " |  \n",
      " |  extend(self, iterable, /)\n",
      " |      Extend list by appending elements from the iterable.\n",
      " |  \n",
      " |  index(self, value, start=0, stop=9223372036854775807, /)\n",
      " |      Return first index of value.\n",
      " |      \n",
      " |      Raises ValueError if the value is not present.\n",
      " |  \n",
      " |  insert(self, index, object, /)\n",
      " |      Insert object before index.\n",
      " |  \n",
      " |  pop(self, index=-1, /)\n",
      " |      Remove and return item at index (default last).\n",
      " |      \n",
      " |      Raises IndexError if list is empty or index is out of range.\n",
      " |  \n",
      " |  remove(self, value, /)\n",
      " |      Remove first occurrence of value.\n",
      " |      \n",
      " |      Raises ValueError if the value is not present.\n",
      " |  \n",
      " |  reverse(self, /)\n",
      " |      Reverse *IN PLACE*.\n",
      " |  \n",
      " |  sort(self, /, *, key=None, reverse=False)\n",
      " |      Sort the list in ascending order and return None.\n",
      " |      \n",
      " |      The sort is in-place (i.e. the list itself is modified) and stable (i.e. the\n",
      " |      order of two equal elements is maintained).\n",
      " |      \n",
      " |      If a key function is given, apply it once to each list item and sort them,\n",
      " |      ascending or descending, according to their function values.\n",
      " |      \n",
      " |      The reverse flag can be set to sort in descending order.\n",
      " |  \n",
      " |  ----------------------------------------------------------------------\n",
      " |  Class methods defined here:\n",
      " |  \n",
      " |  __class_getitem__(...) from builtins.type\n",
      " |      See PEP 585\n",
      " |  \n",
      " |  ----------------------------------------------------------------------\n",
      " |  Static methods defined here:\n",
      " |  \n",
      " |  __new__(*args, **kwargs) from builtins.type\n",
      " |      Create and return a new object.  See help(type) for accurate signature.\n",
      " |  \n",
      " |  ----------------------------------------------------------------------\n",
      " |  Data and other attributes defined here:\n",
      " |  \n",
      " |  __hash__ = None\n",
      "\n"
     ]
    }
   ],
   "source": [
    "help(list)"
   ]
  },
  {
   "cell_type": "code",
   "execution_count": 262,
   "id": "630fcc0d",
   "metadata": {},
   "outputs": [],
   "source": [
    "L = [1,2,3]"
   ]
  },
  {
   "cell_type": "code",
   "execution_count": 263,
   "id": "946d02c1",
   "metadata": {},
   "outputs": [
    {
     "name": "stdout",
     "output_type": "stream",
     "text": [
      "[1, 2, 3]\n"
     ]
    }
   ],
   "source": [
    "print(L)"
   ]
  },
  {
   "cell_type": "code",
   "execution_count": 264,
   "id": "03f5c1ae",
   "metadata": {},
   "outputs": [
    {
     "data": {
      "text/plain": [
       "True"
      ]
     },
     "execution_count": 264,
     "metadata": {},
     "output_type": "execute_result"
    }
   ],
   "source": [
    "L >= L"
   ]
  },
  {
   "cell_type": "code",
   "execution_count": 265,
   "id": "5b43778f",
   "metadata": {},
   "outputs": [
    {
     "name": "stdout",
     "output_type": "stream",
     "text": [
      "__main__\n",
      "<class '__main__.Commercant'>\n",
      "{'role': 'Commerçant', 'name': 'BERT'}\n",
      "Commercant\n"
     ]
    }
   ],
   "source": [
    "print(Bert.__module__)             # affiche __main__ on est dans le main\n",
    "print(Bert.__class__)              \n",
    "print(Bert.__dict__)              \n",
    "print(Bert.__class__.__name__)     "
   ]
  },
  {
   "attachments": {},
   "cell_type": "markdown",
   "id": "02292fdf",
   "metadata": {},
   "source": [
    "Exercice :\n",
    "\n",
    ">Créer une classe Logements qui affiche les informations nécessaires au logement (pensez à __ repr__ ou __ str__), sa surface totale (dépendance + jardin par exemple) (s'il ya une dépendance et un jardin donc ou un balcon etc...),places de parkings, sa surface habitable etc...\n",
    "\n",
    ">Et des opérateurs pour comparer deux logements (surface habitables ou surface totales, logements avec le plus de bonus etc...)\n",
    "\n",
    "> Comparer deux logements entre eux avec l'opérateur >= \n",
    "\n",
    "> On a une résidence avec 5 logements, afficher la surface totale de la résidence et le nombre de places de parkings \n"
   ]
  },
  {
   "attachments": {},
   "cell_type": "markdown",
   "id": "dc81bf25",
   "metadata": {},
   "source": [
    "## Decorateurs : "
   ]
  },
  {
   "cell_type": "code",
   "execution_count": 13,
   "id": "27f27e09",
   "metadata": {},
   "outputs": [],
   "source": [
    "from time import perf_counter\n",
    "from time import process_time\n",
    "from time import sleep "
   ]
  },
  {
   "cell_type": "code",
   "execution_count": 143,
   "id": "6d0fa84a",
   "metadata": {},
   "outputs": [
    {
     "name": "stdout",
     "output_type": "stream",
     "text": [
      "1.0065144000000146\n"
     ]
    }
   ],
   "source": [
    "timer = perf_counter()\n",
    "sleep(1)\n",
    "print(perf_counter()-timer)"
   ]
  },
  {
   "cell_type": "code",
   "execution_count": 9,
   "id": "e248b0bc",
   "metadata": {},
   "outputs": [],
   "source": [
    "def addition(x,y=2):\n",
    "    return x + y"
   ]
  },
  {
   "cell_type": "code",
   "execution_count": 145,
   "id": "e5ab9486",
   "metadata": {},
   "outputs": [
    {
     "name": "stdout",
     "output_type": "stream",
     "text": [
      "14\n",
      "23\n"
     ]
    }
   ],
   "source": [
    "print(addition(12))\n",
    "print(addition(19,4))"
   ]
  },
  {
   "cell_type": "code",
   "execution_count": 146,
   "id": "23cacedd",
   "metadata": {},
   "outputs": [
    {
     "name": "stdout",
     "output_type": "stream",
     "text": [
      "14\n",
      "9.839999984251335e-05\n",
      "23\n",
      "6.639999992330559e-05\n"
     ]
    }
   ],
   "source": [
    "timer = perf_counter()\n",
    "print(addition(12))\n",
    "print(perf_counter()-timer)\n",
    "timer = perf_counter()\n",
    "print(addition(19,4))\n",
    "print(perf_counter()-timer)"
   ]
  },
  {
   "cell_type": "raw",
   "id": "53df89cc",
   "metadata": {},
   "source": [
    "La rédaction de la portion de code est trop encombrante...et nécessite une surcharge de rédaction de code, à la fois source d'erreur et de lisibilité.\n",
    "\n",
    "Ratio library code to user code...l'utilisateur doit en faire bcp plus que le code initial. \n",
    "\n",
    "Mais si l'on veut tracker la performance d'une portion de code : "
   ]
  },
  {
   "cell_type": "code",
   "execution_count": 8,
   "id": "e92a99f4",
   "metadata": {},
   "outputs": [],
   "source": [
    "def mesure_perf(func):\n",
    "    def f_perf(x,y=10):\n",
    "        timer = perf_counter()\n",
    "        fonction = func(x,y)\n",
    "        print(\"temps écoulé : \", perf_counter() - timer)\n",
    "        return fonction\n",
    "    return f_perf    "
   ]
  },
  {
   "cell_type": "code",
   "execution_count": 11,
   "id": "68d55708",
   "metadata": {},
   "outputs": [],
   "source": [
    "a = mesure_perf(addition)"
   ]
  },
  {
   "cell_type": "code",
   "execution_count": 14,
   "id": "5afcd4a1",
   "metadata": {},
   "outputs": [
    {
     "name": "stdout",
     "output_type": "stream",
     "text": [
      "temps écoulé :  2.00001522898674e-06\n"
     ]
    },
    {
     "data": {
      "text/plain": [
       "10"
      ]
     },
     "execution_count": 14,
     "metadata": {},
     "output_type": "execute_result"
    }
   ],
   "source": [
    "a(5,5)"
   ]
  },
  {
   "cell_type": "raw",
   "id": "e3fa8226",
   "metadata": {},
   "source": [
    "Et maintenant : "
   ]
  },
  {
   "cell_type": "code",
   "execution_count": 148,
   "id": "7391d2d6",
   "metadata": {},
   "outputs": [
    {
     "name": "stdout",
     "output_type": "stream",
     "text": [
      "temps écoulé :  7.000007826718502e-07\n"
     ]
    },
    {
     "data": {
      "text/plain": [
       "20"
      ]
     },
     "execution_count": 148,
     "metadata": {},
     "output_type": "execute_result"
    }
   ],
   "source": [
    "mesure_perf(addition)(10,10)"
   ]
  },
  {
   "cell_type": "raw",
   "id": "9a0ecd17",
   "metadata": {},
   "source": [
    "L'avantage principale de cette rédaction est qu'elle s'applique à d'autres fonctions : "
   ]
  },
  {
   "cell_type": "code",
   "execution_count": 149,
   "id": "248afbd1",
   "metadata": {},
   "outputs": [],
   "source": [
    "def soustraction(x,y =10):\n",
    "    return x-y"
   ]
  },
  {
   "cell_type": "code",
   "execution_count": 150,
   "id": "207b2687",
   "metadata": {},
   "outputs": [
    {
     "name": "stdout",
     "output_type": "stream",
     "text": [
      "temps écoulé :  8.000006346264854e-07\n"
     ]
    },
    {
     "data": {
      "text/plain": [
       "0"
      ]
     },
     "execution_count": 150,
     "metadata": {},
     "output_type": "execute_result"
    }
   ],
   "source": [
    "mesure_perf(soustraction)(10,10)"
   ]
  },
  {
   "cell_type": "raw",
   "id": "7d51282d",
   "metadata": {},
   "source": [
    "Et en Python, on a : "
   ]
  },
  {
   "cell_type": "code",
   "execution_count": 153,
   "id": "e9c3d8d7",
   "metadata": {},
   "outputs": [],
   "source": [
    "@mesure_perf\n",
    "def multiplication(x,y =10):\n",
    "    return x*y"
   ]
  },
  {
   "cell_type": "code",
   "execution_count": 154,
   "id": "5fe555c1",
   "metadata": {},
   "outputs": [
    {
     "name": "stdout",
     "output_type": "stream",
     "text": [
      "temps écoulé :  7.999997251317836e-07\n"
     ]
    },
    {
     "data": {
      "text/plain": [
       "100"
      ]
     },
     "execution_count": 154,
     "metadata": {},
     "output_type": "execute_result"
    }
   ],
   "source": [
    "multiplication(10,10)"
   ]
  },
  {
   "cell_type": "raw",
   "id": "c8a8c164",
   "metadata": {},
   "source": [
    "On a donc simplifié la syntaxe pour qu'à chaque appel et définition d'une fonction, le décorateur enrobe la fonction et mesure la performance. "
   ]
  },
  {
   "cell_type": "raw",
   "id": "9d0d7c2b",
   "metadata": {},
   "source": [
    "L'inconvénient est que l'on a dû inscrire en paramètres x,y=10...Pas idéal sauf si l'on veut restreindre le champ d'application d'un décorateur en ajoutant un try:... except: \n",
    "\n",
    "Mais on peut généraliser le décorateur : \n"
   ]
  },
  {
   "cell_type": "code",
   "execution_count": 155,
   "id": "cb6add9f",
   "metadata": {},
   "outputs": [],
   "source": [
    "def mesure_perf(func):\n",
    "    def f_perf(*a,**kw):\n",
    "        timer = perf_counter()\n",
    "        fonction = func(*a,**kw)\n",
    "        print(\"temps écoulé : \", perf_counter() - timer)\n",
    "        return fonction\n",
    "    return f_perf    "
   ]
  },
  {
   "cell_type": "raw",
   "id": "715ecb36",
   "metadata": {},
   "source": [
    "et ainsi : "
   ]
  },
  {
   "cell_type": "code",
   "execution_count": 156,
   "id": "9f67402e",
   "metadata": {},
   "outputs": [],
   "source": [
    "@mesure_perf\n",
    "def addition(x,y =10):\n",
    "    return x+y"
   ]
  },
  {
   "cell_type": "code",
   "execution_count": 157,
   "id": "bc32d2bd",
   "metadata": {},
   "outputs": [
    {
     "name": "stdout",
     "output_type": "stream",
     "text": [
      "temps écoulé :  8.000006346264854e-07\n"
     ]
    },
    {
     "data": {
      "text/plain": [
       "20"
      ]
     },
     "execution_count": 157,
     "metadata": {},
     "output_type": "execute_result"
    }
   ],
   "source": [
    "addition(10)"
   ]
  },
  {
   "cell_type": "code",
   "execution_count": 158,
   "id": "4df1eef4",
   "metadata": {},
   "outputs": [],
   "source": [
    "@mesure_perf\n",
    "def somme_liste(*L):\n",
    "    Liste_total = []\n",
    "    for i in L:\n",
    "        Liste_total += i\n",
    "    return Liste_total"
   ]
  },
  {
   "cell_type": "code",
   "execution_count": 159,
   "id": "f3366217",
   "metadata": {},
   "outputs": [
    {
     "name": "stdout",
     "output_type": "stream",
     "text": [
      "temps écoulé :  1.2999998943996616e-06\n"
     ]
    },
    {
     "data": {
      "text/plain": [
       "[1, 4, 5, 3, 4, 7]"
      ]
     },
     "execution_count": 159,
     "metadata": {},
     "output_type": "execute_result"
    }
   ],
   "source": [
    "somme_liste([1,4,5],[3,4],[7])"
   ]
  },
  {
   "cell_type": "raw",
   "id": "708b691a",
   "metadata": {},
   "source": [
    "On comprendra alors mieux les méthodes : "
   ]
  },
  {
   "cell_type": "code",
   "execution_count": 46,
   "id": "31f5ebcb",
   "metadata": {},
   "outputs": [],
   "source": [
    "#@staticmethod\n",
    "#@property\n",
    "#@dataclasses, très utile pour definir une structure d'API ou même gérer des données\n",
    "# Les décorateurs de la librairie contextlib et du module contextmanager\n",
    "# Et d'autres décorateurs (functools etc...) pour mettre des valeurs en cache"
   ]
  },
  {
   "attachments": {},
   "cell_type": "markdown",
   "id": "9be00484",
   "metadata": {},
   "source": [
    "https://docs.python.org/3/library/contextlib.html"
   ]
  },
  {
   "cell_type": "raw",
   "id": "bbeb22cf",
   "metadata": {},
   "source": [
    "Projets : \n",
    "    Quand on définit une classe en ne connaissant à priori que les composants que l'on veut introduire sans les coder effectivement\n",
    "    On peut utiliser \"pass\" pour définir des fonctions au sein d'une classe, juste pour la définir et ne pas l'oublier. "
   ]
  },
  {
   "cell_type": "code",
   "execution_count": 231,
   "id": "be317797",
   "metadata": {},
   "outputs": [],
   "source": [
    "class Appartement:\n",
    "    def __init__(self,m2 = 30,nb_pieces = 2):\n",
    "        self.m2 = m2\n",
    "        self.nb_pieces = nb_pieces\n",
    "    def __repr__(self):\n",
    "        return f\"Chez moi, c'est {self.m2}m² pour {self.nb_pieces} pièces\"\n",
    "    def ajout_pieces(self):\n",
    "        pass"
   ]
  },
  {
   "cell_type": "code",
   "execution_count": 232,
   "id": "be1b9421",
   "metadata": {},
   "outputs": [],
   "source": [
    "Chez_moi = Appartement()"
   ]
  },
  {
   "cell_type": "code",
   "execution_count": 233,
   "id": "e0ff3cb4",
   "metadata": {},
   "outputs": [
    {
     "data": {
      "text/plain": [
       "30"
      ]
     },
     "execution_count": 233,
     "metadata": {},
     "output_type": "execute_result"
    }
   ],
   "source": [
    "Chez_moi.m2"
   ]
  },
  {
   "cell_type": "code",
   "execution_count": 234,
   "id": "86776370",
   "metadata": {},
   "outputs": [
    {
     "name": "stdout",
     "output_type": "stream",
     "text": [
      "Chez moi, c'est 30m² pour 2 pièces\n"
     ]
    }
   ],
   "source": [
    "print(Chez_moi)"
   ]
  },
  {
   "cell_type": "code",
   "execution_count": 235,
   "id": "6fac3416",
   "metadata": {},
   "outputs": [],
   "source": [
    "Chez_moi.ajout_pieces() #ne fait rien mais existe ! (Peut-être utile pour des tests)"
   ]
  },
  {
   "attachments": {},
   "cell_type": "markdown",
   "id": "2d6b07fd",
   "metadata": {},
   "source": [
    "## Scope"
   ]
  },
  {
   "cell_type": "code",
   "execution_count": 236,
   "id": "67eda14c",
   "metadata": {},
   "outputs": [],
   "source": [
    "def life_modification(health):\n",
    "    vie += health "
   ]
  },
  {
   "cell_type": "raw",
   "id": "4b80245a",
   "metadata": {},
   "source": [
    "vie = 200\n",
    "life_modification(3) #la variable est locale\n",
    "\n",
    "# ERREUR ! "
   ]
  },
  {
   "cell_type": "code",
   "execution_count": 160,
   "id": "1186370d",
   "metadata": {},
   "outputs": [],
   "source": [
    "class Heros(PNJ):\n",
    "    def __init__(self,name):\n",
    "        super().__init__(self,\"Héros\")\n",
    "        self.vie = 200        "
   ]
  },
  {
   "cell_type": "code",
   "execution_count": 161,
   "id": "ebe3af13",
   "metadata": {},
   "outputs": [],
   "source": [
    "heros = Heros(\"Mario\")\n",
    "def life_modification_class(health):\n",
    "    heros.vie += health "
   ]
  },
  {
   "cell_type": "code",
   "execution_count": 163,
   "id": "9e8402a6",
   "metadata": {},
   "outputs": [],
   "source": [
    "life_modification_class(-10)"
   ]
  },
  {
   "cell_type": "code",
   "execution_count": 164,
   "id": "ccec6d15",
   "metadata": {},
   "outputs": [
    {
     "data": {
      "text/plain": [
       "190"
      ]
     },
     "execution_count": 164,
     "metadata": {},
     "output_type": "execute_result"
    }
   ],
   "source": [
    "heros.vie"
   ]
  },
  {
   "cell_type": "code",
   "execution_count": 165,
   "id": "51a05231",
   "metadata": {},
   "outputs": [],
   "source": [
    "# En gros les classes s'imisce n'importe où"
   ]
  },
  {
   "attachments": {},
   "cell_type": "markdown",
   "id": "641832a2",
   "metadata": {},
   "source": [
    "\n",
    "> Créer une classe qui définisse un système de combat entre monstre et héros\n",
    ">* Avec des types d'attaques différentes et monstres différents\n",
    ">* Diversifiez les attaques et diversifiez les monstres (pensez à l'héritage) \n"
   ]
  },
  {
   "cell_type": "code",
   "execution_count": 166,
   "id": "29cd3787",
   "metadata": {},
   "outputs": [
    {
     "data": {
      "text/plain": [
       "[__main__.Heros, __main__.PNJ, object]"
      ]
     },
     "execution_count": 166,
     "metadata": {},
     "output_type": "execute_result"
    }
   ],
   "source": [
    "Heros.mro() #object est là par défaut "
   ]
  },
  {
   "cell_type": "raw",
   "id": "dc281ca5",
   "metadata": {},
   "source": [
    "#Et on peut ainsi parler d'heritage plus complexe.\n",
    "\n",
    "Dans un jeu, si un monstre est aussi un PNJ par exemple ou une autre espèce\n",
    "\n",
    "En Deep learning on peut vouloir modifier les propriétés d'un réseaux de neurones et on doit garder le tf.Keras.Model par exemple. "
   ]
  },
  {
   "attachments": {},
   "cell_type": "markdown",
   "id": "b8f9304a",
   "metadata": {},
   "source": [
    "### Les decorateurs essentiels : "
   ]
  },
  {
   "cell_type": "code",
   "execution_count": 17,
   "id": "904d4cfa",
   "metadata": {},
   "outputs": [],
   "source": [
    "from contextlib import contextmanager\n",
    "\n",
    "class File():\n",
    "    def __init__(self, file_name, method):\n",
    "        self.file_obj = open(file_name, method)\n",
    "    def __enter__(self):\n",
    "        return self.file_obj\n",
    "    def __exit__(self, type, value, traceback):\n",
    "        self.file_obj.close()"
   ]
  },
  {
   "cell_type": "code",
   "execution_count": 18,
   "id": "80c2846c",
   "metadata": {},
   "outputs": [],
   "source": [
    "with File('demo.txt', 'w') as opened_file:\n",
    "    opened_file.write('Hola!')"
   ]
  },
  {
   "cell_type": "code",
   "execution_count": 85,
   "id": "c8291bef",
   "metadata": {},
   "outputs": [],
   "source": [
    "# Sur des bases de données SQL :\n",
    "import sqlite3\n",
    "# on va se connecter à une base de données SQL vide\n",
    "# SQLite stocke la BDD dans un simple fichier\n",
    "filepath = \"DataBase_exemple.db\"\n",
    "open(filepath, 'w').close() #crée un fichier vide\n",
    "CreateDataBase = sqlite3.connect(filepath)\n",
    "\n",
    "cur = CreateDataBase.cursor()"
   ]
  },
  {
   "cell_type": "code",
   "execution_count": 86,
   "id": "0dc9f074",
   "metadata": {},
   "outputs": [
    {
     "data": {
      "text/plain": [
       "<sqlite3.Cursor at 0x18d32c7e5c0>"
      ]
     },
     "execution_count": 86,
     "metadata": {},
     "output_type": "execute_result"
    }
   ],
   "source": [
    "cur.execute(\"\"\"CREATE TABLE ELEVE(\n",
    "            Nom text PRIMARY KEY,\n",
    "            Annee text NON NULL,\n",
    "            Maths integer NON NULL,\n",
    "            Physique integer ,\n",
    "            SVT integer ,\n",
    "            Francais integer NON NULL,\n",
    "            Economie integer\n",
    "            )\n",
    "            \"\"\")"
   ]
  },
  {
   "cell_type": "code",
   "execution_count": 87,
   "id": "2e04821b",
   "metadata": {},
   "outputs": [
    {
     "data": {
      "text/plain": [
       "('ELEVE',)"
      ]
     },
     "execution_count": 87,
     "metadata": {},
     "output_type": "execute_result"
    }
   ],
   "source": [
    "res = cur.execute(\"SELECT name FROM sqlite_master\")\n",
    "res.fetchone()"
   ]
  },
  {
   "cell_type": "code",
   "execution_count": 88,
   "id": "80ef706d",
   "metadata": {},
   "outputs": [
    {
     "data": {
      "text/plain": [
       "<sqlite3.Cursor at 0x18d32c7e5c0>"
      ]
     },
     "execution_count": 88,
     "metadata": {},
     "output_type": "execute_result"
    }
   ],
   "source": [
    "cur.execute(\"\"\"\n",
    "    INSERT INTO ELEVE VALUES\n",
    "        ('Johnattan', \"1A\", 10,13,13,10,NULL),\n",
    "        ('Léa', \"2A\", 18,11,15,NULL,7)\n",
    "\"\"\")"
   ]
  },
  {
   "cell_type": "code",
   "execution_count": 89,
   "id": "fc60ffd5",
   "metadata": {},
   "outputs": [],
   "source": [
    "CreateDataBase.commit() #commit the transaction to save it on a database"
   ]
  },
  {
   "cell_type": "code",
   "execution_count": 90,
   "id": "3b181a38",
   "metadata": {},
   "outputs": [
    {
     "data": {
      "text/plain": [
       "[('Johnattan', '1A', 10), ('Léa', '2A', 18)]"
      ]
     },
     "execution_count": 90,
     "metadata": {},
     "output_type": "execute_result"
    }
   ],
   "source": [
    "res = cur.execute(\"SELECT Nom,ANNEE,Maths FROM ELEVE\")\n",
    "res.fetchall()"
   ]
  },
  {
   "cell_type": "code",
   "execution_count": 91,
   "id": "713dbe59",
   "metadata": {},
   "outputs": [],
   "source": [
    "def notes_eleve_SQL(eleve):\n",
    "    note = (eleve,\"1A\",random.randint(0,40)/2,random.randint(0,40)/2,random.randint(0,40)/2,random.randint(0,40)/2)\n",
    "    return note"
   ]
  },
  {
   "cell_type": "code",
   "execution_count": 92,
   "id": "5724eda8",
   "metadata": {},
   "outputs": [
    {
     "data": {
      "text/plain": [
       "[('Emile', '1A', 3.0, 12.5, 1.0, 7.0),\n",
       " ('Joseph', '1A', 10.5, 1.0, 4.5, 2.0),\n",
       " ('Patrick', '1A', 8.0, 7.5, 9.0, 13.0),\n",
       " ('Léa_2', '1A', 5.5, 0.5, 19.5, 12.0),\n",
       " ('Andrew', '1A', 12.5, 1.5, 8.0, 10.0),\n",
       " ('Johanna_2', '1A', 7.0, 3.5, 3.0, 11.0)]"
      ]
     },
     "execution_count": 92,
     "metadata": {},
     "output_type": "execute_result"
    }
   ],
   "source": [
    "Liste_prenom = [\"Emile\",\"Joseph\",\"Patrick\",\"Léa_2\",\"Andrew\",\"Johanna_2\"]\n",
    "data_SQL = [notes_eleve_SQL(eleve) for eleve in Liste_prenom ]\n",
    "data_SQL"
   ]
  },
  {
   "cell_type": "code",
   "execution_count": 93,
   "id": "055df6e8",
   "metadata": {},
   "outputs": [],
   "source": [
    "cur.executemany(\"INSERT INTO ELEVE VALUES(?, ?, ?,?,?,?,NULL)\", data_SQL)\n",
    "CreateDataBase.commit()"
   ]
  },
  {
   "cell_type": "code",
   "execution_count": 94,
   "id": "280a4f86",
   "metadata": {},
   "outputs": [
    {
     "name": "stdout",
     "output_type": "stream",
     "text": [
      "('1A', 'Johnattan', 10, None)\n",
      "('1A', 'Emile', 3, None)\n",
      "('1A', 'Joseph', 10.5, None)\n",
      "('1A', 'Patrick', 8, None)\n",
      "('1A', 'Léa_2', 5.5, None)\n",
      "('1A', 'Andrew', 12.5, None)\n",
      "('1A', 'Johanna_2', 7, None)\n",
      "('2A', 'Léa', 18, 7)\n"
     ]
    }
   ],
   "source": [
    "for row in cur.execute(\"SELECT Annee, NOM,MATHS, Economie FROM ELEVE ORDER BY ANNEE\"): \n",
    "    #On a déjà défini au préalable les éléments de la table\n",
    "    print(row)"
   ]
  },
  {
   "cell_type": "code",
   "execution_count": 95,
   "id": "9e2b6d2c",
   "metadata": {},
   "outputs": [],
   "source": [
    "CreateDataBase.close()"
   ]
  },
  {
   "cell_type": "code",
   "execution_count": null,
   "id": "81b64b34",
   "metadata": {},
   "outputs": [],
   "source": [
    "#Le lien avec pandas..."
   ]
  },
  {
   "cell_type": "code",
   "execution_count": 96,
   "id": "3d6a4f02",
   "metadata": {},
   "outputs": [],
   "source": [
    "import pandas as pd"
   ]
  },
  {
   "cell_type": "code",
   "execution_count": 97,
   "id": "b7e574dc",
   "metadata": {},
   "outputs": [
    {
     "data": {
      "text/html": [
       "<div>\n",
       "<style scoped>\n",
       "    .dataframe tbody tr th:only-of-type {\n",
       "        vertical-align: middle;\n",
       "    }\n",
       "\n",
       "    .dataframe tbody tr th {\n",
       "        vertical-align: top;\n",
       "    }\n",
       "\n",
       "    .dataframe thead th {\n",
       "        text-align: right;\n",
       "    }\n",
       "</style>\n",
       "<table border=\"1\" class=\"dataframe\">\n",
       "  <thead>\n",
       "    <tr style=\"text-align: right;\">\n",
       "      <th></th>\n",
       "      <th>Nom</th>\n",
       "      <th>Annee</th>\n",
       "      <th>Maths</th>\n",
       "      <th>Physique</th>\n",
       "      <th>SVT</th>\n",
       "      <th>Francais</th>\n",
       "      <th>Economie</th>\n",
       "    </tr>\n",
       "  </thead>\n",
       "  <tbody>\n",
       "    <tr>\n",
       "      <th>0</th>\n",
       "      <td>Johnattan</td>\n",
       "      <td>1A</td>\n",
       "      <td>10.0</td>\n",
       "      <td>13.0</td>\n",
       "      <td>13.0</td>\n",
       "      <td>10.0</td>\n",
       "      <td>NaN</td>\n",
       "    </tr>\n",
       "    <tr>\n",
       "      <th>1</th>\n",
       "      <td>Léa</td>\n",
       "      <td>2A</td>\n",
       "      <td>18.0</td>\n",
       "      <td>11.0</td>\n",
       "      <td>15.0</td>\n",
       "      <td>NaN</td>\n",
       "      <td>7.0</td>\n",
       "    </tr>\n",
       "    <tr>\n",
       "      <th>2</th>\n",
       "      <td>Emile</td>\n",
       "      <td>1A</td>\n",
       "      <td>3.0</td>\n",
       "      <td>12.5</td>\n",
       "      <td>1.0</td>\n",
       "      <td>7.0</td>\n",
       "      <td>NaN</td>\n",
       "    </tr>\n",
       "    <tr>\n",
       "      <th>3</th>\n",
       "      <td>Joseph</td>\n",
       "      <td>1A</td>\n",
       "      <td>10.5</td>\n",
       "      <td>1.0</td>\n",
       "      <td>4.5</td>\n",
       "      <td>2.0</td>\n",
       "      <td>NaN</td>\n",
       "    </tr>\n",
       "    <tr>\n",
       "      <th>4</th>\n",
       "      <td>Patrick</td>\n",
       "      <td>1A</td>\n",
       "      <td>8.0</td>\n",
       "      <td>7.5</td>\n",
       "      <td>9.0</td>\n",
       "      <td>13.0</td>\n",
       "      <td>NaN</td>\n",
       "    </tr>\n",
       "  </tbody>\n",
       "</table>\n",
       "</div>"
      ],
      "text/plain": [
       "         Nom Annee  Maths  Physique   SVT  Francais  Economie\n",
       "0  Johnattan    1A   10.0      13.0  13.0      10.0       NaN\n",
       "1        Léa    2A   18.0      11.0  15.0       NaN       7.0\n",
       "2      Emile    1A    3.0      12.5   1.0       7.0       NaN\n",
       "3     Joseph    1A   10.5       1.0   4.5       2.0       NaN\n",
       "4    Patrick    1A    8.0       7.5   9.0      13.0       NaN"
      ]
     },
     "execution_count": 97,
     "metadata": {},
     "output_type": "execute_result"
    }
   ],
   "source": [
    "CreateDataBase = sqlite3.connect(filepath)\n",
    "df = pd.read_sql_query('SELECT * FROM ELEVE', CreateDataBase)\n",
    "df.head()"
   ]
  },
  {
   "cell_type": "code",
   "execution_count": 98,
   "id": "53ce1a9f",
   "metadata": {},
   "outputs": [],
   "source": [
    "CreateDataBase.close()"
   ]
  },
  {
   "attachments": {},
   "cell_type": "markdown",
   "id": "39a017bd",
   "metadata": {},
   "source": [
    "Maintenant on a vu qu'il fallait toujours veiller à fermer la base SQL...ON peut automatiser le process via un wirth statement "
   ]
  },
  {
   "cell_type": "code",
   "execution_count": 106,
   "id": "332bc513",
   "metadata": {},
   "outputs": [
    {
     "name": "stdout",
     "output_type": "stream",
     "text": [
      "[('Emile', '1A', 0, 17, 15, 4.5, None), ('Joseph', '1A', 7.5, 19.5, 1.5, 20, None), ('Patrick', '1A', 5, 12, 15, 1.5, None), ('Léa_2', '1A', 15, 5.5, 2.5, 1, None), ('Andrew', '1A', 7, 0, 19, 1.5, None), ('Johanna_2', '1A', 18, 5, 18.5, 13, None)]\n"
     ]
    }
   ],
   "source": [
    "import sqlite3\n",
    "from contextlib import contextmanager\n",
    "\n",
    "@contextmanager\n",
    "def db_ops(db_name):\n",
    "    conn = sqlite3.connect(db_name)\n",
    "    cur = conn.cursor()\n",
    "    yield cur\n",
    "    conn.commit()\n",
    "    conn.close()\n",
    "\n",
    "\n",
    "\n",
    "with db_ops('db_path') as cur:\n",
    "    cur.execute(\"\"\"CREATE TABLE if not exists ELEVE(\n",
    "            Nom text,\n",
    "            Annee text NON NULL,\n",
    "            Maths integer NON NULL,\n",
    "            Physique integer ,\n",
    "            SVT integer ,\n",
    "            Francais integer NON NULL,\n",
    "            Economie integer\n",
    "            )\n",
    "            \"\"\")\n",
    "\n",
    "with db_ops('db_path') as cur:\n",
    "    Liste_prenom = [\"Emile\",\"Joseph\",\"Patrick\",\"Léa_2\",\"Andrew\",\"Johanna_2\"]\n",
    "    data_SQL = [notes_eleve_SQL(eleve) for eleve in Liste_prenom ]\n",
    "    cur.executemany('insert into ELEVE values (?, ?,?,?,?,?,NULL)', data_SQL)\n",
    "\n",
    "with db_ops('db_path') as cur:\n",
    "    print(list(cur.execute('select * from ELEVE')))"
   ]
  },
  {
   "attachments": {},
   "cell_type": "markdown",
   "id": "83ffff89",
   "metadata": {},
   "source": [
    "#### yield statement"
   ]
  },
  {
   "cell_type": "raw",
   "id": "c0e00f5d",
   "metadata": {},
   "source": [
    "Le yield statement remplace le statement return. Il va permettre de définir ce que l'on appelle un générateur. "
   ]
  },
  {
   "cell_type": "code",
   "execution_count": 108,
   "id": "c1a093cd",
   "metadata": {},
   "outputs": [
    {
     "name": "stdout",
     "output_type": "stream",
     "text": [
      "1\n",
      "2\n",
      "3\n"
     ]
    }
   ],
   "source": [
    "def f123():\n",
    "    yield 1\n",
    "    yield 2\n",
    "    yield 3\n",
    "\n",
    "for item in f123():\n",
    "    print(item)"
   ]
  },
  {
   "cell_type": "code",
   "execution_count": 145,
   "id": "724eb5b2",
   "metadata": {},
   "outputs": [
    {
     "data": {
      "text/plain": [
       "<generator object makeRange at 0x0000018D32CF6650>"
      ]
     },
     "execution_count": 145,
     "metadata": {},
     "output_type": "execute_result"
    }
   ],
   "source": [
    "def makeRange(n):\n",
    "    # return 0,1,2,...,n-1\n",
    "    i = 0\n",
    "    while i < n:\n",
    "        yield i\n",
    "        i += 1\n",
    "\n",
    "makeRange(5)"
   ]
  },
  {
   "cell_type": "code",
   "execution_count": 147,
   "id": "918dc3e0",
   "metadata": {},
   "outputs": [
    {
     "data": {
      "text/plain": [
       "[0, 1, 2, 3, 4]"
      ]
     },
     "execution_count": 147,
     "metadata": {},
     "output_type": "execute_result"
    }
   ],
   "source": [
    "list(makeRange(5))"
   ]
  },
  {
   "cell_type": "code",
   "execution_count": null,
   "id": "c5c9cbee",
   "metadata": {},
   "outputs": [],
   "source": [
    "Exercice : recréer la fonction linspace "
   ]
  },
  {
   "cell_type": "code",
   "execution_count": null,
   "id": "acda32c0",
   "metadata": {},
   "outputs": [],
   "source": [
    "Au niveau objet on peut regarder les dunder methodes __iter__ et __next__"
   ]
  },
  {
   "cell_type": "code",
   "execution_count": 128,
   "id": "0a7fc918",
   "metadata": {},
   "outputs": [],
   "source": [
    "import random\n",
    " \n",
    "class RandomIterable:\n",
    "    def __iter__(self):\n",
    "        return self\n",
    "    def __next__(self):\n",
    "        if random.randint(0,10) > 8:\n",
    "            raise StopIteration  # signals \"the end\"\n",
    "        return 1"
   ]
  },
  {
   "cell_type": "code",
   "execution_count": 134,
   "id": "1c20326a",
   "metadata": {},
   "outputs": [
    {
     "name": "stdout",
     "output_type": "stream",
     "text": [
      "1\n",
      "1\n"
     ]
    }
   ],
   "source": [
    "for i in RandomIterable():\n",
    "    print(i)"
   ]
  },
  {
   "cell_type": "code",
   "execution_count": 164,
   "id": "f8f6407c",
   "metadata": {},
   "outputs": [],
   "source": [
    "class TextIterable():\n",
    "    def __init__(self,text):\n",
    "        self.text = text\n",
    "        self.length = len(text.split())\n",
    "        self.count = -1\n",
    "    def __iter__(self):\n",
    "        return self\n",
    "    def __next__(self):\n",
    "        self.count += 1\n",
    "        if self.count == self.length:\n",
    "            raise StopIteration  # signals \"the end\"\n",
    "        return self.text.split()[self.count]"
   ]
  },
  {
   "cell_type": "code",
   "execution_count": 165,
   "id": "26b9be2c",
   "metadata": {},
   "outputs": [
    {
     "name": "stdout",
     "output_type": "stream",
     "text": [
      "Bonjour\n",
      "vous\n",
      "allez\n",
      "bien\n",
      "?\n"
     ]
    }
   ],
   "source": [
    "textclass = TextIterable(\"Bonjour vous allez bien ?\")\n",
    "for i in textclass:\n",
    "    print(i)"
   ]
  }
 ],
 "metadata": {
  "kernelspec": {
   "display_name": "Python 3 (ipykernel)",
   "language": "python",
   "name": "python3"
  },
  "language_info": {
   "codemirror_mode": {
    "name": "ipython",
    "version": 3
   },
   "file_extension": ".py",
   "mimetype": "text/x-python",
   "name": "python",
   "nbconvert_exporter": "python",
   "pygments_lexer": "ipython3",
   "version": "3.10.11"
  }
 },
 "nbformat": 4,
 "nbformat_minor": 5
}
